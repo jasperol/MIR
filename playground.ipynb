{
 "cells": [
  {
   "cell_type": "code",
   "execution_count": 1,
   "metadata": {},
   "outputs": [],
   "source": [
    "import spotipy \n",
    "import pandas as pd\n",
    "from spotipy.oauth2 import SpotifyClientCredentials\n",
    "import os\n",
    "import pandas as pd\n",
    "from sklearn.discriminant_analysis import LinearDiscriminantAnalysis\n",
    "from sklearn.preprocessing import StandardScaler\n",
    "from sklearn.manifold import TSNE\n",
    "import seaborn as sns\n",
    "import matplotlib.pyplot as plt\n",
    "import plotly.express as px\n",
    "from sklearn.model_selection import train_test_split\n",
    "from sklearn.tree import DecisionTreeClassifier\n",
    "from sklearn.metrics import accuracy_score, classification_report"
   ]
  },
  {
   "cell_type": "code",
   "execution_count": 2,
   "metadata": {},
   "outputs": [],
   "source": [
    "def csv_generator(playlist_id):\n",
    "\n",
    "    client_id = '7d762f3b161b4d838d72ac54d2f71340' # client id\n",
    "    client_secret = '5b6baeaa550e43c0ab8b1e8d25e8a3e8' # client secret\n",
    "\n",
    "    client_credentials_manager = SpotifyClientCredentials(client_id, client_secret)\n",
    "    sp = spotipy.Spotify(client_credentials_manager=client_credentials_manager)\n",
    "\n",
    "    song_meta =  song_meta={'id':[], 'name':[], 'release_year':[], \n",
    "            'instrumentalness':[],'time_signature':[],'tempo':[],'loudness':[],'energy':[], 'danceability':[], 'valence':[], 'mode':[]}\n",
    "            \n",
    "    playlist = sp.playlist(playlist_id)\n",
    "    tracks_total = playlist['tracks']['total']\n",
    "\n",
    "    rest= tracks_total % 100 \n",
    "    iterationen = tracks_total//100\n",
    "    if rest > 0:\n",
    "        iterationen+=1\n",
    "            \n",
    "    for j in range (0,iterationen):\n",
    "            \n",
    "        # Vor jedem Durchlauf Variablen zurücksetzen\n",
    "        song_ids=[]\n",
    "            \n",
    "            # Abfrage über die Spotify API (via Spotipy)\n",
    "        offset_var=j*100 \n",
    "        \n",
    "        playlist_info = sp.playlist(playlist_id)\n",
    "        playlist_name = playlist_info['name']\n",
    "\n",
    "        results = sp.playlist_items(playlist_id, offset=offset_var)\n",
    "        \n",
    "            # Für jeden Song der Playlist (dieses Durchlaufs) die unter \"song_meta\" definierten Parameter/Informationen (Metadaten) extrahieren\n",
    "        for x in results['items']:\n",
    "            track = x['track']['id']\n",
    "                \n",
    "                # Songs, die zwar in der Playlist aufgeführt werden, aber nicht mehr abspielbar sind (Rechte, geografische Beschränkungen etc.) \n",
    "                # werden aus der Liste der zu analysierenden Songs entfernt\n",
    "            if track:\n",
    "                song_ids.append(track)\n",
    "                    \n",
    "        for song_id in song_ids:\n",
    "                \n",
    "            meta=sp.track(song_id)\n",
    "            features=sp.audio_features(song_id)\n",
    "            \n",
    "            song_meta['id'].append(song_id)\n",
    "            \n",
    "            song_meta['name'].append(meta['name'])\n",
    "            \n",
    "            date = meta['album']['release_date']\n",
    "            song_meta['release_year'].append(date[0:4])\n",
    "            \n",
    "            song_meta['instrumentalness'].append(features[0]['instrumentalness'])\n",
    "            \n",
    "            song_meta['time_signature'].append(features[0]['time_signature'])\n",
    "            \n",
    "            song_meta['tempo'].append(features[0]['tempo'])\n",
    "            \n",
    "            song_meta['loudness'].append(features[0]['loudness'])\n",
    "            \n",
    "            song_meta['energy'].append(features[0]['energy'])\n",
    "                    \n",
    "            song_meta['danceability'].append(features[0]['danceability'])\n",
    "            \n",
    "            song_meta['valence'].append(features[0]['valence'])\n",
    "            \n",
    "            mode = features[0]['mode']\n",
    "            song_meta['mode'].append('Major' if mode == 1 else 'Minor')\n",
    "                \n",
    "        j+=1\n",
    "        \n",
    "    song_meta_df=pd.DataFrame(song_meta)\n",
    "    \n",
    "    return song_meta_df, playlist_name"
   ]
  },
  {
   "cell_type": "code",
   "execution_count": 6,
   "metadata": {},
   "outputs": [
    {
     "name": "stderr",
     "output_type": "stream",
     "text": [
      "HTTP Error for GET to https://api.spotify.com/v1/playlists/EBM37i9dQZF1EIdMHrGUicWP2 with Params: {'fields': None, 'market': None, 'additional_types': 'track'} returned 400 due to Invalid base62 id\n"
     ]
    },
    {
     "ename": "SpotifyException",
     "evalue": "http status: 400, code:-1 - https://api.spotify.com/v1/playlists/EBM37i9dQZF1EIdMHrGUicWP2?additional_types=track:\n Invalid base62 id, reason: None",
     "output_type": "error",
     "traceback": [
      "\u001b[1;31m---------------------------------------------------------------------------\u001b[0m",
      "\u001b[1;31mHTTPError\u001b[0m                                 Traceback (most recent call last)",
      "File \u001b[1;32mc:\\Users\\MTDML_WS-3\\anaconda3\\envs\\MIR\\Lib\\site-packages\\spotipy\\client.py:271\u001b[0m, in \u001b[0;36mSpotify._internal_call\u001b[1;34m(self, method, url, payload, params)\u001b[0m\n\u001b[0;32m    266\u001b[0m response \u001b[38;5;241m=\u001b[39m \u001b[38;5;28mself\u001b[39m\u001b[38;5;241m.\u001b[39m_session\u001b[38;5;241m.\u001b[39mrequest(\n\u001b[0;32m    267\u001b[0m     method, url, headers\u001b[38;5;241m=\u001b[39mheaders, proxies\u001b[38;5;241m=\u001b[39m\u001b[38;5;28mself\u001b[39m\u001b[38;5;241m.\u001b[39mproxies,\n\u001b[0;32m    268\u001b[0m     timeout\u001b[38;5;241m=\u001b[39m\u001b[38;5;28mself\u001b[39m\u001b[38;5;241m.\u001b[39mrequests_timeout, \u001b[38;5;241m*\u001b[39m\u001b[38;5;241m*\u001b[39margs\n\u001b[0;32m    269\u001b[0m )\n\u001b[1;32m--> 271\u001b[0m \u001b[43mresponse\u001b[49m\u001b[38;5;241;43m.\u001b[39;49m\u001b[43mraise_for_status\u001b[49m\u001b[43m(\u001b[49m\u001b[43m)\u001b[49m\n\u001b[0;32m    272\u001b[0m results \u001b[38;5;241m=\u001b[39m response\u001b[38;5;241m.\u001b[39mjson()\n",
      "File \u001b[1;32mc:\\Users\\MTDML_WS-3\\anaconda3\\envs\\MIR\\Lib\\site-packages\\requests\\models.py:1024\u001b[0m, in \u001b[0;36mResponse.raise_for_status\u001b[1;34m(self)\u001b[0m\n\u001b[0;32m   1023\u001b[0m \u001b[38;5;28;01mif\u001b[39;00m http_error_msg:\n\u001b[1;32m-> 1024\u001b[0m     \u001b[38;5;28;01mraise\u001b[39;00m HTTPError(http_error_msg, response\u001b[38;5;241m=\u001b[39m\u001b[38;5;28mself\u001b[39m)\n",
      "\u001b[1;31mHTTPError\u001b[0m: 400 Client Error: Bad Request for url: https://api.spotify.com/v1/playlists/EBM37i9dQZF1EIdMHrGUicWP2?additional_types=track",
      "\nDuring handling of the above exception, another exception occurred:\n",
      "\u001b[1;31mSpotifyException\u001b[0m                          Traceback (most recent call last)",
      "Cell \u001b[1;32mIn[6], line 74\u001b[0m\n\u001b[0;32m     68\u001b[0m ids\u001b[38;5;241m=\u001b[39m[\n\u001b[0;32m     69\u001b[0m \u001b[38;5;124m\"\u001b[39m\u001b[38;5;124mEBM37i9dQZF1EIdMHrGUicWP2\u001b[39m\u001b[38;5;124m\"\u001b[39m ]\n\u001b[0;32m     72\u001b[0m \u001b[38;5;28;01mfor\u001b[39;00m playlist_id \u001b[38;5;129;01min\u001b[39;00m ids:\n\u001b[1;32m---> 74\u001b[0m     df,name \u001b[38;5;241m=\u001b[39m \u001b[43mcsv_generator\u001b[49m\u001b[43m(\u001b[49m\u001b[43mplaylist_id\u001b[49m\u001b[43m)\u001b[49m\n\u001b[0;32m     76\u001b[0m     save_path \u001b[38;5;241m=\u001b[39m \u001b[38;5;124m'\u001b[39m\u001b[38;5;124mCSVs/genres/industrial\u001b[39m\u001b[38;5;124m'\u001b[39m\n\u001b[0;32m     78\u001b[0m     \u001b[38;5;66;03m# DataFrame in eine CSV-Datei exportieren\u001b[39;00m\n",
      "Cell \u001b[1;32mIn[2], line 12\u001b[0m, in \u001b[0;36mcsv_generator\u001b[1;34m(playlist_id)\u001b[0m\n\u001b[0;32m      7\u001b[0m sp \u001b[38;5;241m=\u001b[39m spotipy\u001b[38;5;241m.\u001b[39mSpotify(client_credentials_manager\u001b[38;5;241m=\u001b[39mclient_credentials_manager)\n\u001b[0;32m      9\u001b[0m song_meta \u001b[38;5;241m=\u001b[39m  song_meta\u001b[38;5;241m=\u001b[39m{\u001b[38;5;124m'\u001b[39m\u001b[38;5;124mid\u001b[39m\u001b[38;5;124m'\u001b[39m:[], \u001b[38;5;124m'\u001b[39m\u001b[38;5;124mname\u001b[39m\u001b[38;5;124m'\u001b[39m:[], \u001b[38;5;124m'\u001b[39m\u001b[38;5;124mrelease_year\u001b[39m\u001b[38;5;124m'\u001b[39m:[], \n\u001b[0;32m     10\u001b[0m         \u001b[38;5;124m'\u001b[39m\u001b[38;5;124minstrumentalness\u001b[39m\u001b[38;5;124m'\u001b[39m:[],\u001b[38;5;124m'\u001b[39m\u001b[38;5;124mtime_signature\u001b[39m\u001b[38;5;124m'\u001b[39m:[],\u001b[38;5;124m'\u001b[39m\u001b[38;5;124mtempo\u001b[39m\u001b[38;5;124m'\u001b[39m:[],\u001b[38;5;124m'\u001b[39m\u001b[38;5;124mloudness\u001b[39m\u001b[38;5;124m'\u001b[39m:[],\u001b[38;5;124m'\u001b[39m\u001b[38;5;124menergy\u001b[39m\u001b[38;5;124m'\u001b[39m:[], \u001b[38;5;124m'\u001b[39m\u001b[38;5;124mdanceability\u001b[39m\u001b[38;5;124m'\u001b[39m:[], \u001b[38;5;124m'\u001b[39m\u001b[38;5;124mvalence\u001b[39m\u001b[38;5;124m'\u001b[39m:[], \u001b[38;5;124m'\u001b[39m\u001b[38;5;124mmode\u001b[39m\u001b[38;5;124m'\u001b[39m:[]}\n\u001b[1;32m---> 12\u001b[0m playlist \u001b[38;5;241m=\u001b[39m \u001b[43msp\u001b[49m\u001b[38;5;241;43m.\u001b[39;49m\u001b[43mplaylist\u001b[49m\u001b[43m(\u001b[49m\u001b[43mplaylist_id\u001b[49m\u001b[43m)\u001b[49m\n\u001b[0;32m     13\u001b[0m tracks_total \u001b[38;5;241m=\u001b[39m playlist[\u001b[38;5;124m'\u001b[39m\u001b[38;5;124mtracks\u001b[39m\u001b[38;5;124m'\u001b[39m][\u001b[38;5;124m'\u001b[39m\u001b[38;5;124mtotal\u001b[39m\u001b[38;5;124m'\u001b[39m]\n\u001b[0;32m     15\u001b[0m rest\u001b[38;5;241m=\u001b[39m tracks_total \u001b[38;5;241m%\u001b[39m \u001b[38;5;241m100\u001b[39m \n",
      "File \u001b[1;32mc:\\Users\\MTDML_WS-3\\anaconda3\\envs\\MIR\\Lib\\site-packages\\spotipy\\client.py:651\u001b[0m, in \u001b[0;36mSpotify.playlist\u001b[1;34m(self, playlist_id, fields, market, additional_types)\u001b[0m\n\u001b[0;32m    640\u001b[0m \u001b[38;5;250m\u001b[39m\u001b[38;5;124;03m\"\"\" Gets playlist by id.\u001b[39;00m\n\u001b[0;32m    641\u001b[0m \n\u001b[0;32m    642\u001b[0m \u001b[38;5;124;03m    Parameters:\u001b[39;00m\n\u001b[1;32m   (...)\u001b[0m\n\u001b[0;32m    648\u001b[0m \u001b[38;5;124;03m                             valid types are: track and episode\u001b[39;00m\n\u001b[0;32m    649\u001b[0m \u001b[38;5;124;03m\"\"\"\u001b[39;00m\n\u001b[0;32m    650\u001b[0m plid \u001b[38;5;241m=\u001b[39m \u001b[38;5;28mself\u001b[39m\u001b[38;5;241m.\u001b[39m_get_id(\u001b[38;5;124m\"\u001b[39m\u001b[38;5;124mplaylist\u001b[39m\u001b[38;5;124m\"\u001b[39m, playlist_id)\n\u001b[1;32m--> 651\u001b[0m \u001b[38;5;28;01mreturn\u001b[39;00m \u001b[38;5;28;43mself\u001b[39;49m\u001b[38;5;241;43m.\u001b[39;49m\u001b[43m_get\u001b[49m\u001b[43m(\u001b[49m\n\u001b[0;32m    652\u001b[0m \u001b[43m    \u001b[49m\u001b[38;5;124;43m\"\u001b[39;49m\u001b[38;5;124;43mplaylists/\u001b[39;49m\u001b[38;5;132;43;01m%s\u001b[39;49;00m\u001b[38;5;124;43m\"\u001b[39;49m\u001b[43m \u001b[49m\u001b[38;5;241;43m%\u001b[39;49m\u001b[43m \u001b[49m\u001b[43m(\u001b[49m\u001b[43mplid\u001b[49m\u001b[43m)\u001b[49m\u001b[43m,\u001b[49m\n\u001b[0;32m    653\u001b[0m \u001b[43m    \u001b[49m\u001b[43mfields\u001b[49m\u001b[38;5;241;43m=\u001b[39;49m\u001b[43mfields\u001b[49m\u001b[43m,\u001b[49m\n\u001b[0;32m    654\u001b[0m \u001b[43m    \u001b[49m\u001b[43mmarket\u001b[49m\u001b[38;5;241;43m=\u001b[39;49m\u001b[43mmarket\u001b[49m\u001b[43m,\u001b[49m\n\u001b[0;32m    655\u001b[0m \u001b[43m    \u001b[49m\u001b[43madditional_types\u001b[49m\u001b[38;5;241;43m=\u001b[39;49m\u001b[38;5;124;43m\"\u001b[39;49m\u001b[38;5;124;43m,\u001b[39;49m\u001b[38;5;124;43m\"\u001b[39;49m\u001b[38;5;241;43m.\u001b[39;49m\u001b[43mjoin\u001b[49m\u001b[43m(\u001b[49m\u001b[43madditional_types\u001b[49m\u001b[43m)\u001b[49m\u001b[43m,\u001b[49m\n\u001b[0;32m    656\u001b[0m \u001b[43m\u001b[49m\u001b[43m)\u001b[49m\n",
      "File \u001b[1;32mc:\\Users\\MTDML_WS-3\\anaconda3\\envs\\MIR\\Lib\\site-packages\\spotipy\\client.py:323\u001b[0m, in \u001b[0;36mSpotify._get\u001b[1;34m(self, url, args, payload, **kwargs)\u001b[0m\n\u001b[0;32m    320\u001b[0m \u001b[38;5;28;01mif\u001b[39;00m args:\n\u001b[0;32m    321\u001b[0m     kwargs\u001b[38;5;241m.\u001b[39mupdate(args)\n\u001b[1;32m--> 323\u001b[0m \u001b[38;5;28;01mreturn\u001b[39;00m \u001b[38;5;28;43mself\u001b[39;49m\u001b[38;5;241;43m.\u001b[39;49m\u001b[43m_internal_call\u001b[49m\u001b[43m(\u001b[49m\u001b[38;5;124;43m\"\u001b[39;49m\u001b[38;5;124;43mGET\u001b[39;49m\u001b[38;5;124;43m\"\u001b[39;49m\u001b[43m,\u001b[49m\u001b[43m \u001b[49m\u001b[43murl\u001b[49m\u001b[43m,\u001b[49m\u001b[43m \u001b[49m\u001b[43mpayload\u001b[49m\u001b[43m,\u001b[49m\u001b[43m \u001b[49m\u001b[43mkwargs\u001b[49m\u001b[43m)\u001b[49m\n",
      "File \u001b[1;32mc:\\Users\\MTDML_WS-3\\anaconda3\\envs\\MIR\\Lib\\site-packages\\spotipy\\client.py:293\u001b[0m, in \u001b[0;36mSpotify._internal_call\u001b[1;34m(self, method, url, payload, params)\u001b[0m\n\u001b[0;32m    286\u001b[0m         reason \u001b[38;5;241m=\u001b[39m \u001b[38;5;28;01mNone\u001b[39;00m\n\u001b[0;32m    288\u001b[0m     logger\u001b[38;5;241m.\u001b[39merror(\n\u001b[0;32m    289\u001b[0m         \u001b[38;5;124m'\u001b[39m\u001b[38;5;124mHTTP Error for \u001b[39m\u001b[38;5;132;01m%s\u001b[39;00m\u001b[38;5;124m to \u001b[39m\u001b[38;5;132;01m%s\u001b[39;00m\u001b[38;5;124m with Params: \u001b[39m\u001b[38;5;132;01m%s\u001b[39;00m\u001b[38;5;124m returned \u001b[39m\u001b[38;5;132;01m%s\u001b[39;00m\u001b[38;5;124m due to \u001b[39m\u001b[38;5;132;01m%s\u001b[39;00m\u001b[38;5;124m'\u001b[39m,\n\u001b[0;32m    290\u001b[0m         method, url, args\u001b[38;5;241m.\u001b[39mget(\u001b[38;5;124m\"\u001b[39m\u001b[38;5;124mparams\u001b[39m\u001b[38;5;124m\"\u001b[39m), response\u001b[38;5;241m.\u001b[39mstatus_code, msg\n\u001b[0;32m    291\u001b[0m     )\n\u001b[1;32m--> 293\u001b[0m     \u001b[38;5;28;01mraise\u001b[39;00m SpotifyException(\n\u001b[0;32m    294\u001b[0m         response\u001b[38;5;241m.\u001b[39mstatus_code,\n\u001b[0;32m    295\u001b[0m         \u001b[38;5;241m-\u001b[39m\u001b[38;5;241m1\u001b[39m,\n\u001b[0;32m    296\u001b[0m         \u001b[38;5;124m\"\u001b[39m\u001b[38;5;132;01m%s\u001b[39;00m\u001b[38;5;124m:\u001b[39m\u001b[38;5;130;01m\\n\u001b[39;00m\u001b[38;5;124m \u001b[39m\u001b[38;5;132;01m%s\u001b[39;00m\u001b[38;5;124m\"\u001b[39m \u001b[38;5;241m%\u001b[39m (response\u001b[38;5;241m.\u001b[39murl, msg),\n\u001b[0;32m    297\u001b[0m         reason\u001b[38;5;241m=\u001b[39mreason,\n\u001b[0;32m    298\u001b[0m         headers\u001b[38;5;241m=\u001b[39mresponse\u001b[38;5;241m.\u001b[39mheaders,\n\u001b[0;32m    299\u001b[0m     )\n\u001b[0;32m    300\u001b[0m \u001b[38;5;28;01mexcept\u001b[39;00m requests\u001b[38;5;241m.\u001b[39mexceptions\u001b[38;5;241m.\u001b[39mRetryError \u001b[38;5;28;01mas\u001b[39;00m retry_error:\n\u001b[0;32m    301\u001b[0m     request \u001b[38;5;241m=\u001b[39m retry_error\u001b[38;5;241m.\u001b[39mrequest\n",
      "\u001b[1;31mSpotifyException\u001b[0m: http status: 400, code:-1 - https://api.spotify.com/v1/playlists/EBM37i9dQZF1EIdMHrGUicWP2?additional_types=track:\n Invalid base62 id, reason: None"
     ]
    }
   ],
   "source": [
    "House = '37i9dQZF1EIeXVd9c2ss7N'\n",
    "\n",
    "Acid_House = \"37i9dQZF1DXbwcS5W73XRr\" \n",
    "Tech_House = \"37i9dQZF1EIdYGLEcJ1MOg\" \n",
    "Deep_House = \"37i9dQZF1EId9cZrsKjzaP\" \n",
    "French_House = \"37i9dQZF1EIcuiL1mpCAIt\"\n",
    "Tribal_House = \"37i9dQZF1EIfQajB6XcU1O\" \n",
    "Dub_House = \"37i9dQZF1EIgYC5qlaBSCs\"\n",
    "Minimal_House = \"37i9dQZF1EIdYO7IChD0MX\" \n",
    "\n",
    "Techno='37i9dQZF1EIeKh45OZ1ylm'\n",
    "\n",
    "Dub_Techno=\"37i9dQZF1EIhEDoRLX0DrX\" \n",
    "Minimal_Techno=\"37i9dQZF1EIeF5mYoojHrz\" \n",
    "Acid_Techno=\"37i9dQZF1EIfsVc99Phh0A\" \n",
    "Hardstyle_Techno=\"37i9dQZF1EIf4juIdMs3fA\"   \n",
    "Tribal_Techno=\"37i9dQZF1EIdKNQuNzAsGK\" \n",
    "French_Techno=\"37i9dQZF1EIhP1b0R1k2bH\" \n",
    "Melodic_Techno=\"37i9dQZF1EIdec6qRjNYma\"\n",
    "\n",
    "Breakbeat='37i9dQZF1EIctO9E5tx0pp'\n",
    "\n",
    "Breakcore=\"37i9dQZF1EIcwtrihYBzLc\"\n",
    "Drum_n_Bass=\"37i9dQZF1EIherXksVvnrN\" \n",
    "Liquid_Drum_n_Bass=\"1ZPoSkFGARRV0ZZEVG3hIw\" \n",
    "Jungle=\"37i9dQZF1EIfSTBvJ0oK9r\"  \n",
    "Jump_Up=\"37i9dQZF1DX4to60X6goeK\" \n",
    "Funky_Breaks=\"37i9dQZF1EIeUC5PSLUKZ5\" \n",
    "Nu_Skool_Breaks=\"37i9dQZF1EIfa4SOXWW4uW\" \n",
    "\n",
    "Trance='37i9dQZF1DXbtYAdenGE9U'\n",
    "\n",
    "Acid_Trance=\"37i9dQZF1EIg6Tz5eO41Eb\" \n",
    "Goa=\"37i9dQZF1EIejWfFUKOmPZ\" \n",
    "Psytrance=\"37i9dQZF1EIgsqtnjgdsOe\" \n",
    "Tech_Trance=\"37i9dQZF1EIhD0vkYxpTwX\" \n",
    "Dub_Trance=\"37i9dQZF1EIcqosfYVq5Fs\" \n",
    "\n",
    "Hardcore='37i9dQZF1EIexrP9IBJXx5'\n",
    "\n",
    "Speedcore=\"37i9dQZF1EIfVREkRuvHOQ\" \n",
    "Darkcore=\"37i9dQZF1EIcI0ylpAxYA9\" \n",
    "Frenchcore=\"37i9dQZF1EIh2LoMooAkWI\" \n",
    "Trancecore=\"37i9dQZF1EIgGW6cWdNRXo\" \n",
    "Gabber=\"37i9dQZF1EIfM1AoS6u10M\" \n",
    "Extratone=\"37i9dQZF1EIfgFB1HlKhbP\" \n",
    "\n",
    "Garage='37i9dQZF1EIgK79rhfYjQ4'\n",
    "\n",
    "UK_Garage=\"37i9dQZF1EIfvIYxbwTls1\" \n",
    "Speed_Garage=\"37i9dQZF1EIgLKjxQpaJeo\" \n",
    "Grime=\"37i9dQZF1EIfjNadf8dnTb\" \n",
    "Dubstep=\"37i9dQZF1EIeh9ieKsgN2r\" \n",
    "_2_step=\"37i9dQZF1EIhHjuYNuuSDa\" \n",
    "Melodic_Dubstep=\"37i9dQZF1EIhBF9gUW4UsT\" \n",
    "\n",
    "Industrial='37i9dQZF1EIdCN0JCOlZaC'\n",
    "\n",
    "Dark_Industrial_Techno=\"37i9dQZF1EIcM7vKLqtJgT\" \n",
    "Industrial_Dance=\"37i9dQZF1EIfOWN0BOAQS3\" \n",
    "Aggrotech=\"37i9dQZF1EIhtLLoyLGKUv\" \n",
    "Power_Electronics=\"37i9dQZF1EIcRfTRP9sC8u\" \n",
    "Harsh_noise=\"37i9dQZF1EIfOUIa1WnkqX\" \n",
    "EBM=\"EBM37i9dQZF1EIdMHrGUicWP2\" \n",
    "\n",
    "Disco='37i9dQZF1EIcSYMklTKqhT'\n",
    "\n",
    "ids=[\n",
    "\"37i9dQZF1EIfOUIa1WnkqX\", \n",
    "\"EBM37i9dQZF1EIdMHrGUicWP2\" ]\n",
    "\n",
    "# run with these two ids when entries is reset, and add disco subgenres, then download audiofiles of genres, embedding and compare\n",
    "\n",
    "for playlist_id in ids:\n",
    "    \n",
    "    df,name = csv_generator(playlist_id)\n",
    "\n",
    "    save_path = 'CSVs/genres/industrial'\n",
    "\n",
    "    # DataFrame in eine CSV-Datei exportieren\n",
    "    csv_file_path = os.path.join(save_path, f'{name}_music.csv')\n",
    "    df.to_csv(csv_file_path, encoding='utf8')"
   ]
  },
  {
   "cell_type": "code",
   "execution_count": 3,
   "metadata": {},
   "outputs": [],
   "source": [
    "def save_csv(path, df, name):\n",
    "    # DataFrame in eine CSV-Datei exportieren\n",
    "    csv_file_path = os.path.join(path, f'{name}.csv')\n",
    "    df.to_csv(csv_file_path, index=False, encoding='utf8', decimal=',', sep=';')"
   ]
  },
  {
   "cell_type": "code",
   "execution_count": 2,
   "metadata": {},
   "outputs": [],
   "source": [
    "import pandas as pd\n",
    "from sklearn.model_selection import train_test_split\n",
    "from sklearn.tree import DecisionTreeClassifier\n",
    "from sklearn.metrics import accuracy_score, classification_report\n",
    "\n",
    "# Assuming your data is loaded into a DataFrame 'df' with features and target 'genre'\n",
    "def feature_importance_dTree(X,y,df):\n",
    "\n",
    "    # Initialize Decision Tree Classifier\n",
    "    clf = DecisionTreeClassifier(max_depth=20, random_state=42)\n",
    "    \n",
    "    # Split data into training and testing sets\n",
    "    X_train, X_test, y_train, y_test = train_test_split(X, y, test_size=0.2, random_state=42)\n",
    "\n",
    "    # Train the classifier\n",
    "    clf.fit(X_train, y_train)\n",
    "\n",
    "    # Predictions on the test set\n",
    "    y_pred = clf.predict(X_test)\n",
    "\n",
    "    # Evaluate model performance\n",
    "    accuracy = accuracy_score(y_test, y_pred)\n",
    "\n",
    "    # Feature importances\n",
    "    feature_importances = clf.feature_importances_\n",
    "    importance_df = pd.DataFrame({'Feature': df.columns[:-1], 'Importance': feature_importances})\n",
    "    importance_df = importance_df.sort_values(by='Importance', ascending=False)\n",
    "\n",
    "    # Group by 'class' and calculate mean, median, and standard deviation values\n",
    "    genre_means = df.groupby('class').mean()\n",
    "    genre_medians = df.groupby('class').median()\n",
    "    genre_stds = df.groupby('class').std()\n",
    "\n",
    "    # Rename columns for clarity\n",
    "    mean_columns = {col: f'{col}_mean' for col in genre_means.columns}\n",
    "    median_columns = {col: f'{col}_median' for col in genre_medians.columns}\n",
    "    std_columns = {col: f'{col}_std' for col in genre_stds.columns}\n",
    "\n",
    "    genre_means = genre_means.rename(columns=mean_columns)\n",
    "    genre_medians = genre_medians.rename(columns=median_columns)\n",
    "    genre_stds = genre_stds.rename(columns=std_columns)\n",
    "\n",
    "    # Combine mean, median, and standard deviation into one DataFrame\n",
    "    combined_df = pd.concat([genre_means, genre_medians, genre_stds], axis=1)\n",
    "\n",
    "    \n",
    "    return importance_df, combined_df, accuracy\n",
    "\n"
   ]
  },
  {
   "cell_type": "code",
   "execution_count": 63,
   "metadata": {},
   "outputs": [],
   "source": [
    "import pandas as pd\n",
    "import numpy as np\n",
    "from sklearn.discriminant_analysis import LinearDiscriminantAnalysis\n",
    "from sklearn.preprocessing import StandardScaler, PolynomialFeatures\n",
    "from sklearn.manifold import TSNE\n",
    "from sklearn.decomposition import PCA\n",
    "import plotly.express as px\n",
    "\n",
    "def save_csv(path, data, name):\n",
    "    full_path = f\"{path}/{name}.csv\"\n",
    "    data.to_csv(full_path, index=False)\n",
    "\n",
    "def plot_in_space(X, Y, dim_red, degree, names):\n",
    "\n",
    "    # Normalize the data\n",
    "    scaler = StandardScaler()\n",
    "    save_path = 'CSVs/LDA coefficients'\n",
    "    \n",
    "    if dim_red == \"PCA\":\n",
    "        pca = PCA(n_components=3)\n",
    "        X_scaled = scaler.fit_transform(X)\n",
    "        result = pca.fit_transform(X_scaled)\n",
    "\n",
    "    elif dim_red == \"poly_LDA\":  \n",
    "        result = []\n",
    "        polynomial_features_used = []\n",
    "        coefficients_used=[]\n",
    "        for i in range(len(X)):\n",
    "            X_scaled = scaler.fit_transform(X[i])\n",
    "            poly = PolynomialFeatures(degree)\n",
    "            X_poly = poly.fit_transform(X_scaled)\n",
    "\n",
    "            lda = LinearDiscriminantAnalysis(n_components=3)\n",
    "            result.append(lda.fit_transform(X_poly, Y[i]))\n",
    "            \n",
    "            polynomial_features_used.append(poly.get_feature_names_out())\n",
    "            # Store the coefficients\n",
    "            coefficients_used.append(lda.coef_[0])\n",
    "\n",
    "            # Display the polynomial features used and their coefficients\n",
    "            print(f\"Polynomial features and coefficients for dataset {names[i]}:\")\n",
    "            for feat, coef in zip(poly.get_feature_names_out(), lda.coef_[0]):\n",
    "                print(f\"Feature '{feat}': Coefficient = {coef}\")\n",
    "\n",
    "    elif dim_red == \"t-SNE\":\n",
    "        tsne = TSNE(n_components=3, random_state=42)\n",
    "        X_scaled = scaler.fit_transform(X)\n",
    "        result = tsne.fit_transform(X_scaled)\n",
    "\n",
    "    # Combine data for easier plotting\n",
    "    if dim_red != \"poly_LDA\":\n",
    "        x = result[:, 0]\n",
    "        y = result[:, 1]\n",
    "        z = result[:, 2]\n",
    "        labels = Y\n",
    "    else:\n",
    "        x = np.concatenate([res[:, 0] for res in result])\n",
    "        y = np.concatenate([res[:, 1] for res in result])\n",
    "        z = np.concatenate([res[:, 2] for res in result])\n",
    "        labels = np.concatenate(Y)\n",
    "        symbols = np.concatenate([np.full(len(array), i) for i, array in enumerate(Y)])\n",
    "\n",
    "        \n",
    "    # Create a dataframe\n",
    "    df = pd.DataFrame({\n",
    "        'x': x,\n",
    "        'y': y,\n",
    "        'z': z,\n",
    "        'label': labels\n",
    "    })\n",
    "\n",
    "\n",
    "    # Plot using Plotly Express\n",
    "    fig = px.scatter_3d(\n",
    "        df, \n",
    "        x='x', \n",
    "        y='y', \n",
    "        z='z', \n",
    "        color='label', \n",
    "        symbol=symbols,\n",
    "        title='3D Scatter Plot Colored by Subcategory',\n",
    "        color_continuous_scale='Viridis'\n",
    "    )\n",
    "\n",
    "    fig.show()\n",
    "    print(polynomial_features_used)\n",
    "\n"
   ]
  },
  {
   "cell_type": "code",
   "execution_count": 7,
   "metadata": {},
   "outputs": [
    {
     "ename": "NameError",
     "evalue": "name 'directory' is not defined",
     "output_type": "error",
     "traceback": [
      "\u001b[1;31m---------------------------------------------------------------------------\u001b[0m",
      "\u001b[1;31mNameError\u001b[0m                                 Traceback (most recent call last)",
      "Cell \u001b[1;32mIn[7], line 4\u001b[0m\n\u001b[0;32m      2\u001b[0m files \u001b[38;5;241m=\u001b[39m []\n\u001b[0;32m      3\u001b[0m \u001b[38;5;28;01mfor\u001b[39;00m item \u001b[38;5;129;01min\u001b[39;00m os\u001b[38;5;241m.\u001b[39mlistdir(\u001b[38;5;124m'\u001b[39m\u001b[38;5;124mCSVs/genres\u001b[39m\u001b[38;5;124m'\u001b[39m):\n\u001b[1;32m----> 4\u001b[0m     \u001b[38;5;28;01mif\u001b[39;00m os\u001b[38;5;241m.\u001b[39mpath\u001b[38;5;241m.\u001b[39misfile(os\u001b[38;5;241m.\u001b[39mpath\u001b[38;5;241m.\u001b[39mjoin(\u001b[43mdirectory\u001b[49m, item)):\n\u001b[0;32m      5\u001b[0m         files\u001b[38;5;241m.\u001b[39mappend(item)\n",
      "\u001b[1;31mNameError\u001b[0m: name 'directory' is not defined"
     ]
    }
   ],
   "source": [
    "genres_names=['techno','house','breakbeat','trance','hardcore','industrial','garage']\n",
    "files = []\n",
    "for item in os.listdir('CSVs/genres'):\n",
    "    if os.path.isfile(os.path.join(directory, item)):\n",
    "        files.append(item)"
   ]
  },
  {
   "cell_type": "code",
   "execution_count": 6,
   "metadata": {},
   "outputs": [
    {
     "name": "stderr",
     "output_type": "stream",
     "text": [
      "C:\\Users\\MTDML_WS-3\\AppData\\Local\\Temp\\ipykernel_12796\\3152476239.py:20: SettingWithCopyWarning: \n",
      "A value is trying to be set on a copy of a slice from a DataFrame.\n",
      "Try using .loc[row_indexer,col_indexer] = value instead\n",
      "\n",
      "See the caveats in the documentation: https://pandas.pydata.org/pandas-docs/stable/user_guide/indexing.html#returning-a-view-versus-a-copy\n",
      "  selec_list[j][i].loc[:, 'class'] = names_CSVs[j][i]\n",
      "C:\\Users\\MTDML_WS-3\\AppData\\Local\\Temp\\ipykernel_12796\\3152476239.py:20: SettingWithCopyWarning: \n",
      "A value is trying to be set on a copy of a slice from a DataFrame.\n",
      "Try using .loc[row_indexer,col_indexer] = value instead\n",
      "\n",
      "See the caveats in the documentation: https://pandas.pydata.org/pandas-docs/stable/user_guide/indexing.html#returning-a-view-versus-a-copy\n",
      "  selec_list[j][i].loc[:, 'class'] = names_CSVs[j][i]\n",
      "C:\\Users\\MTDML_WS-3\\AppData\\Local\\Temp\\ipykernel_12796\\3152476239.py:20: SettingWithCopyWarning: \n",
      "A value is trying to be set on a copy of a slice from a DataFrame.\n",
      "Try using .loc[row_indexer,col_indexer] = value instead\n",
      "\n",
      "See the caveats in the documentation: https://pandas.pydata.org/pandas-docs/stable/user_guide/indexing.html#returning-a-view-versus-a-copy\n",
      "  selec_list[j][i].loc[:, 'class'] = names_CSVs[j][i]\n",
      "C:\\Users\\MTDML_WS-3\\AppData\\Local\\Temp\\ipykernel_12796\\3152476239.py:20: SettingWithCopyWarning: \n",
      "A value is trying to be set on a copy of a slice from a DataFrame.\n",
      "Try using .loc[row_indexer,col_indexer] = value instead\n",
      "\n",
      "See the caveats in the documentation: https://pandas.pydata.org/pandas-docs/stable/user_guide/indexing.html#returning-a-view-versus-a-copy\n",
      "  selec_list[j][i].loc[:, 'class'] = names_CSVs[j][i]\n",
      "C:\\Users\\MTDML_WS-3\\AppData\\Local\\Temp\\ipykernel_12796\\3152476239.py:20: SettingWithCopyWarning: \n",
      "A value is trying to be set on a copy of a slice from a DataFrame.\n",
      "Try using .loc[row_indexer,col_indexer] = value instead\n",
      "\n",
      "See the caveats in the documentation: https://pandas.pydata.org/pandas-docs/stable/user_guide/indexing.html#returning-a-view-versus-a-copy\n",
      "  selec_list[j][i].loc[:, 'class'] = names_CSVs[j][i]\n",
      "C:\\Users\\MTDML_WS-3\\AppData\\Local\\Temp\\ipykernel_12796\\3152476239.py:20: SettingWithCopyWarning: \n",
      "A value is trying to be set on a copy of a slice from a DataFrame.\n",
      "Try using .loc[row_indexer,col_indexer] = value instead\n",
      "\n",
      "See the caveats in the documentation: https://pandas.pydata.org/pandas-docs/stable/user_guide/indexing.html#returning-a-view-versus-a-copy\n",
      "  selec_list[j][i].loc[:, 'class'] = names_CSVs[j][i]\n",
      "C:\\Users\\MTDML_WS-3\\AppData\\Local\\Temp\\ipykernel_12796\\3152476239.py:20: SettingWithCopyWarning: \n",
      "A value is trying to be set on a copy of a slice from a DataFrame.\n",
      "Try using .loc[row_indexer,col_indexer] = value instead\n",
      "\n",
      "See the caveats in the documentation: https://pandas.pydata.org/pandas-docs/stable/user_guide/indexing.html#returning-a-view-versus-a-copy\n",
      "  selec_list[j][i].loc[:, 'class'] = names_CSVs[j][i]\n",
      "C:\\Users\\MTDML_WS-3\\AppData\\Local\\Temp\\ipykernel_12796\\3152476239.py:20: SettingWithCopyWarning: \n",
      "A value is trying to be set on a copy of a slice from a DataFrame.\n",
      "Try using .loc[row_indexer,col_indexer] = value instead\n",
      "\n",
      "See the caveats in the documentation: https://pandas.pydata.org/pandas-docs/stable/user_guide/indexing.html#returning-a-view-versus-a-copy\n",
      "  selec_list[j][i].loc[:, 'class'] = names_CSVs[j][i]\n"
     ]
    }
   ],
   "source": [
    "import os\n",
    "import pandas as pd\n",
    "import numpy as np\n",
    "\n",
    "genres_names=['techno','house','breakbeat','trance','hardcore','industrial','garage', 'over_genres']\n",
    "genre_CSVs=[]\n",
    "names_CSVs=[]\n",
    "selec_list=[]\n",
    "\n",
    "for genre in genres_names:\n",
    "    file_list = os.listdir(f'CSVs/genres/{genre}')\n",
    "    genre_list = [pd.read_csv(f'CSVs/genres/{genre}/{f}') for f in file_list]\n",
    "    sel_list = [genre[['instrumentalness', 'time_signature', 'tempo','loudness','energy','danceability', 'valence']] for genre in genre_list]\n",
    "    genre_CSVs.append(selec_list)\n",
    "    selec_list.append(sel_list)\n",
    "    names_CSVs.append(file_list)\n",
    "    \n",
    "for j in range(8):\n",
    "    for i in range(len(selec_list[j])):\n",
    "        selec_list[j][i].loc[:, 'class'] = names_CSVs[j][i]\n",
    "        \n",
    "\n",
    "    "
   ]
  },
  {
   "cell_type": "code",
   "execution_count": 8,
   "metadata": {},
   "outputs": [
    {
     "name": "stdout",
     "output_type": "stream",
     "text": [
      "Index(['instrumentalness', 'time_signature', 'tempo', 'loudness', 'energy',\n",
      "       'danceability', 'valence', 'class'],\n",
      "      dtype='object')\n"
     ]
    },
    {
     "data": {
      "application/vnd.plotly.v1+json": {
       "config": {
        "plotlyServerURL": "https://plot.ly"
       },
       "data": [
        {
         "hovertemplate": "label=Acid House_music.csv<br>symbol=0<br>x=%{x}<br>y=%{y}<br>z=%{z}<extra></extra>",
         "legendgroup": "Acid House_music.csv, 0",
         "marker": {
          "color": "#636efa",
          "symbol": "circle"
         },
         "mode": "markers",
         "name": "Acid House_music.csv, 0",
         "scene": "scene",
         "showlegend": true,
         "type": "scatter3d",
         "x": [
          -18.52343187733046,
          -17.749365197556905,
          -18.447874555378817,
          -18.31212725139111,
          -18.53799374678617,
          -18.525221931648034,
          -18.545309471138246,
          -14.514382883586341,
          -18.646678489043875,
          -18.540173209458963,
          -18.537976213432035,
          -18.342016421061142,
          -18.49641497564708,
          -18.474327771122063,
          -18.53831263497662,
          -18.53769032928247,
          -18.53726750441394,
          -18.53763713053504,
          -18.53144566568976,
          -18.55137946337283,
          -18.54309862402581,
          -18.539308324469403,
          -18.55349178714454,
          -18.529464137171928,
          -18.54164040421211,
          -18.480340224828073,
          -18.53806351726002,
          -18.512900978272096,
          -17.780054981245446,
          -18.539116150544615,
          -18.529966976737676,
          -18.622949750234945,
          -18.530126118768198,
          -18.54584625635121,
          -18.55027828104292,
          -18.4999150724306,
          -18.357275470256095,
          -18.5379257428054,
          -18.54023254126176,
          -18.544594132725187,
          -18.510296601983864,
          -18.533015169748776,
          -18.551876253784414,
          -17.673781181330884,
          -18.559759122749345,
          -18.553345386746717,
          -18.085526139585006,
          -18.422783610299607,
          -18.770981557849062,
          -18.540024056866372
         ],
         "y": [
          12.013756788448099,
          10.71444920770154,
          11.924492146510845,
          11.86654119470572,
          12.026416999806337,
          12.018982596591924,
          12.027851899641309,
          7.474557227560966,
          12.153833936043673,
          12.029257786089158,
          12.026414705278869,
          11.769433623159507,
          11.991748663668101,
          11.960856322927324,
          12.026672871294053,
          12.025457880866426,
          12.026339884147315,
          12.026688006394462,
          12.025696799821382,
          12.04180708063548,
          12.033288836619422,
          12.028024747646903,
          11.992150251050436,
          12.040224834108507,
          12.01235067369687,
          11.971851692822485,
          12.02600973217335,
          12.014200183264764,
          11.188190700110145,
          12.028868969002438,
          12.01675230657783,
          11.987846614445107,
          12.010890436927863,
          12.019407387064668,
          12.029636781599077,
          12.034644234374126,
          11.770086227999604,
          12.026035080946471,
          12.027642302986493,
          12.030259791849797,
          12.020877274916383,
          12.021665057372845,
          12.025465265513324,
          11.234706438566386,
          12.157149330177585,
          12.046564270104067,
          11.630255989083816,
          11.897747289400499,
          12.309023954671472,
          12.024335326377084
         ],
         "z": [
          2.9621399952524157,
          2.975430815230336,
          2.9763345933210683,
          2.788116115888898,
          2.970724498452526,
          2.955210925166453,
          2.9806814853283745,
          1.4952183750840042,
          3.014486345671883,
          2.972690848351327,
          2.970694758303244,
          3.0965745343043287,
          2.9427921454487604,
          2.9666464258431846,
          2.9709212102610536,
          2.970754827952611,
          2.9697769762365347,
          2.9699453923345134,
          2.972959171108883,
          2.977330200417287,
          2.965607267861861,
          2.9706406944491803,
          3.1070079410652944,
          2.9469517098211755,
          2.998885968081224,
          2.966443209279786,
          2.971142139729399,
          2.9458036411909188,
          2.4361593561796466,
          2.971976882385225,
          2.9852909052072096,
          3.2499548053294216,
          2.972135529479824,
          2.980017403910823,
          2.986258723876981,
          2.901017028594331,
          3.062770456106074,
          2.9709195549996856,
          2.9727664056919596,
          2.9774680442661587,
          2.940537154540194,
          2.969484124315235,
          3.0003682232879054,
          1.9845817022267238,
          2.829083410579533,
          2.9763046936897233,
          2.631367651738843,
          2.917059671196143,
          3.086226012008522,
          2.974322891308682
         ]
        },
        {
         "hovertemplate": "label=Deep House Mix_music.csv<br>symbol=0<br>x=%{x}<br>y=%{y}<br>z=%{z}<extra></extra>",
         "legendgroup": "Deep House Mix_music.csv, 0",
         "marker": {
          "color": "#EF553B",
          "symbol": "circle"
         },
         "mode": "markers",
         "name": "Deep House Mix_music.csv, 0",
         "scene": "scene",
         "showlegend": true,
         "type": "scatter3d",
         "x": [
          3.2469296057133206,
          2.896109251115824,
          2.8552235044895795,
          6.661837725476984,
          2.842157618774549,
          2.9176836679312323,
          5.1724832124335185,
          2.8966830128307848,
          6.5611932279704375,
          3.161924145529276,
          2.896001693696469,
          2.8880735019836696,
          2.8989351434100863,
          2.921196988231002,
          -2.617113853646869,
          2.752195158881933,
          2.878629189040459,
          2.8974828828782733,
          2.8262835689180394,
          -4.059710138932335,
          2.9052833702311234,
          2.897260241301578,
          6.6133441530672075,
          2.8943533173935174,
          2.916418859981814,
          2.8985399934376046,
          2.8923413969025646,
          3.133814462542305,
          2.8959236758997964,
          2.9684716311789403,
          2.5674862244128174,
          2.9615462622293647,
          2.898923618982469,
          3.1496974890446325,
          2.2248353969413834,
          2.8960249354683896,
          2.8869469364240423,
          3.2125332038391408,
          2.478554979960245,
          2.9061132372123764,
          2.340670801267759,
          2.7491380354139356,
          3.793407629795853,
          2.6053747608523112,
          -0.11553156416644789,
          3.045807862508127,
          2.9463234513540804,
          3.002606054153901,
          3.0168203237630715,
          3.5542988735895618
         ],
         "y": [
          -0.34182324530070096,
          0.13389059678630266,
          0.1636898547906338,
          0.5780489126762509,
          0.20720414545199572,
          0.11013945085949262,
          -2.4724414939640025,
          0.1305945338435981,
          0.6209883314627633,
          -0.1658649425374943,
          0.1313183471246333,
          0.13995393023943237,
          0.13088816107991819,
          0.09334789707129865,
          6.684848973844177,
          0.24840471272767495,
          0.12332173850277939,
          0.1301222779490836,
          0.20082356008369784,
          -8.304141448801102,
          0.10835617163033051,
          0.13275861493433894,
          0.5219614795940255,
          0.12595309744890804,
          0.1070813522505274,
          0.1293588736180471,
          0.13327004089349853,
          -0.1480497377158058,
          0.13136391198051844,
          0.06693942276958187,
          0.5747020751396992,
          0.05594785589021378,
          0.12191971490876985,
          -0.40909270779140017,
          0.9462860171580849,
          0.13137873195521443,
          0.13728774389544318,
          0.16628741794312707,
          0.7857169613871267,
          0.11579664866780348,
          0.8029367299142967,
          0.25578466451807036,
          -1.0741472555257117,
          0.44635522072001854,
          4.106173277759403,
          0.03286814853669395,
          0.14744790103566352,
          0.03307993953186572,
          -0.008043319411831895,
          -0.7453493191302891
         ],
         "z": [
          2.7722759849454053,
          2.5699888515762375,
          2.462714411739185,
          3.4165014460944994,
          2.301708549982445,
          2.5219324046590836,
          -0.16056847959524,
          2.5685407190828524,
          3.3956014345834484,
          3.0997849607691865,
          2.5678354906001593,
          2.575722565112846,
          2.5644891086574786,
          2.5667866427433745,
          2.3828532067899397,
          2.873503349681803,
          2.779266280397793,
          2.686116041592866,
          2.5857649834427505,
          1.906604471880283,
          2.6119241030471363,
          2.564674484228669,
          3.343408306565216,
          2.5380993498679976,
          2.5930890944919933,
          2.5668631109871782,
          2.5952663869151786,
          2.6760436370602223,
          2.5687223633486918,
          2.499262211727074,
          2.6735126152163478,
          2.781827924632813,
          2.5688337154022554,
          3.73869568159901,
          2.596102713365809,
          2.5677826592604163,
          2.5741089547891054,
          0.6140113571747845,
          1.4967030250270632,
          2.501910731698663,
          2.5084885407255486,
          2.86260553587132,
          3.8282256610629632,
          2.6073360066574534,
          0.5972088636514616,
          2.022393122378184,
          2.1835408791941866,
          3.040189433463455,
          2.5098987302022824,
          2.584611412404394
         ]
        },
        {
         "hovertemplate": "label=Dub House Mix_music.csv<br>symbol=0<br>x=%{x}<br>y=%{y}<br>z=%{z}<extra></extra>",
         "legendgroup": "Dub House Mix_music.csv, 0",
         "marker": {
          "color": "#00cc96",
          "symbol": "circle"
         },
         "mode": "markers",
         "name": "Dub House Mix_music.csv, 0",
         "scene": "scene",
         "showlegend": true,
         "type": "scatter3d",
         "x": [
          2.586223191481049,
          2.3852510264344975,
          2.3864881219617375,
          2.3852872905483937,
          2.386399011178291,
          2.2138502153732067,
          2.2673781385501885,
          2.385775293155822,
          2.3834077328520777,
          2.3780364111655388,
          2.419109077801334,
          2.303809180518785,
          1.835810841906214,
          2.385866266263177,
          2.3885471502810587,
          1.8906540074678024,
          2.383455763830363,
          1.043943317204512,
          2.1174875807458373,
          2.3964524515228693,
          2.3919481241884153,
          2.3172857431656966,
          2.3882938704392203,
          2.385926095798121,
          2.444860418094497,
          2.386290192547864,
          4.879090461667662,
          2.3878581601367257,
          2.6947552627980245,
          2.4201611655019106,
          2.3882112659406154,
          2.3691314897590896,
          2.4403513558847787,
          2.385426469232346,
          2.3861652009348315,
          2.3825129955493907,
          2.3797955452405453,
          2.3848089354488984,
          2.3345630025311523,
          2.4003909496659905,
          2.38541153072192,
          2.400777156373076,
          2.3839075827328884,
          2.4148241897792495,
          0.17760535828342566,
          2.444153618259556,
          2.382614034121641,
          2.3893022370879002,
          2.383355804513844,
          3.5186459906076646
         ],
         "y": [
          1.3314042288655397,
          1.506039796409596,
          1.5023728670044492,
          1.498411957118301,
          1.503009691308364,
          1.6453555754438327,
          1.725016069328332,
          1.5029000037200397,
          1.506467891432706,
          1.529680051932419,
          1.468705594862,
          1.6402397434788536,
          1.9467735453580104,
          1.5025014000592982,
          1.500775048702698,
          1.9367978545210218,
          1.5074563719192913,
          2.36077677504587,
          1.760737528046686,
          1.4971718242267118,
          1.5028544749487391,
          1.6042517960637395,
          1.4986050279297558,
          1.5032663754198907,
          1.4271407911848848,
          1.5030145456759847,
          -1.671535718524277,
          1.5011850226946915,
          1.1417700642381945,
          1.4853603172416538,
          1.5010941878139894,
          1.524627265879663,
          1.3408407748415516,
          1.5040747483694759,
          1.5031864449031573,
          1.5096029433864688,
          1.509757421090433,
          1.5048336667079827,
          1.5504152134946307,
          1.4844815757622678,
          1.5040331807702019,
          1.4692591537871005,
          1.5255797302165988,
          1.4681385488191392,
          3.0635119410607166,
          1.4210579525008509,
          1.5127539509151204,
          1.4999419441474728,
          1.5049074087027372,
          0.3233759986630771
         ],
         "z": [
          -15.353142047418984,
          -15.156691693746302,
          -15.155849088057685,
          -15.126612390250763,
          -15.154159125150926,
          -14.79718731102113,
          -15.141392195808553,
          -15.152256088618515,
          -15.153159136566831,
          -15.163468660145284,
          -15.156210358470592,
          -15.196313597215529,
          -12.6502918568162,
          -15.152619863140114,
          -15.155814945742367,
          -13.576398394075664,
          -15.155892340514551,
          -13.012745487884512,
          -14.278453066994189,
          -15.15278751313137,
          -15.166671858802637,
          -15.101121108112782,
          -15.15289573699115,
          -15.153064948591656,
          -15.151736064219406,
          -15.153847065596821,
          -13.039250342008975,
          -15.123314841319415,
          -14.571830391826811,
          -15.102379004503216,
          -15.15413144051977,
          -15.133302927672599,
          -14.593644850869318,
          -15.152642048717198,
          -15.153847558881367,
          -15.159479273861775,
          -15.137795840880102,
          -15.16129728141338,
          -15.055598276721122,
          -15.151539157493762,
          -15.153847870960341,
          -15.111423935693775,
          -15.26711208061748,
          -15.152521311809284,
          -8.71748803943964,
          -15.032517999657422,
          -15.153573758640787,
          -15.155627200497497,
          -15.153624636447205,
          -17.138135237150593
         ]
        },
        {
         "hovertemplate": "label=French House Mix_music.csv<br>symbol=0<br>x=%{x}<br>y=%{y}<br>z=%{z}<extra></extra>",
         "legendgroup": "French House Mix_music.csv, 0",
         "marker": {
          "color": "#ab63fa",
          "symbol": "circle"
         },
         "mode": "markers",
         "name": "French House Mix_music.csv, 0",
         "scene": "scene",
         "showlegend": true,
         "type": "scatter3d",
         "x": [
          -4.059710138932335,
          -11.015228834388715,
          -10.992619941945026,
          -11.015093674699076,
          -11.021654792868581,
          -11.027361523874887,
          -11.376538197257926,
          -11.02028671170931,
          -11.063454797950934,
          -10.962003063917024,
          -11.032695585610636,
          -11.019414750435615,
          -11.018355736529271,
          -11.024240185195357,
          -11.006251516378182,
          -11.124249576501649,
          -11.090526424822368,
          -11.023915282183532,
          -11.103430742160567,
          -12.46916672184219,
          -11.031550066846524,
          -11.019997731528857,
          -11.017335572753034,
          -11.019577317407768,
          -11.01941604342663,
          -11.019767119061592,
          -11.319586753913331,
          -11.019027302575704,
          -11.014680631869902,
          -11.028446006523899,
          -11.131501454381299,
          -10.952373591291224,
          -11.02208123785224,
          -10.461846401685536,
          -11.018663800166259,
          -11.02635425569548,
          -11.019779433768171,
          -11.016413760699873,
          -11.019754680532651,
          -11.018962823870154,
          -11.668212575956499,
          -11.019423483638054,
          -11.02665597157528,
          -11.090623787586285,
          -11.015990794292696,
          -10.858204003608932,
          -11.091083122256737,
          -11.10896338070386,
          -10.969816796156744,
          -11.027529512670155
         ],
         "y": [
          -8.304141448801102,
          -16.742605943652393,
          -16.761437505129543,
          -16.742873980324326,
          -16.73826293024042,
          -16.72779915117699,
          -16.504266970637843,
          -16.742637015840828,
          -16.666603178970586,
          -16.862160033411897,
          -16.721760174169983,
          -16.739750081228756,
          -16.74391857389601,
          -16.735921381303783,
          -16.723676864944935,
          -16.6285370521186,
          -16.682049515575507,
          -16.674909766054697,
          -16.658735530230977,
          -14.990117753871152,
          -16.7481603272802,
          -16.739558221955477,
          -16.73945027599211,
          -16.73959821009532,
          -16.739758281567823,
          -16.738811214512037,
          -15.93182416454501,
          -16.74019801769441,
          -16.748559783067417,
          -16.726564844565917,
          -16.525422472342804,
          -16.882385593054746,
          -16.73642853495445,
          -17.377493783159164,
          -16.740526371487704,
          -16.731358774478466,
          -16.739511141533153,
          -16.742905894952877,
          -16.739220403624298,
          -16.740526059802626,
          -15.900750701157303,
          -16.739757880753523,
          -16.733038587086195,
          -16.66461230422188,
          -16.735721457642423,
          -16.86651750791056,
          -16.661576281900313,
          -16.696968925863224,
          -16.79626948321253,
          -16.73048764512509
         ],
         "z": [
          1.906604471880283,
          1.2470193244961507,
          1.2294418765441555,
          1.2416784686377973,
          1.256664202119564,
          1.2280426711312389,
          1.6998496902984228,
          1.2908467846598097,
          1.174348442906477,
          1.4006497446013046,
          1.23192369000805,
          1.24977178674051,
          1.2467858419863482,
          1.252775112951885,
          1.220572994573482,
          1.2437379660676595,
          1.377600326730088,
          1.1481758652311767,
          1.257823232689017,
          0.8609406684787633,
          1.2667212009982496,
          1.2557168111344952,
          1.2360387603192722,
          1.2498581920396235,
          1.2497830772568363,
          1.2454106174377295,
          0.8783450262110124,
          1.249564675940281,
          1.2496222734119107,
          1.2289508785866126,
          0.8993913029188483,
          1.2514115281599567,
          1.2570505170525328,
          1.5191243542706854,
          1.248864389374937,
          1.1418385353075187,
          1.2499432069661842,
          1.2484460812018323,
          1.2499824110731685,
          1.2500214402193706,
          0.35673603648062,
          1.2497966612191238,
          1.2603783623391824,
          1.2931520469283235,
          1.2412377655874103,
          0.6028275662640756,
          1.3004810627458472,
          1.3208111709753658,
          1.2064631826254848,
          1.2090776305920716
         ]
        },
        {
         "hovertemplate": "label=Minimal House Mix_music.csv<br>symbol=0<br>x=%{x}<br>y=%{y}<br>z=%{z}<extra></extra>",
         "legendgroup": "Minimal House Mix_music.csv, 0",
         "marker": {
          "color": "#FFA15A",
          "symbol": "circle"
         },
         "mode": "markers",
         "name": "Minimal House Mix_music.csv, 0",
         "scene": "scene",
         "showlegend": true,
         "type": "scatter3d",
         "x": [
          10.2038364181842,
          10.207569662956256,
          10.200787191700197,
          10.133857401435362,
          10.196748748782507,
          9.73226457448819,
          10.09517882774371,
          10.20378986401829
         ],
         "y": [
          3.5402209944355656,
          3.535755878157763,
          3.549697840765958,
          3.5639268579705927,
          3.5406867792835026,
          3.0844885558879183,
          3.5674655095417083,
          3.540317661665995
         ],
         "z": [
          -8.312417874765746,
          -8.314895052145562,
          -8.316766947562435,
          -8.242871996400844,
          -8.303623641736237,
          -7.183453353556075,
          -8.175442694689991,
          -8.312386240418391
         ]
        },
        {
         "hovertemplate": "label=Tech House Mix_music.csv<br>symbol=0<br>x=%{x}<br>y=%{y}<br>z=%{z}<extra></extra>",
         "legendgroup": "Tech House Mix_music.csv, 0",
         "marker": {
          "color": "#19d3f3",
          "symbol": "circle"
         },
         "mode": "markers",
         "name": "Tech House Mix_music.csv, 0",
         "scene": "scene",
         "showlegend": true,
         "type": "scatter3d",
         "x": [
          10.116926157214678,
          10.223167055845279,
          10.220084479119654,
          9.932328109067221,
          10.054880804068743,
          10.146094527964223,
          11.321271491388968,
          6.6133441530672075,
          11.23847964107457,
          10.200715355877788,
          10.213860399857259,
          10.147852554468383,
          11.350633841198599,
          9.570926372234231,
          10.053868212285126,
          9.977718809791009,
          9.965030128979802,
          10.197480803124298,
          6.5611932279704375,
          10.255491667754876,
          10.896468506491743,
          10.822389440872609,
          10.23569878664836,
          10.239251184630511,
          9.695878550668656,
          10.313642999488554,
          11.16203359939524,
          10.204673251140038,
          10.216069271871163,
          11.267347736921245,
          11.301797492297851,
          10.196446299745533,
          10.449454687698891,
          6.661837725476984,
          10.215877978824494,
          10.18173572458054,
          10.505472130980502,
          10.149470991338516,
          10.230788981814964,
          10.072252257430955,
          10.114761384450068,
          10.159557852537231,
          10.223490102636744,
          11.112477697428904,
          10.246982671639621,
          10.247516789293082,
          10.212245013436217,
          10.376544092754916,
          10.193923155381352,
          10.360924828037888
         ],
         "y": [
          1.199777908343193,
          1.1262667030724272,
          1.1133488711766217,
          1.3175233444923269,
          1.4781681526547648,
          1.1817408094556547,
          1.3418141163859223,
          0.5219614795940255,
          1.317048082690686,
          1.1414255605728614,
          1.1250430250833752,
          1.17398941576498,
          1.2293239602082757,
          1.7855127634298336,
          1.2594052589410951,
          1.4152797523864198,
          1.360728359623011,
          1.1408275699796846,
          0.6209883314627633,
          1.0908722577768661,
          0.6516459610249121,
          0.35953207064413784,
          1.0780513828965708,
          1.1247378816999272,
          1.6864857192482883,
          2.0526149041691713,
          0.02945213764149779,
          1.1373747250887831,
          1.122743059520804,
          1.2599768558390378,
          -0.11898244190158813,
          1.1634886332750314,
          0.8322410556325768,
          0.5780489126762509,
          1.1215838114801677,
          1.2174218532512129,
          1.0364344047708975,
          1.1582049578303966,
          1.0992946147124034,
          1.6371203640402263,
          1.233404199599534,
          1.1855687349390225,
          1.125057469503025,
          1.4267587779436297,
          1.120328732778577,
          1.0996874618167058,
          1.127100720306502,
          0.8106559536361599,
          1.1466516602820667,
          0.9750964238911315
         ],
         "z": [
          4.320505338830363,
          4.209443395397826,
          4.252314463028895,
          4.421729728684154,
          3.2035721422881727,
          4.428358765209859,
          4.370950082940018,
          3.343408306565216,
          5.120090896981763,
          4.2229554050677045,
          4.223975170168969,
          4.265516320918344,
          4.808368785233764,
          5.1764914484306805,
          4.495562390791765,
          4.257754736671748,
          4.223243913198519,
          4.23070164300163,
          3.3956014345834484,
          4.13613534469347,
          3.8307504051422137,
          4.261577608614397,
          4.145377273972652,
          4.141942511943782,
          4.226634551019558,
          3.0965319393822157,
          2.5763585958590283,
          4.225158390072265,
          4.223563928303624,
          5.01443404373838,
          2.5582349568440357,
          4.208730839308283,
          3.832934790851936,
          3.4165014460944994,
          4.22276507118541,
          4.13917641541342,
          4.192070099348,
          4.461374627936237,
          4.224487305220157,
          4.024189598400707,
          4.235259279314064,
          4.21376316205775,
          4.20109128892877,
          5.047747503583861,
          4.199709627477732,
          4.1512545589204635,
          4.22328661979068,
          4.308673450511028,
          4.200985307549392,
          4.013459303488698
         ]
        },
        {
         "hovertemplate": "label=Tribal House Mix_music.csv<br>symbol=0<br>x=%{x}<br>y=%{y}<br>z=%{z}<extra></extra>",
         "legendgroup": "Tribal House Mix_music.csv, 0",
         "marker": {
          "color": "#FF6692",
          "symbol": "circle"
         },
         "mode": "markers",
         "name": "Tribal House Mix_music.csv, 0",
         "scene": "scene",
         "showlegend": true,
         "type": "scatter3d",
         "x": [
          11.695661705866142,
          12.197524903633745,
          12.4201719701984,
          12.310147330465648,
          12.428617983863107,
          12.320402615168511,
          12.42816295644063,
          12.443379485505183,
          12.622370345190264,
          11.321271491388968,
          14.166575712778457,
          11.112477697428904,
          12.413775149713592,
          12.388482990664356,
          12.656275169240505,
          12.496577062075655,
          12.569519046582617,
          16.155343807927277,
          12.418596623903348,
          12.429626598425124,
          11.267347736921245,
          11.23847964107457,
          12.48425363222827,
          12.567471408514184,
          13.142605532605916,
          12.426939361482018,
          12.450180693484095,
          12.312337987119351,
          12.433341025183267,
          12.869683191182927,
          12.401471147059045,
          10.543636023105398,
          12.461366014476411,
          12.409362314834581,
          12.532611441802702,
          11.350633841198599,
          12.427738750263737,
          12.264767608069093,
          12.424155127751817,
          12.47316037323747,
          12.40806228727837,
          12.303195828409196,
          12.334803530988294,
          10.942714380208134,
          12.424146570341666,
          12.45717077075524,
          12.428411923024973,
          12.189759109977201,
          11.775154534136108,
          11.659323789375994
         ],
         "y": [
          2.3390951286506634,
          1.5953626542865758,
          1.4461636930190203,
          1.5939939159017207,
          1.3989402434476244,
          1.5255193409678052,
          1.387777536847203,
          1.3766654039716368,
          0.5516950966503475,
          1.3418141163859223,
          -2.4214045585571626,
          1.4267587779436297,
          1.353437254671267,
          1.4751059476583874,
          0.9169333391276084,
          1.2810986336975434,
          1.228611604603371,
          -1.5070939318620902,
          1.3935664453985908,
          1.3860036495764367,
          1.2599768558390378,
          1.317048082690686,
          1.3208155720068882,
          1.1790872052669041,
          0.636574131508322,
          1.3977380829208048,
          1.4007712732104474,
          1.4754285148377622,
          1.3763145148570946,
          1.7737183507817271,
          1.414751772386495,
          3.3703290617152915,
          1.3661796796133707,
          1.4014246735430098,
          1.3997961469693008,
          1.2293239602082757,
          1.3883551590209455,
          1.5058221199333788,
          1.3867462429222641,
          1.355558871100999,
          1.4178266867687705,
          1.0044369311849697,
          1.4836405795019778,
          4.346642632705529,
          1.3955273155887546,
          1.2386442450902608,
          1.3882289985305574,
          1.6657350692908544,
          2.232958269949873,
          2.2082637671222796
         ],
         "z": [
          6.295571246367238,
          5.682100256820458,
          5.360457693369966,
          5.5846429897811225,
          5.463474365986736,
          5.171336590534816,
          5.471259812208473,
          5.435479992322114,
          6.079995533225942,
          4.370950082940018,
          15.343532592584484,
          5.047747503583861,
          5.859503392681377,
          5.483226946532527,
          6.163387633337445,
          5.416285411720602,
          5.330441232525212,
          -2.2269631879334337,
          5.484248341886865,
          5.467535704286238,
          5.01443404373838,
          5.120090896981763,
          5.458392999901699,
          5.695272175791371,
          4.691656544792705,
          5.462802643040517,
          5.4281969316014305,
          5.510602119403348,
          5.4752460371779526,
          4.150604668089567,
          5.482131470179597,
          7.324386423697407,
          5.430350844738149,
          5.491893355589775,
          3.847356575150162,
          4.808368785233764,
          5.4711471263446025,
          5.103454076119104,
          5.479474485567096,
          5.458667900866901,
          5.483607128539496,
          6.0078607728995035,
          5.51454600136461,
          0.17398295775423556,
          5.469304695273561,
          5.571665631415225,
          5.470414858767487,
          5.522250548104413,
          5.464584007271821,
          5.183854191361369
         ]
        },
        {
         "hovertemplate": "label=Acid Techno Mix_music.csv<br>symbol=1<br>x=%{x}<br>y=%{y}<br>z=%{z}<extra></extra>",
         "legendgroup": "Acid Techno Mix_music.csv, 1",
         "marker": {
          "color": "#B6E880",
          "symbol": "diamond"
         },
         "mode": "markers",
         "name": "Acid Techno Mix_music.csv, 1",
         "scene": "scene",
         "showlegend": true,
         "type": "scatter3d",
         "x": [
          -3.5638273347790927,
          -2.753916352915792,
          -3.5275330859151035,
          -4.876232404710946,
          -3.512614380990165,
          -3.588574193021645,
          -3.535197574719167,
          -0.42074136703487675,
          -3.617143325980095,
          -3.5814180024961404,
          -3.5359634625748537,
          -3.490420374573786,
          -2.2555629011435046,
          -3.5323806921345726,
          -2.8224133604829773,
          -4.31514057547041,
          -3.690694238138389,
          -3.529662309226142,
          -3.742565305226935,
          -2.9411088556963016,
          -3.4485225728490043,
          -3.5648426152357793,
          -4.828218010674902,
          -3.4901281361734346,
          -3.5571510377884668,
          -3.1779081926124064,
          -3.703391764356461,
          -4.659618428467227,
          -3.2612024054115514,
          -3.967322582869827,
          -2.5216122919418735,
          -4.883097362955091,
          -2.5297215401900157,
          -3.490347976747045,
          -3.7805210474082473,
          -6.033431017752309,
          -3.7522544151644697,
          -3.4962829300161333,
          -3.6233313916361425,
          -4.90398711658408,
          -3.7309345963264997,
          -1.1673375879476096,
          -3.297144073082972,
          -3.330884295270805,
          -3.338195008764658,
          -3.9261479477911796,
          -0.45977381500755243,
          -2.8351769846411172,
          -6.0273030494041215
         ],
         "y": [
          -1.0505629982628264,
          -1.9989371758253087,
          -1.1896676181653298,
          -3.8323025748865502,
          -1.1385021084727718,
          -1.180334318802875,
          -1.1354084570508265,
          0.6975337333623719,
          -1.2647016468523096,
          -1.137291618219571,
          -1.131273319848356,
          -1.0127804004804757,
          2.194302298126445,
          -1.1336819989938096,
          -1.0964044161260116,
          -0.5741264676937816,
          -1.1162808329970189,
          -1.1451448817543692,
          -2.3501734311091598,
          2.157869533923006,
          -1.1434380063998557,
          -1.1348708977513418,
          -1.4019017433843133,
          -1.1105688877216189,
          -1.3832572574898598,
          -1.0564378585875058,
          -1.119277401223355,
          -0.9997810143382515,
          -1.1221567372521877,
          -0.8452302595426784,
          3.0695874401339,
          -3.810052451059379,
          1.9999119848646398,
          -1.1121190450212093,
          -1.7526146782886955,
          -1.011940126874999,
          -1.1500480600793432,
          -1.1678776370469195,
          -1.4503185864421195,
          -3.8365664835246496,
          -1.0125049500067498,
          -5.56916765275737,
          -1.0274524951649744,
          -1.398938752258665,
          -1.152707762566277,
          -1.0538726111587278,
          -2.8674954274889677,
          -0.9411717129979726,
          0.5718749527622221
         ],
         "z": [
          0.3200988326137548,
          1.796587065244375,
          0.533489975793577,
          -2.4498178239096244,
          0.4404584511342614,
          0.5612050243390927,
          0.4446808681216651,
          -5.823629860993633,
          0.3794250472120364,
          0.47116054455642586,
          0.4376253853993406,
          0.12908060090200926,
          0.2911677089766413,
          0.44050727345332463,
          0.021963723320431283,
          -0.19901093785402035,
          0.5125377702745119,
          0.46137996304663825,
          3.110141647484326,
          0.7172717931133368,
          0.4092892363449254,
          0.4618791115682744,
          2.1246039531224445,
          0.30804797342468654,
          0.9670691483557322,
          0.05519192351419348,
          0.5328689193896614,
          0.5883521938909111,
          0.21564713275778719,
          0.5836447118468707,
          0.8995722205391681,
          -2.482875536113328,
          0.7242728964366226,
          0.37945149200900785,
          2.0208612649920537,
          1.6775708869643575,
          0.6932867417609945,
          0.4803284858238557,
          1.1767105391376214,
          -2.422696733009776,
          0.3510856017600645,
          7.708183399047433,
          0.04672849387246597,
          0.8087080320557043,
          0.39901685158104805,
          0.4663088585931342,
          1.5098167440184787,
          -0.6619832708884597,
          -1.2352587631086196
         ]
        },
        {
         "hovertemplate": "label=Dub Techno Mix_music.csv<br>symbol=1<br>x=%{x}<br>y=%{y}<br>z=%{z}<extra></extra>",
         "legendgroup": "Dub Techno Mix_music.csv, 1",
         "marker": {
          "color": "#FF97FF",
          "symbol": "diamond"
         },
         "mode": "markers",
         "name": "Dub Techno Mix_music.csv, 1",
         "scene": "scene",
         "showlegend": true,
         "type": "scatter3d",
         "x": [
          25.626111393763004,
          23.818034609770905,
          25.08989184571759,
          25.15451553009527,
          25.74151144709842,
          24.863402509178332,
          25.634087761472244,
          25.580803426832233,
          25.58108938838486,
          23.868154981468685,
          25.56456036354066,
          24.588979504077447,
          25.589020281446366,
          25.580496917482876,
          25.580392607103292,
          25.62278356556883,
          25.57935958655782,
          24.805664159241545,
          25.56237220067099,
          25.579149845792365,
          25.580501536946755,
          25.497191076959496
         ],
         "y": [
          -0.9088457911357789,
          -0.7572483605399101,
          -0.8635647949445389,
          -0.901783143370297,
          -0.9534274350196941,
          -0.8401550249557699,
          -0.908255436274925,
          -0.9063123374022268,
          -0.9061920732206206,
          -0.6853832018286788,
          -0.9028308441645494,
          -0.95815441526714,
          -0.9068157808577352,
          -0.9061791613878736,
          -0.9060688211119512,
          -0.9084704643985686,
          -0.9064290050258488,
          -0.8101795758038939,
          -0.9061762153474158,
          -0.9061677059903543,
          -0.9061743247133096,
          -0.9213137567549431
         ],
         "z": [
          -3.9484992953104374,
          -3.1147853997424977,
          -3.685012310685757,
          -3.670613022393981,
          -3.9368492267485813,
          -3.6091568736629096,
          -3.9550027049748175,
          -3.9247364421875353,
          -3.925113174940159,
          -3.3067717010178503,
          -3.9204746108233084,
          -3.136147808914928,
          -3.9286177810258134,
          -3.9247666152514693,
          -3.92488986262277,
          -3.9565237546736407,
          -3.9232665206175903,
          -3.623402082138657,
          -3.912356462658666,
          -3.924817036356197,
          -3.9247800901785324,
          -3.8479663758704015
         ]
        },
        {
         "hovertemplate": "label=French Techno Mix_music.csv<br>symbol=1<br>x=%{x}<br>y=%{y}<br>z=%{z}<extra></extra>",
         "legendgroup": "French Techno Mix_music.csv, 1",
         "marker": {
          "color": "#FECB52",
          "symbol": "diamond"
         },
         "mode": "markers",
         "name": "French Techno Mix_music.csv, 1",
         "scene": "scene",
         "showlegend": true,
         "type": "scatter3d",
         "x": [
          4.506171791852652,
          4.816466286621643,
          4.487748611450323,
          4.516856849168077,
          3.9357025231577927,
          4.7481776151396415,
          4.516673590550903,
          4.673826936075088,
          4.509606927664482,
          3.73291871320427,
          4.593094194262188
         ],
         "y": [
          -15.028220209295563,
          -15.051735414673159,
          -14.499908631727166,
          -14.974586809204899,
          -12.743376514611993,
          -14.706819235938385,
          -15.035497944589533,
          -14.680445939867278,
          -15.029146732794645,
          -14.83016294539582,
          -14.996384422532577
         ],
         "z": [
          17.6421344419507,
          17.493238808397848,
          16.580184987175745,
          17.542414347333136,
          13.297781137472525,
          16.831193823071192,
          17.655726507054887,
          16.766979255581052,
          17.647202887025546,
          17.793205939990965,
          17.529411193210045
         ]
        },
        {
         "hovertemplate": "label=Hardstyle Techno Mix_music.csv<br>symbol=1<br>x=%{x}<br>y=%{y}<br>z=%{z}<extra></extra>",
         "legendgroup": "Hardstyle Techno Mix_music.csv, 1",
         "marker": {
          "color": "#636efa",
          "symbol": "diamond"
         },
         "mode": "markers",
         "name": "Hardstyle Techno Mix_music.csv, 1",
         "scene": "scene",
         "showlegend": true,
         "type": "scatter3d",
         "x": [
          -6.2133911355890685,
          -6.21367986198331,
          -6.211498786830754,
          -6.227693909959545,
          -4.883097362955091,
          -6.21243203185772,
          -6.214879065987351,
          -6.273480918293966,
          -6.2132117741837405,
          -6.194049467714701,
          -6.219944357533867,
          -6.207143587217981,
          -4.876232404710946,
          -6.213359052169202,
          -6.214263847914358,
          -6.261276802632857,
          -6.198963060246003,
          -6.213005054923942,
          -6.212573999268115,
          -6.21004860828382,
          -6.162894308731626,
          -6.2133430283801445,
          -6.212910460689191,
          -6.215616019465107,
          -6.28924849526692,
          -6.2126658089870626,
          -6.239129241129977,
          -6.211132168085114,
          -6.230745408216406,
          -6.22382815104864,
          -6.524865002354806,
          -6.212691932718893,
          -6.213445857075747,
          -4.90398711658408,
          -6.098230765117953,
          -6.213734712645518,
          -6.213409100328473,
          -6.2022829818706695,
          -6.180815994271037,
          -6.213420499630303,
          -6.2202148448758665,
          -6.212528097718592,
          -6.29681145952645,
          -6.178614136728005,
          -6.2078341735769165,
          -6.212096810735407,
          -6.209209471845264,
          -6.186049741291069,
          -6.22240189862002,
          -6.161598987005797
         ],
         "y": [
          -6.53067583068783,
          -6.530542115178834,
          -6.533638010649457,
          -6.521040747076503,
          -3.810052451059379,
          -6.530330004031271,
          -6.531307482720347,
          -6.526369569229707,
          -6.575644856083899,
          -6.548742515147542,
          -6.543412767241991,
          -6.547656080627409,
          -3.8323025748865502,
          -6.530651889659078,
          -6.529897768063601,
          -6.491759779548515,
          -6.523967456721581,
          -6.532135095383034,
          -6.529259145935902,
          -6.517414062657021,
          -6.542531082824864,
          -6.530755987471316,
          -6.51790308367284,
          -6.532151107810447,
          -6.414222040351362,
          -6.532993102586659,
          -6.577404671713625,
          -6.528816445312864,
          -6.5650848852344765,
          -6.535153775083973,
          -6.724111677743494,
          -6.540838263217066,
          -6.530716505317524,
          -3.8365664835246496,
          -6.527716755691481,
          -6.532123784264099,
          -6.530622934589789,
          -6.5343419964665,
          -6.494224626754157,
          -6.522318378969448,
          -6.515227658381794,
          -6.530569828711259,
          -6.586296917149855,
          -6.523076625604346,
          -6.539329326063468,
          -6.5306828728788835,
          -6.516778871276714,
          -6.55789788937191,
          -6.524887431098909,
          -6.91151505294127
         ],
         "z": [
          -5.3476247161903165,
          -5.347485565764541,
          -5.342814957617366,
          -5.358266878896762,
          -2.482875536113328,
          -5.3494221313145225,
          -5.344906644866738,
          -5.3192727193188025,
          -5.257194790286421,
          -5.337602851248363,
          -5.314706329587881,
          -5.3369174545719265,
          -2.4498178239096244,
          -5.347700048468839,
          -5.348032720506244,
          -5.342537047920947,
          -5.381313841866411,
          -5.3446246650163465,
          -5.352254921994101,
          -5.373364929289304,
          -5.36232062576704,
          -5.3474868941167815,
          -5.375361098558999,
          -5.343292452441544,
          -5.46011474444446,
          -5.34335417976332,
          -5.225795639259488,
          -5.3534199244120435,
          -5.278225051366373,
          -5.334316029856518,
          -4.846248648931369,
          -5.3246033888053725,
          -5.347744419468116,
          -2.422696733009776,
          -5.283323133422419,
          -5.344641261257801,
          -5.3477360990267035,
          -5.347559254372541,
          -5.462326362770454,
          -5.362601094134565,
          -5.3807940131347225,
          -5.347820552313485,
          -5.094039350307533,
          -5.387903235372454,
          -5.327568220164219,
          -5.349054785242676,
          -5.38133922292542,
          -5.3186205827839625,
          -5.353440316599075,
          -4.566615709406289
         ]
        },
        {
         "hovertemplate": "label=Melodic Techno Mix_music.csv<br>symbol=1<br>x=%{x}<br>y=%{y}<br>z=%{z}<extra></extra>",
         "legendgroup": "Melodic Techno Mix_music.csv, 1",
         "marker": {
          "color": "#EF553B",
          "symbol": "diamond"
         },
         "mode": "markers",
         "name": "Melodic Techno Mix_music.csv, 1",
         "scene": "scene",
         "showlegend": true,
         "type": "scatter3d",
         "x": [
          -2.5216122919418735,
          -1.5705396463956367,
          -1.6348175675297345,
          0.37734496893667585,
          -2.7717593663282956,
          -1.4419365449485166,
          -1.4499547105634276,
          -1.4642525770232093,
          -0.9198734252696293,
          -1.3107822704845986,
          0.5763490643470934,
          -0.382223618739161,
          -1.4669569576541714,
          -1.4601829974830143,
          -1.5296800250580151,
          -5.234782484125947,
          -1.4507537193991968,
          -1.065227744713116,
          -1.6480404403448645,
          -1.500725154021636,
          -1.4905328468281707,
          -1.486817572308759,
          -0.8141237192744591,
          -1.4671682237249988,
          -1.09499009847057,
          -1.525219419945534,
          -1.4936771867092966,
          -2.125290096766315,
          -2.030420544210791,
          -1.441142030101603,
          -1.4635988023164368,
          -0.5095896374492566,
          -1.5369292043160858,
          2.5576252693682138,
          -1.432621649847726,
          0.5716593644877339,
          -0.8009198135079265,
          -1.2991075021391418,
          -10.189138967351019,
          -1.3621216987965288,
          -1.4937036520246174,
          -1.3220912379843883,
          -1.5121350111112628,
          -1.4661673501602728,
          -1.3794892241033738,
          -1.4503954913981143,
          -1.7288672788992254,
          0.10782006112676806,
          -0.7956926690987487,
          -1.0927111784195103
         ],
         "y": [
          3.0695874401339,
          6.121585673424197,
          8.200767906888132,
          6.9392670003746,
          7.184535918355509,
          7.152781588305513,
          7.270454473399168,
          7.176334961943603,
          7.166934229870699,
          7.379331385458206,
          5.611994912847451,
          6.837055088850257,
          7.223429043701946,
          7.164870947506792,
          7.2749059848882345,
          7.935781128358188,
          7.191232709473508,
          7.892872009476154,
          7.188292382743919,
          7.118435666354343,
          6.153469189311117,
          7.110636815185594,
          7.101814765369616,
          7.169223864918502,
          7.000753615677578,
          7.1586902158452785,
          7.170085425002055,
          7.1167186968100316,
          6.437737265314758,
          7.302041369836479,
          7.059091613607805,
          6.38581314382728,
          6.151331590508828,
          6.565830904135231,
          7.240682329284457,
          6.296691073307964,
          7.339525473127132,
          7.174923714427986,
          9.626203986821944,
          7.023934397764375,
          7.3527732630375215,
          7.145897114236658,
          6.741356119897819,
          7.1699460499815215,
          6.149098416370692,
          7.214185700313057,
          6.780000358166429,
          7.0535939833403685,
          6.151924778951753,
          8.785917841418767
         ],
         "z": [
          0.8995722205391681,
          1.2268012357104021,
          1.9319490221393496,
          0.8879726632761866,
          2.229246765325435,
          1.551926349671436,
          2.1323928555659766,
          1.5670533787835885,
          1.1123805390194565,
          1.1682555448907943,
          1.1123227589855267,
          1.455734781362561,
          1.6119607735756432,
          1.5828771506427666,
          1.443998688308574,
          2.435269954601854,
          1.6149931541781186,
          -0.3670563024197892,
          1.6677341180216059,
          1.5895875347835537,
          1.2882713063136118,
          1.805570588508254,
          1.302412177354823,
          1.5834426219250306,
          1.553651102482621,
          1.7389325725993716,
          1.6058229150351988,
          1.683408529600597,
          0.9586147264820064,
          1.3658640246539193,
          1.7146014918200005,
          2.370256975541292,
          1.3140696510569916,
          0.21230389881099546,
          1.3342435243194788,
          2.7761657406823486,
          1.0040626231644738,
          1.4838978460882601,
          2.6957041533438555,
          1.8629249418669782,
          1.5366286064684602,
          1.5434445287682443,
          1.42040822656825,
          1.581995928979564,
          1.213070272563675,
          1.494174332402043,
          2.572508055240249,
          0.8403632217725281,
          0.870682874326259,
          2.4751150681520326
         ]
        },
        {
         "hovertemplate": "label=Minimal Techno Mix_music.csv<br>symbol=1<br>x=%{x}<br>y=%{y}<br>z=%{z}<extra></extra>",
         "legendgroup": "Minimal Techno Mix_music.csv, 1",
         "marker": {
          "color": "#00cc96",
          "symbol": "diamond"
         },
         "mode": "markers",
         "name": "Minimal Techno Mix_music.csv, 1",
         "scene": "scene",
         "showlegend": true,
         "type": "scatter3d",
         "x": [
          -1.4905328468281707,
          -1.3143782089556102,
          -1.608058060592147,
          -2.2555629011435046,
          -1.5130965080054821,
          -1.6605807010988967,
          -1.5369292043160858,
          0.5763490643470783,
          -2.9411088556963016,
          -0.680635736014902,
          -1.4506937511104006,
          -1.4467802353579937,
          -2.5297215401900157,
          -0.7956926690987487,
          -2.030420544210791,
          -1.5705396463956594,
          -1.5170722030963462,
          -1.4261969394116005,
          -1.335435048018104,
          -1.3794892241033738
         ],
         "y": [
          6.153469189311117,
          5.043478511797395,
          5.26806707607679,
          2.194302298126445,
          5.137120988911522,
          4.841355436335894,
          6.151331590508828,
          5.611994912847448,
          2.157869533923006,
          5.247806329023805,
          5.109277187016417,
          5.1923264948134715,
          1.9999119848646398,
          6.151924778951753,
          6.437737265314758,
          6.121585673424194,
          5.138061344924427,
          5.1323944861939355,
          5.141139998294775,
          6.149098416370692
         ],
         "z": [
          1.2882713063136118,
          0.9714462273676171,
          0.8317299841198627,
          0.2911677089766413,
          0.9930168897162912,
          1.6573261222862579,
          1.3140696510569916,
          1.1123227589855176,
          0.7172717931133368,
          0.09210206499006503,
          1.0033304049924872,
          0.8814317992831001,
          0.7242728964366226,
          0.870682874326259,
          0.9586147264820064,
          1.2268012357103955,
          0.9940892650985607,
          0.9364878884589242,
          1.0072143825800142,
          1.213070272563675
         ]
        },
        {
         "hovertemplate": "label=Tribal Techno Mix_music.csv<br>symbol=1<br>x=%{x}<br>y=%{y}<br>z=%{z}<extra></extra>",
         "legendgroup": "Tribal Techno Mix_music.csv, 1",
         "marker": {
          "color": "#ab63fa",
          "symbol": "diamond"
         },
         "mode": "markers",
         "name": "Tribal Techno Mix_music.csv, 1",
         "scene": "scene",
         "showlegend": true,
         "type": "scatter3d",
         "x": [
          -2.713877091898869,
          -2.803540418386035,
          -2.4837401335939884,
          -2.823515623246546,
          -2.4707718862519052,
          -2.8941975205182917,
          -2.673299335943394,
          -2.5946825614591553,
          -2.72427126962155
         ],
         "y": [
          11.812942170724321,
          11.837603610446724,
          11.60080164281741,
          11.824124316774334,
          9.745135010492879,
          11.780146795168946,
          11.71642898225913,
          11.74240137809344,
          11.814154621651927
         ],
         "z": [
          4.2535931231867234,
          4.28310140846812,
          4.04783012002497,
          4.254480223472092,
          2.6241430552385507,
          4.409988526884461,
          4.356551887668141,
          4.333094640106035,
          4.257080909040488
         ]
        },
        {
         "hovertemplate": "label=Acid Trance Mix_music.csv<br>symbol=2<br>x=%{x}<br>y=%{y}<br>z=%{z}<extra></extra>",
         "legendgroup": "Acid Trance Mix_music.csv, 2",
         "marker": {
          "color": "#FFA15A",
          "symbol": "square"
         },
         "mode": "markers",
         "name": "Acid Trance Mix_music.csv, 2",
         "scene": "scene",
         "showlegend": true,
         "type": "scatter3d",
         "x": [
          -18.5716167856164,
          -18.5556489738112,
          -10.527587200590983,
          -18.581314417123505,
          -18.54747539742912,
          -18.39082659078481,
          -18.665500587966392,
          -18.19374397893909,
          -18.575138119596183,
          -18.578309500214903,
          -18.720303088679145,
          -19.38818489424843,
          -18.5825457228203,
          -18.56807469490842
         ],
         "y": [
          -5.746570719157739,
          -5.757859007617052,
          -0.8195789105981488,
          -5.739715073364571,
          -5.763637237537787,
          -5.874378580044448,
          -5.680200482865362,
          -6.013704205869915,
          -5.744081346524069,
          -5.74183936999801,
          -5.6414583907190385,
          -5.169305877278265,
          -5.738844613839198,
          -5.749074765557195
         ],
         "z": [
          -2.162106002465051,
          -2.189584517640769,
          0.8514906293537169,
          -2.1454176473050532,
          -2.203650173310005,
          -2.473222276431359,
          -2.000544260689412,
          -2.8123756686727557,
          -2.156046247353807,
          -2.1505887161954536,
          -1.9062363263367517,
          -0.7568991125990683,
          -2.143298731283067,
          -2.168201477190286
         ]
        },
        {
         "hovertemplate": "label=Dub Trance Mix_music.csv<br>symbol=2<br>x=%{x}<br>y=%{y}<br>z=%{z}<extra></extra>",
         "legendgroup": "Dub Trance Mix_music.csv, 2",
         "marker": {
          "color": "#19d3f3",
          "symbol": "square"
         },
         "mode": "markers",
         "name": "Dub Trance Mix_music.csv, 2",
         "scene": "scene",
         "showlegend": true,
         "type": "scatter3d",
         "x": [
          4.642001182798718,
          4.643548620851507,
          4.497923027135016,
          4.641197174685047,
          4.665093641104092,
          4.735574296099428,
          4.641638437436363,
          4.640615096481584,
          4.835535194347549,
          4.638932586271998,
          4.641643256135706,
          4.641712081358988,
          4.634132977662576,
          3.3599985031327533,
          4.60197818592896,
          4.645310863580624,
          4.641807347714611,
          4.6343913012524505,
          4.654036150597539,
          4.6418010584013425,
          4.66797554860326,
          4.641783279996401,
          4.607152802569142,
          4.6414703180018275,
          4.639964185039254,
          3.432487360487455,
          2.7646977167490245,
          4.636536473176711,
          4.553569766779858,
          4.6318361608686995,
          4.640167570343926,
          4.646295060320886,
          4.641489283880559,
          4.63541794033261,
          4.747260401003199,
          4.641449833883787,
          2.779212854232,
          4.642247245260911,
          4.570132364156341,
          4.667814824942944,
          4.643899367808059,
          4.133546569437739,
          4.6414525993524425,
          4.585200553379355,
          4.645584256333523,
          4.642249190834912,
          4.631051894012447,
          4.583120224665318,
          4.5516356478695315,
          4.641968913129097
         ],
         "y": [
          -5.496811612380182,
          -5.497905558584606,
          -5.394956968697442,
          -5.4962432267043555,
          -5.51313660003445,
          -5.562962210086067,
          -5.496555173092547,
          -5.495831732208381,
          -5.633628589915805,
          -5.494642298063328,
          -5.496558579624901,
          -5.496607234942764,
          -5.491249261676174,
          -1.858935716213045,
          -5.468517745995709,
          -5.499151358854641,
          -5.496674582562565,
          -5.491431881013014,
          -5.505319615215553,
          -5.496670136393786,
          -5.515173936368385,
          -5.496657568124298,
          -5.472175890643943,
          -5.496436322701772,
          -5.4953715767274876,
          -1.9101810052918478,
          -0.4805231015786885,
          -5.492948389334237,
          -5.434295887303988,
          -5.489625549496998,
          -5.495515357980145,
          -5.499847127118929,
          -5.496449730444265,
          -5.4921576534746475,
          -5.571223587708279,
          -5.4964218416555095,
          -0.49078443612677736,
          -5.496985563832497,
          -5.446004653608434,
          -5.515060314347935,
          -5.4981535157165276,
          -5.137364593960211,
          -5.496423796675645,
          -5.456656962677683,
          -5.49934463118864,
          -5.496986939236927,
          -5.489071119709612,
          -5.4551862946299545,
          -5.432928580847739,
          -5.496788799652758
         ],
         "z": [
          1.7567086047375051,
          1.7540456662874404,
          2.0046482620392387,
          1.7580921975185095,
          1.7169695049960707,
          1.5956815181706105,
          1.7573328420507623,
          1.7590938779586685,
          1.423661889372296,
          1.7619892579200038,
          1.7573245496997925,
          1.7572061104957868,
          1.7702487564426779,
          -0.8185836281456611,
          1.8255829464609656,
          1.7510130770909083,
          1.757042169558952,
          1.769804215338517,
          1.735997999594526,
          1.7570529926450844,
          1.7120101192068782,
          1.75708358695384,
          1.8166781081771464,
          1.7576221536029213,
          1.760214011397224,
          -0.9433274685149429,
          -1.4260374017335566,
          1.7661126550926631,
          1.9088875029294232,
          1.7742012776703597,
          1.7598640118954971,
          1.7493194032556432,
          1.757589515807987,
          1.7680375037885552,
          1.5755712604310816,
          1.757657404089937,
          -1.451016054442079,
          1.7562851634305128,
          1.8803854395970752,
          1.7122867036000744,
          1.7534420766608834,
          2.631692477272419,
          1.7576526450813992,
          1.8544550571951253,
          1.750542603929084,
          1.756281815352324,
          1.775550898330726,
          1.858035030759193,
          1.9122158685488981,
          1.7567641366173934
         ]
        },
        {
         "hovertemplate": "label=Goa Trance Mix_music.csv<br>symbol=2<br>x=%{x}<br>y=%{y}<br>z=%{z}<extra></extra>",
         "legendgroup": "Goa Trance Mix_music.csv, 2",
         "marker": {
          "color": "#FF6692",
          "symbol": "square"
         },
         "mode": "markers",
         "name": "Goa Trance Mix_music.csv, 2",
         "scene": "scene",
         "showlegend": true,
         "type": "scatter3d",
         "x": [
          1.4387791942786663,
          1.8848107882374792,
          2.089841424230613,
          1.899437780799037,
          2.779212854232,
          1.9056355440359525,
          0.5216595036806366,
          1.9455731754646965,
          1.7958100386096028,
          2.0795948730558855,
          1.9112665298966272,
          3.3599985031327533,
          1.9470297283762592,
          0.9709623692603195,
          1.9323375059286667,
          3.432487360487455,
          1.8727001952423106,
          1.264862831181115,
          2.0772476548811154,
          2.088985243259472,
          1.8990011590677072,
          1.8994694307886872,
          2.077598398898414,
          2.079276396721845,
          2.079940884587025,
          1.2641929321028633,
          2.062780718287276,
          1.9730066999722182,
          1.9786687432672299,
          2.093147635268823,
          2.039338952068678,
          2.0004653298212194,
          2.043913847240499,
          1.9741527336941667,
          2.119460554722335,
          2.7646977167490245,
          1.8995005610878353,
          2.8074532379131187,
          2.3068269010110543,
          1.696841226206359,
          2.078365128312897,
          2.0758177422427693,
          2.1447599102114445,
          1.8177812428016034,
          2.0790442714315733,
          2.077966025521535,
          2.1331226523318394,
          2.1098405958711903,
          2.062094312785955
         ],
         "y": [
          2.301395624819866,
          1.9860779497381544,
          1.7705660482919183,
          1.9757375403355226,
          -0.49078443612677736,
          1.9713560922026867,
          2.9497444246089737,
          1.9431225740821418,
          2.0489961596436355,
          1.7778097474776653,
          1.9673753217953187,
          -1.858935716213045,
          1.8715253805929848,
          2.632114156033745,
          1.9524794012728337,
          -1.9101810052918478,
          1.994639415066631,
          2.4243440975589636,
          1.7794690904207433,
          1.77117131705956,
          1.9760462058003552,
          1.975715165684186,
          1.7792211353663467,
          1.7780348912096962,
          1.7775651380083792,
          2.35425017851657,
          1.7896963498214156,
          1.9237287121132594,
          1.8491584883091434,
          1.7682287547188806,
          1.8062682772901464,
          1.833749604521419,
          1.8030340998711816,
          1.8523510371296397,
          1.7496270935382268,
          -0.4805231015786885,
          1.9756931584242814,
          1.2632573917608554,
          1.6171702866649942,
          2.1189611940834694,
          1.7786791035021552,
          1.7804799531819322,
          1.7317419614940093,
          2.03346383162385,
          1.7781989899136061,
          1.7789612453190122,
          1.7399688071896005,
          1.7564278294063005,
          1.7901815974805646
         ],
         "z": [
          -2.3509749233566812,
          -3.11853694580589,
          -3.414260590278888,
          -3.1437080864724987,
          -1.451016054442079,
          -3.1543736261985598,
          -0.7727319152877284,
          -3.2231010651657654,
          -2.9653782989541764,
          -3.396627616181787,
          -3.164063816207789,
          -0.8185836281456611,
          -3.168500344628124,
          -1.5459233682423594,
          -3.200324209411246,
          -0.9433274685149429,
          -3.0976961995935075,
          -2.0516876145558185,
          -3.39258836077082,
          -3.4127872148352094,
          -3.1429567175918414,
          -3.1437625519648353,
          -3.3931919453397414,
          -3.396079560073267,
          -3.3972230567609714,
          -1.993427548330498,
          -3.367692655486764,
          -3.270310571934136,
          -3.222946950175668,
          -3.4199501469505735,
          -3.3273524425237335,
          -3.2604560241617064,
          -3.335225238617422,
          -3.215175488493951,
          -3.465231239020731,
          -1.4260374017335566,
          -3.1438161231357844,
          -4.64917664220004,
          -3.7876642093400688,
          -2.795065920108133,
          -3.394511386356892,
          -3.390127668184511,
          -3.5087681201047,
          -3.0031878670512726,
          -3.3956801028172627,
          -3.393824582664206,
          -3.4887419217036197,
          -3.448676548340545,
          -3.3665114414157746
         ]
        },
        {
         "hovertemplate": "label=Psytrance Mix_music.csv<br>symbol=2<br>x=%{x}<br>y=%{y}<br>z=%{z}<extra></extra>",
         "legendgroup": "Psytrance Mix_music.csv, 2",
         "marker": {
          "color": "#B6E880",
          "symbol": "square"
         },
         "mode": "markers",
         "name": "Psytrance Mix_music.csv, 2",
         "scene": "scene",
         "showlegend": true,
         "type": "scatter3d",
         "x": [
          1.264862831181115,
          1.8990011590677072,
          1.60751252565843,
          1.8848107882374792,
          1.899437780799037,
          0.9709623692603195,
          -1.1096124274918848,
          1.7169623331955188,
          1.9323375059286667,
          1.7304496377852299,
          1.8995005610878353,
          1.7203661281356355,
          2.779212854232,
          1.7203690433665546,
          1.8727001952423106,
          1.9455731754646965,
          1.9112665298966272,
          1.7958100386096028,
          1.8182401885199178,
          1.8994694307886872,
          0.5216595036806366,
          1.696841226206359,
          1.9056355440359525,
          1.530055859983347,
          1.606907757472225,
          1.9730066999722182,
          1.8177812428016034,
          2.7646977167490245,
          1.4387791942786663
         ],
         "y": [
          2.4243440975589636,
          1.9760462058003552,
          2.2526787433332003,
          1.9860779497381544,
          1.9757375403355226,
          2.632114156033745,
          4.173523667186885,
          2.1753042718423887,
          1.9524794012728337,
          2.16576955371043,
          1.9756931584242814,
          2.1728979922839855,
          -0.49078443612677736,
          2.172895931392416,
          1.994639415066631,
          1.9431225740821418,
          1.9673753217953187,
          2.0489961596436355,
          2.103706882081896,
          1.975715165684186,
          2.9497444246089737,
          2.1189611940834694,
          1.9713560922026867,
          2.307435975939683,
          2.2531062782903657,
          1.9237287121132594,
          2.03346383162385,
          -0.4805231015786885,
          2.301395624819866
         ],
         "z": [
          -2.0516876145558185,
          -3.1429567175918414,
          -2.698450170175268,
          -3.11853694580589,
          -3.1437080864724987,
          -1.5459233682423594,
          1.9773664144223135,
          -2.8867989705017956,
          -3.200324209411246,
          -2.910008857264277,
          -3.1438161231357844,
          -2.8926564563025092,
          -1.451016054442079,
          -2.892661473030808,
          -3.0976961995935075,
          -3.2231010651657654,
          -3.164063816207789,
          -2.9653782989541764,
          -3.0610849101414743,
          -3.1437625519648353,
          -0.7727319152877284,
          -2.795065920108133,
          -3.1543736261985598,
          -2.565157381586008,
          -2.6974094432438434,
          -3.270310571934136,
          -3.0031878670512726,
          -1.4260374017335566,
          -2.3509749233566812
         ]
        },
        {
         "hovertemplate": "label=Tech Trance Mix_music.csv<br>symbol=2<br>x=%{x}<br>y=%{y}<br>z=%{z}<extra></extra>",
         "legendgroup": "Tech Trance Mix_music.csv, 2",
         "marker": {
          "color": "#FF97FF",
          "symbol": "square"
         },
         "mode": "markers",
         "name": "Tech Trance Mix_music.csv, 2",
         "scene": "scene",
         "showlegend": true,
         "type": "scatter3d",
         "x": [
          -2.4729896150112953,
          -2.4444334363365674,
          -1.696856386018542,
          -1.375519347317038,
          -2.317261028605448,
          -2.4036578907968096,
          -2.784802421264221,
          -2.473386235357183,
          -2.2886158519246997,
          -2.448930159832755,
          -3.2430512554222575,
          -3.562779772211188,
          -2.4246449748272023,
          -2.473305978571979,
          -2.4733734424094718,
          -2.4703438066037346,
          -2.579595597544196,
          -0.2364041606687728,
          -2.040595603770572,
          -10.527587200590983,
          -2.4734431718410854,
          -2.127911339739235,
          -0.73211080331042,
          -2.402475573623283,
          -2.277599564843541,
          -2.4890176909185904,
          -2.0679588112246496,
          -2.454307144213435,
          -2.5552794822371405,
          -2.428821415496566,
          -2.4423051778071625,
          -2.4730924040957696,
          -2.5246384027212447,
          -2.463093808538039,
          -1.1670763102640431,
          1.035609168685788,
          -2.465438041877015,
          -2.1131346732806464,
          -2.4796008658108573,
          -2.5033188641859474,
          -2.489810565506949,
          -2.2714179152426848,
          -2.503646513347129,
          -2.4696518355141746,
          -2.8828733876112125,
          -1.6272164130742417,
          -2.558396008734861,
          -2.3352355551307675,
          -2.414828665105982,
          -2.1164022694069127
         ],
         "y": [
          4.09994195327818,
          4.07975444192112,
          3.5512621542814045,
          3.3240960760631797,
          3.989851151473838,
          4.050928568611016,
          4.320374968473442,
          4.100222340155066,
          3.9696007238457685,
          4.082933356638098,
          4.644329502082278,
          4.87035845145879,
          4.0657651825029735,
          4.100165603404701,
          4.100213296298886,
          4.098071524889649,
          4.175306010483239,
          2.5188097305012414,
          3.79426523398267,
          -0.8195789105981488,
          4.100262590843432,
          3.8559922399539777,
          2.8692446956411595,
          4.050092741042998,
          3.9618128673855852,
          4.111272844855927,
          3.813609385998021,
          4.086734563182272,
          4.15811597047375,
          4.068717676406522,
          4.078249890359056,
          4.100014619017119,
          4.136454558847587,
          4.092946209630909,
          3.176739308693554,
          1.6195723421236958,
          4.094603442473266,
          3.8455460200532614,
          4.104615712401937,
          4.12138291949337,
          4.111833359795353,
          3.9574428106301003,
          4.1216145478649855,
          4.097582342692329,
          4.389705279421021,
          3.5020308561873503,
          4.160319168415111,
          4.002558067287487,
          4.058825638306688,
          3.847856015191761
         ],
         "z": [
          3.846901114746087,
          3.79775966702452,
          2.511277362966516,
          1.958298357321802,
          3.5789125902704098,
          3.7275902874897993,
          4.3834901623268605,
          3.8475836464746584,
          3.529617988622682,
          3.8054979398907647,
          5.1720764568749305,
          5.72228740673819,
          3.763706313533342,
          3.847445535045985,
          3.8475616314732775,
          3.8423480246071904,
          4.030356064275891,
          -0.0019698575505680826,
          3.1028075880592527,
          0.8514906293537169,
          3.847681626710654,
          3.2530665468403224,
          0.8510764250922489,
          3.7255556743070337,
          3.5106603997289265,
          3.8744833365579407,
          3.1498960883775475,
          3.8147510265820634,
          3.988511210915756,
          3.770893421554804,
          3.7940972125182335,
          3.8470780013137302,
          3.9357819215965186,
          3.829871726395638,
          1.5995951594928868,
          -2.190938390016638,
          3.8339058452943857,
          3.2276378369785075,
          3.8582782124753088,
          3.8990937848425844,
          3.8758477699991603,
          3.500022589461687,
          3.899657626185352,
          3.841157232887066,
          4.552257465568169,
          2.3914360799713634,
          3.9938743453079644,
          3.6098443989566547,
          3.746813728692483,
          3.233260942438377
         ]
        }
       ],
       "layout": {
        "legend": {
         "title": {
          "text": "label, symbol"
         },
         "tracegroupgap": 0
        },
        "scene": {
         "domain": {
          "x": [
           0,
           1
          ],
          "y": [
           0,
           1
          ]
         },
         "xaxis": {
          "title": {
           "text": "x"
          }
         },
         "yaxis": {
          "title": {
           "text": "y"
          }
         },
         "zaxis": {
          "title": {
           "text": "z"
          }
         }
        },
        "template": {
         "data": {
          "bar": [
           {
            "error_x": {
             "color": "#2a3f5f"
            },
            "error_y": {
             "color": "#2a3f5f"
            },
            "marker": {
             "line": {
              "color": "#E5ECF6",
              "width": 0.5
             },
             "pattern": {
              "fillmode": "overlay",
              "size": 10,
              "solidity": 0.2
             }
            },
            "type": "bar"
           }
          ],
          "barpolar": [
           {
            "marker": {
             "line": {
              "color": "#E5ECF6",
              "width": 0.5
             },
             "pattern": {
              "fillmode": "overlay",
              "size": 10,
              "solidity": 0.2
             }
            },
            "type": "barpolar"
           }
          ],
          "carpet": [
           {
            "aaxis": {
             "endlinecolor": "#2a3f5f",
             "gridcolor": "white",
             "linecolor": "white",
             "minorgridcolor": "white",
             "startlinecolor": "#2a3f5f"
            },
            "baxis": {
             "endlinecolor": "#2a3f5f",
             "gridcolor": "white",
             "linecolor": "white",
             "minorgridcolor": "white",
             "startlinecolor": "#2a3f5f"
            },
            "type": "carpet"
           }
          ],
          "choropleth": [
           {
            "colorbar": {
             "outlinewidth": 0,
             "ticks": ""
            },
            "type": "choropleth"
           }
          ],
          "contour": [
           {
            "colorbar": {
             "outlinewidth": 0,
             "ticks": ""
            },
            "colorscale": [
             [
              0,
              "#0d0887"
             ],
             [
              0.1111111111111111,
              "#46039f"
             ],
             [
              0.2222222222222222,
              "#7201a8"
             ],
             [
              0.3333333333333333,
              "#9c179e"
             ],
             [
              0.4444444444444444,
              "#bd3786"
             ],
             [
              0.5555555555555556,
              "#d8576b"
             ],
             [
              0.6666666666666666,
              "#ed7953"
             ],
             [
              0.7777777777777778,
              "#fb9f3a"
             ],
             [
              0.8888888888888888,
              "#fdca26"
             ],
             [
              1,
              "#f0f921"
             ]
            ],
            "type": "contour"
           }
          ],
          "contourcarpet": [
           {
            "colorbar": {
             "outlinewidth": 0,
             "ticks": ""
            },
            "type": "contourcarpet"
           }
          ],
          "heatmap": [
           {
            "colorbar": {
             "outlinewidth": 0,
             "ticks": ""
            },
            "colorscale": [
             [
              0,
              "#0d0887"
             ],
             [
              0.1111111111111111,
              "#46039f"
             ],
             [
              0.2222222222222222,
              "#7201a8"
             ],
             [
              0.3333333333333333,
              "#9c179e"
             ],
             [
              0.4444444444444444,
              "#bd3786"
             ],
             [
              0.5555555555555556,
              "#d8576b"
             ],
             [
              0.6666666666666666,
              "#ed7953"
             ],
             [
              0.7777777777777778,
              "#fb9f3a"
             ],
             [
              0.8888888888888888,
              "#fdca26"
             ],
             [
              1,
              "#f0f921"
             ]
            ],
            "type": "heatmap"
           }
          ],
          "heatmapgl": [
           {
            "colorbar": {
             "outlinewidth": 0,
             "ticks": ""
            },
            "colorscale": [
             [
              0,
              "#0d0887"
             ],
             [
              0.1111111111111111,
              "#46039f"
             ],
             [
              0.2222222222222222,
              "#7201a8"
             ],
             [
              0.3333333333333333,
              "#9c179e"
             ],
             [
              0.4444444444444444,
              "#bd3786"
             ],
             [
              0.5555555555555556,
              "#d8576b"
             ],
             [
              0.6666666666666666,
              "#ed7953"
             ],
             [
              0.7777777777777778,
              "#fb9f3a"
             ],
             [
              0.8888888888888888,
              "#fdca26"
             ],
             [
              1,
              "#f0f921"
             ]
            ],
            "type": "heatmapgl"
           }
          ],
          "histogram": [
           {
            "marker": {
             "pattern": {
              "fillmode": "overlay",
              "size": 10,
              "solidity": 0.2
             }
            },
            "type": "histogram"
           }
          ],
          "histogram2d": [
           {
            "colorbar": {
             "outlinewidth": 0,
             "ticks": ""
            },
            "colorscale": [
             [
              0,
              "#0d0887"
             ],
             [
              0.1111111111111111,
              "#46039f"
             ],
             [
              0.2222222222222222,
              "#7201a8"
             ],
             [
              0.3333333333333333,
              "#9c179e"
             ],
             [
              0.4444444444444444,
              "#bd3786"
             ],
             [
              0.5555555555555556,
              "#d8576b"
             ],
             [
              0.6666666666666666,
              "#ed7953"
             ],
             [
              0.7777777777777778,
              "#fb9f3a"
             ],
             [
              0.8888888888888888,
              "#fdca26"
             ],
             [
              1,
              "#f0f921"
             ]
            ],
            "type": "histogram2d"
           }
          ],
          "histogram2dcontour": [
           {
            "colorbar": {
             "outlinewidth": 0,
             "ticks": ""
            },
            "colorscale": [
             [
              0,
              "#0d0887"
             ],
             [
              0.1111111111111111,
              "#46039f"
             ],
             [
              0.2222222222222222,
              "#7201a8"
             ],
             [
              0.3333333333333333,
              "#9c179e"
             ],
             [
              0.4444444444444444,
              "#bd3786"
             ],
             [
              0.5555555555555556,
              "#d8576b"
             ],
             [
              0.6666666666666666,
              "#ed7953"
             ],
             [
              0.7777777777777778,
              "#fb9f3a"
             ],
             [
              0.8888888888888888,
              "#fdca26"
             ],
             [
              1,
              "#f0f921"
             ]
            ],
            "type": "histogram2dcontour"
           }
          ],
          "mesh3d": [
           {
            "colorbar": {
             "outlinewidth": 0,
             "ticks": ""
            },
            "type": "mesh3d"
           }
          ],
          "parcoords": [
           {
            "line": {
             "colorbar": {
              "outlinewidth": 0,
              "ticks": ""
             }
            },
            "type": "parcoords"
           }
          ],
          "pie": [
           {
            "automargin": true,
            "type": "pie"
           }
          ],
          "scatter": [
           {
            "fillpattern": {
             "fillmode": "overlay",
             "size": 10,
             "solidity": 0.2
            },
            "type": "scatter"
           }
          ],
          "scatter3d": [
           {
            "line": {
             "colorbar": {
              "outlinewidth": 0,
              "ticks": ""
             }
            },
            "marker": {
             "colorbar": {
              "outlinewidth": 0,
              "ticks": ""
             }
            },
            "type": "scatter3d"
           }
          ],
          "scattercarpet": [
           {
            "marker": {
             "colorbar": {
              "outlinewidth": 0,
              "ticks": ""
             }
            },
            "type": "scattercarpet"
           }
          ],
          "scattergeo": [
           {
            "marker": {
             "colorbar": {
              "outlinewidth": 0,
              "ticks": ""
             }
            },
            "type": "scattergeo"
           }
          ],
          "scattergl": [
           {
            "marker": {
             "colorbar": {
              "outlinewidth": 0,
              "ticks": ""
             }
            },
            "type": "scattergl"
           }
          ],
          "scattermapbox": [
           {
            "marker": {
             "colorbar": {
              "outlinewidth": 0,
              "ticks": ""
             }
            },
            "type": "scattermapbox"
           }
          ],
          "scatterpolar": [
           {
            "marker": {
             "colorbar": {
              "outlinewidth": 0,
              "ticks": ""
             }
            },
            "type": "scatterpolar"
           }
          ],
          "scatterpolargl": [
           {
            "marker": {
             "colorbar": {
              "outlinewidth": 0,
              "ticks": ""
             }
            },
            "type": "scatterpolargl"
           }
          ],
          "scatterternary": [
           {
            "marker": {
             "colorbar": {
              "outlinewidth": 0,
              "ticks": ""
             }
            },
            "type": "scatterternary"
           }
          ],
          "surface": [
           {
            "colorbar": {
             "outlinewidth": 0,
             "ticks": ""
            },
            "colorscale": [
             [
              0,
              "#0d0887"
             ],
             [
              0.1111111111111111,
              "#46039f"
             ],
             [
              0.2222222222222222,
              "#7201a8"
             ],
             [
              0.3333333333333333,
              "#9c179e"
             ],
             [
              0.4444444444444444,
              "#bd3786"
             ],
             [
              0.5555555555555556,
              "#d8576b"
             ],
             [
              0.6666666666666666,
              "#ed7953"
             ],
             [
              0.7777777777777778,
              "#fb9f3a"
             ],
             [
              0.8888888888888888,
              "#fdca26"
             ],
             [
              1,
              "#f0f921"
             ]
            ],
            "type": "surface"
           }
          ],
          "table": [
           {
            "cells": {
             "fill": {
              "color": "#EBF0F8"
             },
             "line": {
              "color": "white"
             }
            },
            "header": {
             "fill": {
              "color": "#C8D4E3"
             },
             "line": {
              "color": "white"
             }
            },
            "type": "table"
           }
          ]
         },
         "layout": {
          "annotationdefaults": {
           "arrowcolor": "#2a3f5f",
           "arrowhead": 0,
           "arrowwidth": 1
          },
          "autotypenumbers": "strict",
          "coloraxis": {
           "colorbar": {
            "outlinewidth": 0,
            "ticks": ""
           }
          },
          "colorscale": {
           "diverging": [
            [
             0,
             "#8e0152"
            ],
            [
             0.1,
             "#c51b7d"
            ],
            [
             0.2,
             "#de77ae"
            ],
            [
             0.3,
             "#f1b6da"
            ],
            [
             0.4,
             "#fde0ef"
            ],
            [
             0.5,
             "#f7f7f7"
            ],
            [
             0.6,
             "#e6f5d0"
            ],
            [
             0.7,
             "#b8e186"
            ],
            [
             0.8,
             "#7fbc41"
            ],
            [
             0.9,
             "#4d9221"
            ],
            [
             1,
             "#276419"
            ]
           ],
           "sequential": [
            [
             0,
             "#0d0887"
            ],
            [
             0.1111111111111111,
             "#46039f"
            ],
            [
             0.2222222222222222,
             "#7201a8"
            ],
            [
             0.3333333333333333,
             "#9c179e"
            ],
            [
             0.4444444444444444,
             "#bd3786"
            ],
            [
             0.5555555555555556,
             "#d8576b"
            ],
            [
             0.6666666666666666,
             "#ed7953"
            ],
            [
             0.7777777777777778,
             "#fb9f3a"
            ],
            [
             0.8888888888888888,
             "#fdca26"
            ],
            [
             1,
             "#f0f921"
            ]
           ],
           "sequentialminus": [
            [
             0,
             "#0d0887"
            ],
            [
             0.1111111111111111,
             "#46039f"
            ],
            [
             0.2222222222222222,
             "#7201a8"
            ],
            [
             0.3333333333333333,
             "#9c179e"
            ],
            [
             0.4444444444444444,
             "#bd3786"
            ],
            [
             0.5555555555555556,
             "#d8576b"
            ],
            [
             0.6666666666666666,
             "#ed7953"
            ],
            [
             0.7777777777777778,
             "#fb9f3a"
            ],
            [
             0.8888888888888888,
             "#fdca26"
            ],
            [
             1,
             "#f0f921"
            ]
           ]
          },
          "colorway": [
           "#636efa",
           "#EF553B",
           "#00cc96",
           "#ab63fa",
           "#FFA15A",
           "#19d3f3",
           "#FF6692",
           "#B6E880",
           "#FF97FF",
           "#FECB52"
          ],
          "font": {
           "color": "#2a3f5f"
          },
          "geo": {
           "bgcolor": "white",
           "lakecolor": "white",
           "landcolor": "#E5ECF6",
           "showlakes": true,
           "showland": true,
           "subunitcolor": "white"
          },
          "hoverlabel": {
           "align": "left"
          },
          "hovermode": "closest",
          "mapbox": {
           "style": "light"
          },
          "paper_bgcolor": "white",
          "plot_bgcolor": "#E5ECF6",
          "polar": {
           "angularaxis": {
            "gridcolor": "white",
            "linecolor": "white",
            "ticks": ""
           },
           "bgcolor": "#E5ECF6",
           "radialaxis": {
            "gridcolor": "white",
            "linecolor": "white",
            "ticks": ""
           }
          },
          "scene": {
           "xaxis": {
            "backgroundcolor": "#E5ECF6",
            "gridcolor": "white",
            "gridwidth": 2,
            "linecolor": "white",
            "showbackground": true,
            "ticks": "",
            "zerolinecolor": "white"
           },
           "yaxis": {
            "backgroundcolor": "#E5ECF6",
            "gridcolor": "white",
            "gridwidth": 2,
            "linecolor": "white",
            "showbackground": true,
            "ticks": "",
            "zerolinecolor": "white"
           },
           "zaxis": {
            "backgroundcolor": "#E5ECF6",
            "gridcolor": "white",
            "gridwidth": 2,
            "linecolor": "white",
            "showbackground": true,
            "ticks": "",
            "zerolinecolor": "white"
           }
          },
          "shapedefaults": {
           "line": {
            "color": "#2a3f5f"
           }
          },
          "ternary": {
           "aaxis": {
            "gridcolor": "white",
            "linecolor": "white",
            "ticks": ""
           },
           "baxis": {
            "gridcolor": "white",
            "linecolor": "white",
            "ticks": ""
           },
           "bgcolor": "#E5ECF6",
           "caxis": {
            "gridcolor": "white",
            "linecolor": "white",
            "ticks": ""
           }
          },
          "title": {
           "x": 0.05
          },
          "xaxis": {
           "automargin": true,
           "gridcolor": "white",
           "linecolor": "white",
           "ticks": "",
           "title": {
            "standoff": 15
           },
           "zerolinecolor": "white",
           "zerolinewidth": 2
          },
          "yaxis": {
           "automargin": true,
           "gridcolor": "white",
           "linecolor": "white",
           "ticks": "",
           "title": {
            "standoff": 15
           },
           "zerolinecolor": "white",
           "zerolinewidth": 2
          }
         }
        },
        "title": {
         "text": "3D Scatter Plot Colored by Subcategory"
        }
       }
      }
     },
     "metadata": {},
     "output_type": "display_data"
    }
   ],
   "source": [
    "\n",
    "genre_1 = \"house\"\n",
    "genre_2 = \"techno\"\n",
    "genre_3 = \"trance\"\n",
    "genres = [genre_1, genre_2, genre_3]\n",
    "\n",
    "# # Combine datasets\n",
    "combined_df = pd.concat([pd.concat(selec_list[genres_names.index(genre_1)]),\n",
    "                          pd.concat(selec_list[genres_names.index(genre_2)]),\n",
    "                          pd.concat(selec_list[genres_names.index(genre_3)])])\n",
    " \n",
    "l1 = pd.concat(selec_list[genres_names.index(genre_1)])\n",
    "l2 = pd.concat(selec_list[genres_names.index(genre_2)])\n",
    "l3 = pd.concat(selec_list[genres_names.index(genre_3)])\n",
    "\n",
    "\n",
    "X1 = l1.drop(columns='class')\n",
    "y1 = l1['class']\n",
    "\n",
    "X2 = l2.drop(columns='class')\n",
    "y2 = l2['class']\n",
    "\n",
    "X3 = l3.drop(columns='class')\n",
    "y3 = l3['class']\n",
    "\n",
    "\n",
    "X = [X1,X2,X3]\n",
    "y = [y1.to_numpy(),y2.to_numpy(),y3.to_numpy()]\n",
    "\n",
    "print(combined_df.columns)\n",
    "\n",
    "\n",
    "plot_in_space(X,y,\"poly_LDA\",10, genres)\n",
    "#feature_importance_dTree(np.concatenate(X),np.concatenate(y), combined_df)\n",
    "\n",
    "\n",
    "\n",
    "\n"
   ]
  },
  {
   "cell_type": "code",
   "execution_count": 44,
   "metadata": {},
   "outputs": [],
   "source": [
    "\n",
    "genre = \"over_genres\"\n",
    "def extract_info(genre):\n",
    "    # # Combine datasets\n",
    "    combined_df = pd.concat(selec_list[genres_names.index(genre)])\n",
    "\n",
    "    X = combined_df.drop(columns='class')\n",
    "    y = combined_df['class']\n",
    "\n",
    "    y = y.to_numpy()\n",
    "    feature_imp, mms, accuracy = feature_importance_dTree(X,y, combined_df)\n",
    "    \n",
    "    return feature_imp, mms, accuracy, combined_df\n",
    "\n",
    "\n",
    "feature_imps = []\n",
    "mms_s = []\n",
    "accuracies = []\n",
    "comb_dfs = []\n",
    "\n",
    "for genre in genres_names:\n",
    "    feature_imp, mms, accuracy, combined_df = extract_info(genre)\n",
    "    feature_imps.append(feature_imp)\n",
    "    mms_s.append(mms)\n",
    "    accuracies.append(accuracy)\n",
    "    comb_dfs.append(combined_df)\n",
    "\n",
    "\n"
   ]
  },
  {
   "cell_type": "code",
   "execution_count": 58,
   "metadata": {},
   "outputs": [
    {
     "name": "stdout",
     "output_type": "stream",
     "text": [
      "                                instrumentalness_mean  instrumentalness_std  \\\n",
      "class                                                                         \n",
      "Acid Techno Mix_music.csv                    0.630578              0.291380   \n",
      "Dub Techno Mix_music.csv                     0.852864              0.121524   \n",
      "French Techno Mix_music.csv                  0.622846              0.343927   \n",
      "Hardstyle Techno Mix_music.csv               0.152496              0.267404   \n",
      "Melodic Techno Mix_music.csv                 0.537625              0.310822   \n",
      "Minimal Techno Mix_music.csv                 0.798550              0.106666   \n",
      "Tribal Techno Mix_music.csv                  0.651444              0.274426   \n",
      "\n",
      "                                danceability_mean  danceability_std  \\\n",
      "class                                                                 \n",
      "Acid Techno Mix_music.csv                0.644714          0.083853   \n",
      "Dub Techno Mix_music.csv                 0.668818          0.165192   \n",
      "French Techno Mix_music.csv              0.683364          0.133294   \n",
      "Hardstyle Techno Mix_music.csv           0.567540          0.122850   \n",
      "Melodic Techno Mix_music.csv             0.644980          0.097304   \n",
      "Minimal Techno Mix_music.csv             0.706200          0.109393   \n",
      "Tribal Techno Mix_music.csv              0.759889          0.054087   \n",
      "\n",
      "                                valence_mean  valence_std  \n",
      "class                                                      \n",
      "Acid Techno Mix_music.csv           0.271459     0.206815  \n",
      "Dub Techno Mix_music.csv            0.391268     0.228101  \n",
      "French Techno Mix_music.csv         0.391273     0.211914  \n",
      "Hardstyle Techno Mix_music.csv      0.351192     0.205188  \n",
      "Melodic Techno Mix_music.csv        0.224740     0.160694  \n",
      "Minimal Techno Mix_music.csv        0.144650     0.096607  \n",
      "Tribal Techno Mix_music.csv         0.424622     0.331151  \n"
     ]
    }
   ],
   "source": [
    "\n",
    "three_feat_mms=[]\n",
    "\n",
    "for i, name in enumerate(genres_names):\n",
    "    three_feat_mms.append(mms_s[i][['instrumentalness_mean', 'instrumentalness_std', 'danceability_mean', 'danceability_std', 'valence_mean', 'valence_std']])\n",
    "\n",
    "print(three_feat_mms[0])"
   ]
  },
  {
   "cell_type": "code",
   "execution_count": 24,
   "metadata": {},
   "outputs": [
    {
     "name": "stderr",
     "output_type": "stream",
     "text": [
      "No artists with labels found to put in legend.  Note that artists whose label start with an underscore are ignored when legend() is called with no argument.\n"
     ]
    },
    {
     "data": {
      "image/png": "[encoded data removed]",
      "text/plain": [
       "<Figure size 1200x800 with 1 Axes>"
      ]
     },
     "metadata": {},
     "output_type": "display_data"
    }
   ],
   "source": [
    "import pandas as pd\n",
    "import numpy as np\n",
    "import seaborn as sns\n",
    "import matplotlib.pyplot as plt\n",
    "\n",
    "# Assuming combined_df is your DataFrame\n",
    "df = combined_df\n",
    "\n",
    "# Plot the KDE for each genre\n",
    "plt.figure(figsize=(12, 8))\n",
    "genres = df['class'].unique()\n",
    "colors = sns.color_palette('husl', len(genres))\n",
    "\n",
    "for genre, color in zip(genres, colors):\n",
    "    subset = df[df['class'] == genre]\n",
    "    sns.kdeplot(\n",
    "        x=subset['danceability'], \n",
    "        y=subset['instrumentalness'], \n",
    "        fill=True, \n",
    "        alpha=0.5, \n",
    "        label=genre, \n",
    "        color=color\n",
    "    )\n",
    "\n",
    "# Add labels and title\n",
    "plt.xlabel('Valence')\n",
    "plt.ylabel('Instrumentalness')\n",
    "plt.title('KDE Plot of Valence vs Instrumentalness by Genre')\n",
    "plt.legend(title='Genre')\n",
    "plt.show()\n"
   ]
  },
  {
   "cell_type": "code",
   "execution_count": 110,
   "metadata": {},
   "outputs": [
    {
     "data": {
      "application/vnd.plotly.v1+json": {
       "config": {
        "plotlyServerURL": "https://plot.ly"
       },
       "data": [
        {
         "hovertemplate": "class=Acid House_music.csv<br>danceability=%{x}<br>instrumentalness=%{y}<br>valence=%{z}<extra></extra>",
         "legendgroup": "Acid House_music.csv",
         "marker": {
          "color": "lightgreen",
          "symbol": "circle"
         },
         "mode": "markers",
         "name": "Acid House_music.csv",
         "scene": "scene",
         "showlegend": true,
         "type": "scatter3d",
         "x": [
          0.653,
          0.714,
          0.846,
          0.72,
          0.231,
          0.725,
          0.757,
          0.656,
          0.786,
          0.752,
          0.776,
          0.752,
          0.633,
          0.819,
          0.549,
          0.742,
          0.684,
          0.522,
          0.759,
          0.876,
          0.839,
          0.712,
          0.759,
          0.824,
          0.748,
          0.599,
          0.686,
          0.806,
          0.685,
          0.727,
          0.802,
          0.707,
          0.775,
          0.779,
          0.792,
          0.81,
          0.752,
          0.805,
          0.802,
          0.628,
          0.804,
          0.832,
          0.565,
          0.8,
          0.683,
          0.805,
          0.8,
          0.737,
          0.773,
          0.642
         ],
         "y": [
          0.823,
          0.811,
          0.0348,
          0.649,
          0.0201,
          0.0296,
          0.911,
          0.0969,
          0.000143,
          0.892,
          0.92,
          0.267,
          0.808,
          0,
          0.124,
          0.851,
          0.911,
          0.894,
          0.000641,
          0.916,
          0.237,
          0.904,
          0.0568,
          0.716,
          0.873,
          0.0546,
          0.834,
          0.864,
          0.447,
          0.133,
          0.961,
          0.7,
          0.904,
          0.975,
          0.919,
          0.865,
          0.452,
          0.628,
          0.94,
          0.946,
          0.965,
          0.884,
          0.762,
          0.211,
          0.684,
          0.627,
          0.748,
          0.00199,
          0.623,
          0.0066
         ],
         "z": [
          0.189,
          0.509,
          0.831,
          0.403,
          0.519,
          0.785,
          0.772,
          0.544,
          0.76,
          0.0584,
          0.718,
          0.842,
          0.228,
          0.846,
          0.961,
          0.978,
          0.966,
          0.792,
          0.909,
          0.513,
          0.924,
          0.963,
          0.611,
          0.867,
          0.647,
          0.806,
          0.551,
          0.43,
          0.582,
          0.868,
          0.485,
          0.612,
          0.658,
          0.48,
          0.505,
          0.659,
          0.345,
          0.947,
          0.746,
          0.452,
          0.489,
          0.696,
          0.534,
          0.546,
          0.541,
          0.798,
          0.449,
          0.736,
          0.513,
          0.878
         ]
        },
        {
         "hovertemplate": "class=Acid Techno Mix_music.csv<br>danceability=%{x}<br>instrumentalness=%{y}<br>valence=%{z}<extra></extra>",
         "legendgroup": "Acid Techno Mix_music.csv",
         "marker": {
          "color": "darkgreen",
          "symbol": "circle"
         },
         "mode": "markers",
         "name": "Acid Techno Mix_music.csv",
         "scene": "scene",
         "showlegend": true,
         "type": "scatter3d",
         "x": [
          0.715,
          0.635,
          0.714,
          0.407,
          0.724,
          0.566,
          0.722,
          0.608,
          0.743,
          0.459,
          0.623,
          0.728,
          0.663,
          0.721,
          0.592,
          0.718,
          0.533,
          0.72,
          0.571,
          0.618,
          0.654,
          0.616,
          0.584,
          0.628,
          0.66,
          0.57,
          0.553,
          0.578,
          0.668,
          0.695,
          0.645,
          0.706,
          0.682,
          0.872,
          0.773,
          0.707,
          0.72,
          0.626,
          0.551,
          0.693,
          0.559,
          0.67,
          0.693,
          0.557,
          0.755,
          0.577,
          0.581,
          0.628,
          0.61
         ],
         "y": [
          0.0595,
          0.852,
          0.686,
          0.184,
          0.859,
          0.278,
          0.687,
          0.805,
          0.656,
          0.303,
          0.00162,
          0.807,
          0.885,
          0.853,
          0.892,
          0.802,
          0.365,
          0.0623,
          0.788,
          0.867,
          0.914,
          0.952,
          0.785,
          0.236,
          0.00873,
          0.752,
          0.818,
          0.753,
          0.576,
          0.795,
          0.00619,
          0.247,
          0.926,
          0.829,
          0.483,
          0.918,
          0.65,
          0.383,
          0.794,
          0.666,
          0.519,
          0.855,
          0.432,
          0.626,
          0.903,
          0.896,
          0.81,
          0.852,
          0.821
         ],
         "z": [
          0.143,
          0.035,
          0.615,
          0.405,
          0.753,
          0.317,
          0.169,
          0.241,
          0.0381,
          0.136,
          0.141,
          0.319,
          0.294,
          0.75,
          0.149,
          0.342,
          0.487,
          0.132,
          0.256,
          0.115,
          0.276,
          0.772,
          0.318,
          0.0395,
          0.526,
          0.471,
          0.0389,
          0.203,
          0.272,
          0.039,
          0.34,
          0.319,
          0.0708,
          0.0415,
          0.465,
          0.192,
          0.402,
          0.497,
          0.0771,
          0.723,
          0.0384,
          0.192,
          0.303,
          0.092,
          0.219,
          0.203,
          0.19,
          0.0372,
          0.107
         ]
        },
        {
         "hovertemplate": "class=Acid Trance Mix_music.csv<br>danceability=%{x}<br>instrumentalness=%{y}<br>valence=%{z}<extra></extra>",
         "legendgroup": "Acid Trance Mix_music.csv",
         "marker": {
          "color": "limegreen",
          "symbol": "circle"
         },
         "mode": "markers",
         "name": "Acid Trance Mix_music.csv",
         "scene": "scene",
         "showlegend": true,
         "type": "scatter3d",
         "x": [
          0.722,
          0.639,
          0.735,
          0.627,
          0.632,
          0.641,
          0.663,
          0.744,
          0.621,
          0.876,
          0.634,
          0.666,
          0.785,
          0.829
         ],
         "y": [
          0.966,
          0.655,
          0.146,
          0.92,
          0.0211,
          0.812,
          0.882,
          0.732,
          0.808,
          0.95,
          0.825,
          0.802,
          0.752,
          0.732
         ],
         "z": [
          0.532,
          0.169,
          0.971,
          0.126,
          0.276,
          0.139,
          0.379,
          0.413,
          0.197,
          0.246,
          0.174,
          0.297,
          0.829,
          0.524
         ]
        },
        {
         "hovertemplate": "class=House Classics Mix_music.csv<br>danceability=%{x}<br>instrumentalness=%{y}<br>valence=%{z}<extra></extra>",
         "legendgroup": "House Classics Mix_music.csv",
         "marker": {
          "color": "lightblue",
          "symbol": "circle"
         },
         "mode": "markers",
         "name": "House Classics Mix_music.csv",
         "scene": "scene",
         "showlegend": true,
         "type": "scatter3d",
         "x": [
          0.591,
          0.733,
          0.781,
          0.58,
          0.793,
          0.884,
          0.604,
          0.742,
          0.885,
          0.66,
          0.791,
          0.658,
          0.73,
          0.612,
          0.692,
          0.617,
          0.614,
          0.822,
          0.462,
          0.703,
          0.719,
          0.49,
          0.757,
          0.838,
          0.71,
          0.586,
          0.572,
          0.71,
          0.718,
          0.856,
          0.82,
          0.862,
          0.435,
          0.637,
          0.565,
          0.729,
          0.694,
          0.712,
          0.752,
          0.877,
          0.621,
          0.655,
          0.755,
          0.932,
          0.548,
          0.82,
          0.789,
          0.823,
          0.678,
          0.776
         ],
         "y": [
          0.028,
          0.631,
          0.389,
          0.000446,
          0.0000196,
          0.568,
          0.817,
          0.0227,
          0.00000449,
          0.0879,
          0.00385,
          0,
          0.0000257,
          0.00123,
          0.00194,
          0.0598,
          0.219,
          0.00955,
          0.00962,
          0.0126,
          0.0889,
          0.939,
          0.0497,
          0.000122,
          0.568,
          0.0148,
          0.388,
          0.571,
          0.858,
          0.00147,
          0.801,
          0.00000115,
          0.658,
          0.714,
          0.000393,
          0.562,
          0.0196,
          0.215,
          0.0352,
          0.388,
          0.823,
          0.0356,
          0.793,
          0.0539,
          0.829,
          0.718,
          0.0247,
          0.3,
          0.457,
          0.227
         ],
         "z": [
          0.485,
          0.924,
          0.868,
          0.909,
          0.833,
          0.675,
          0.387,
          0.81,
          0.715,
          0.62,
          0.562,
          0.578,
          0.887,
          0.954,
          0.804,
          0.517,
          0.733,
          0.472,
          0.395,
          0.872,
          0.626,
          0.367,
          0.962,
          0.924,
          0.71,
          0.479,
          0.111,
          0.633,
          0.871,
          0.581,
          0.911,
          0.651,
          0.658,
          0.67,
          0.569,
          0.927,
          0.924,
          0.756,
          0.31,
          0.296,
          0.214,
          0.469,
          0.876,
          0.968,
          0.137,
          0.724,
          0.591,
          0.849,
          0.877,
          0.698
         ]
        },
        {
         "hovertemplate": "class=Techno Mix_music.csv<br>danceability=%{x}<br>instrumentalness=%{y}<br>valence=%{z}<extra></extra>",
         "legendgroup": "Techno Mix_music.csv",
         "marker": {
          "color": "darkblue",
          "symbol": "circle"
         },
         "mode": "markers",
         "name": "Techno Mix_music.csv",
         "scene": "scene",
         "showlegend": true,
         "type": "scatter3d",
         "x": [
          0.663,
          0.848,
          0.482,
          0.624,
          0.853,
          0.619,
          0.604,
          0.723,
          0.72,
          0.733,
          0.687,
          0.582,
          0.581,
          0.66,
          0.668,
          0.678,
          0.398,
          0.693,
          0.743,
          0.802,
          0.609,
          0.618,
          0.718,
          0.76,
          0.714,
          0.601,
          0.761,
          0.67,
          0.818,
          0.779,
          0.866,
          0.854,
          0.582,
          0.96,
          0.622,
          0.687,
          0.764,
          0.607,
          0.566,
          0.646,
          0.756,
          0.674,
          0.722,
          0.407,
          0.578,
          0.58,
          0.544,
          0.702,
          0.724,
          0.925
         ],
         "y": [
          0.885,
          0.18,
          0.853,
          0.0385,
          0.948,
          0.0172,
          0.817,
          0.000505,
          0.0623,
          0.000027,
          0.0000451,
          0.0000158,
          0.81,
          0.00873,
          0.138,
          0.81,
          0.0435,
          0.432,
          0.0319,
          0.0984,
          0.749,
          0.867,
          0.802,
          0.703,
          0.686,
          0.0757,
          0.0179,
          0.0000321,
          0.777,
          0.101,
          0.639,
          0.697,
          0,
          0.00983,
          0.775,
          0.552,
          0.00058,
          0.811,
          0.278,
          0.00899,
          0.000501,
          0.0142,
          0.687,
          0.184,
          0.753,
          0.107,
          0.00641,
          0.00193,
          0.859,
          0.0271
         ],
         "z": [
          0.294,
          0.586,
          0.234,
          0.258,
          0.42,
          0.142,
          0.387,
          0.759,
          0.132,
          0.528,
          0.221,
          0.144,
          0.19,
          0.526,
          0.343,
          0.0649,
          0.224,
          0.303,
          0.335,
          0.347,
          0.0391,
          0.115,
          0.342,
          0.643,
          0.615,
          0.315,
          0.44,
          0.403,
          0.0781,
          0.49,
          0.442,
          0.192,
          0.401,
          0.7,
          0.246,
          0.147,
          0.67,
          0.474,
          0.317,
          0.765,
          0.452,
          0.232,
          0.169,
          0.405,
          0.203,
          0.0558,
          0.212,
          0.507,
          0.753,
          0.721
         ]
        },
        {
         "hovertemplate": "class=Trance Classics_music.csv<br>danceability=%{x}<br>instrumentalness=%{y}<br>valence=%{z}<extra></extra>",
         "legendgroup": "Trance Classics_music.csv",
         "marker": {
          "color": "blue",
          "symbol": "circle"
         },
         "mode": "markers",
         "name": "Trance Classics_music.csv",
         "scene": "scene",
         "showlegend": true,
         "type": "scatter3d",
         "x": [
          0.591,
          0.576,
          0.49,
          0.78,
          0.606,
          0.663,
          0.652,
          0.614,
          0.617,
          0.777,
          0.542,
          0.683,
          0.578,
          0.511,
          0.569,
          0.611,
          0.608,
          0.536,
          0.561,
          0.709,
          0.644,
          0.594,
          0.48,
          0.726,
          0.65,
          0.717,
          0.477,
          0.52,
          0.663,
          0.747,
          0.604,
          0.405,
          0.557,
          0.707,
          0.548,
          0.708,
          0.444,
          0.602,
          0.545,
          0.732,
          0.543,
          0.408,
          0.521,
          0.477,
          0.526,
          0.441,
          0.495,
          0.505,
          0.433,
          0.552
         ],
         "y": [
          0.699,
          0.49,
          0.939,
          0.36,
          0.882,
          0.703,
          0.00887,
          0.0354,
          0.0455,
          0.865,
          0.84,
          0.768,
          0.412,
          0.83,
          0.834,
          0.0782,
          0.726,
          0.74,
          0.736,
          0.766,
          0.517,
          0.936,
          0.789,
          0.897,
          0.647,
          0.144,
          0.959,
          0.827,
          0.787,
          0.902,
          0.813,
          0.961,
          0.747,
          0.916,
          0.829,
          0.818,
          0.943,
          0.638,
          0.0572,
          0.953,
          0.808,
          0.0281,
          0.19,
          0.902,
          0.77,
          0.0651,
          0.000303,
          0.0000789,
          0.648,
          0.0013
         ],
         "z": [
          0.588,
          0.303,
          0.367,
          0.564,
          0.393,
          0.843,
          0.561,
          0.644,
          0.267,
          0.493,
          0.0735,
          0.305,
          0.667,
          0.235,
          0.504,
          0.445,
          0.506,
          0.346,
          0.334,
          0.684,
          0.531,
          0.298,
          0.298,
          0.0657,
          0.241,
          0.539,
          0.333,
          0.0385,
          0.212,
          0.738,
          0.519,
          0.0571,
          0.498,
          0.674,
          0.137,
          0.55,
          0.141,
          0.0366,
          0.29,
          0.325,
          0.734,
          0.039,
          0.156,
          0.704,
          0.0581,
          0.258,
          0.314,
          0.208,
          0.503,
          0.677
         ]
        }
       ],
       "layout": {
        "legend": {
         "title": {
          "text": "class"
         },
         "tracegroupgap": 0
        },
        "scene": {
         "domain": {
          "x": [
           0,
           1
          ],
          "y": [
           0,
           1
          ]
         },
         "xaxis": {
          "title": {
           "text": "danceability"
          }
         },
         "yaxis": {
          "title": {
           "text": "instrumentalness"
          }
         },
         "zaxis": {
          "title": {
           "text": "valence"
          }
         }
        },
        "template": {
         "data": {
          "bar": [
           {
            "error_x": {
             "color": "#2a3f5f"
            },
            "error_y": {
             "color": "#2a3f5f"
            },
            "marker": {
             "line": {
              "color": "#E5ECF6",
              "width": 0.5
             },
             "pattern": {
              "fillmode": "overlay",
              "size": 10,
              "solidity": 0.2
             }
            },
            "type": "bar"
           }
          ],
          "barpolar": [
           {
            "marker": {
             "line": {
              "color": "#E5ECF6",
              "width": 0.5
             },
             "pattern": {
              "fillmode": "overlay",
              "size": 10,
              "solidity": 0.2
             }
            },
            "type": "barpolar"
           }
          ],
          "carpet": [
           {
            "aaxis": {
             "endlinecolor": "#2a3f5f",
             "gridcolor": "white",
             "linecolor": "white",
             "minorgridcolor": "white",
             "startlinecolor": "#2a3f5f"
            },
            "baxis": {
             "endlinecolor": "#2a3f5f",
             "gridcolor": "white",
             "linecolor": "white",
             "minorgridcolor": "white",
             "startlinecolor": "#2a3f5f"
            },
            "type": "carpet"
           }
          ],
          "choropleth": [
           {
            "colorbar": {
             "outlinewidth": 0,
             "ticks": ""
            },
            "type": "choropleth"
           }
          ],
          "contour": [
           {
            "colorbar": {
             "outlinewidth": 0,
             "ticks": ""
            },
            "colorscale": [
             [
              0,
              "#0d0887"
             ],
             [
              0.1111111111111111,
              "#46039f"
             ],
             [
              0.2222222222222222,
              "#7201a8"
             ],
             [
              0.3333333333333333,
              "#9c179e"
             ],
             [
              0.4444444444444444,
              "#bd3786"
             ],
             [
              0.5555555555555556,
              "#d8576b"
             ],
             [
              0.6666666666666666,
              "#ed7953"
             ],
             [
              0.7777777777777778,
              "#fb9f3a"
             ],
             [
              0.8888888888888888,
              "#fdca26"
             ],
             [
              1,
              "#f0f921"
             ]
            ],
            "type": "contour"
           }
          ],
          "contourcarpet": [
           {
            "colorbar": {
             "outlinewidth": 0,
             "ticks": ""
            },
            "type": "contourcarpet"
           }
          ],
          "heatmap": [
           {
            "colorbar": {
             "outlinewidth": 0,
             "ticks": ""
            },
            "colorscale": [
             [
              0,
              "#0d0887"
             ],
             [
              0.1111111111111111,
              "#46039f"
             ],
             [
              0.2222222222222222,
              "#7201a8"
             ],
             [
              0.3333333333333333,
              "#9c179e"
             ],
             [
              0.4444444444444444,
              "#bd3786"
             ],
             [
              0.5555555555555556,
              "#d8576b"
             ],
             [
              0.6666666666666666,
              "#ed7953"
             ],
             [
              0.7777777777777778,
              "#fb9f3a"
             ],
             [
              0.8888888888888888,
              "#fdca26"
             ],
             [
              1,
              "#f0f921"
             ]
            ],
            "type": "heatmap"
           }
          ],
          "heatmapgl": [
           {
            "colorbar": {
             "outlinewidth": 0,
             "ticks": ""
            },
            "colorscale": [
             [
              0,
              "#0d0887"
             ],
             [
              0.1111111111111111,
              "#46039f"
             ],
             [
              0.2222222222222222,
              "#7201a8"
             ],
             [
              0.3333333333333333,
              "#9c179e"
             ],
             [
              0.4444444444444444,
              "#bd3786"
             ],
             [
              0.5555555555555556,
              "#d8576b"
             ],
             [
              0.6666666666666666,
              "#ed7953"
             ],
             [
              0.7777777777777778,
              "#fb9f3a"
             ],
             [
              0.8888888888888888,
              "#fdca26"
             ],
             [
              1,
              "#f0f921"
             ]
            ],
            "type": "heatmapgl"
           }
          ],
          "histogram": [
           {
            "marker": {
             "pattern": {
              "fillmode": "overlay",
              "size": 10,
              "solidity": 0.2
             }
            },
            "type": "histogram"
           }
          ],
          "histogram2d": [
           {
            "colorbar": {
             "outlinewidth": 0,
             "ticks": ""
            },
            "colorscale": [
             [
              0,
              "#0d0887"
             ],
             [
              0.1111111111111111,
              "#46039f"
             ],
             [
              0.2222222222222222,
              "#7201a8"
             ],
             [
              0.3333333333333333,
              "#9c179e"
             ],
             [
              0.4444444444444444,
              "#bd3786"
             ],
             [
              0.5555555555555556,
              "#d8576b"
             ],
             [
              0.6666666666666666,
              "#ed7953"
             ],
             [
              0.7777777777777778,
              "#fb9f3a"
             ],
             [
              0.8888888888888888,
              "#fdca26"
             ],
             [
              1,
              "#f0f921"
             ]
            ],
            "type": "histogram2d"
           }
          ],
          "histogram2dcontour": [
           {
            "colorbar": {
             "outlinewidth": 0,
             "ticks": ""
            },
            "colorscale": [
             [
              0,
              "#0d0887"
             ],
             [
              0.1111111111111111,
              "#46039f"
             ],
             [
              0.2222222222222222,
              "#7201a8"
             ],
             [
              0.3333333333333333,
              "#9c179e"
             ],
             [
              0.4444444444444444,
              "#bd3786"
             ],
             [
              0.5555555555555556,
              "#d8576b"
             ],
             [
              0.6666666666666666,
              "#ed7953"
             ],
             [
              0.7777777777777778,
              "#fb9f3a"
             ],
             [
              0.8888888888888888,
              "#fdca26"
             ],
             [
              1,
              "#f0f921"
             ]
            ],
            "type": "histogram2dcontour"
           }
          ],
          "mesh3d": [
           {
            "colorbar": {
             "outlinewidth": 0,
             "ticks": ""
            },
            "type": "mesh3d"
           }
          ],
          "parcoords": [
           {
            "line": {
             "colorbar": {
              "outlinewidth": 0,
              "ticks": ""
             }
            },
            "type": "parcoords"
           }
          ],
          "pie": [
           {
            "automargin": true,
            "type": "pie"
           }
          ],
          "scatter": [
           {
            "fillpattern": {
             "fillmode": "overlay",
             "size": 10,
             "solidity": 0.2
            },
            "type": "scatter"
           }
          ],
          "scatter3d": [
           {
            "line": {
             "colorbar": {
              "outlinewidth": 0,
              "ticks": ""
             }
            },
            "marker": {
             "colorbar": {
              "outlinewidth": 0,
              "ticks": ""
             }
            },
            "type": "scatter3d"
           }
          ],
          "scattercarpet": [
           {
            "marker": {
             "colorbar": {
              "outlinewidth": 0,
              "ticks": ""
             }
            },
            "type": "scattercarpet"
           }
          ],
          "scattergeo": [
           {
            "marker": {
             "colorbar": {
              "outlinewidth": 0,
              "ticks": ""
             }
            },
            "type": "scattergeo"
           }
          ],
          "scattergl": [
           {
            "marker": {
             "colorbar": {
              "outlinewidth": 0,
              "ticks": ""
             }
            },
            "type": "scattergl"
           }
          ],
          "scattermapbox": [
           {
            "marker": {
             "colorbar": {
              "outlinewidth": 0,
              "ticks": ""
             }
            },
            "type": "scattermapbox"
           }
          ],
          "scatterpolar": [
           {
            "marker": {
             "colorbar": {
              "outlinewidth": 0,
              "ticks": ""
             }
            },
            "type": "scatterpolar"
           }
          ],
          "scatterpolargl": [
           {
            "marker": {
             "colorbar": {
              "outlinewidth": 0,
              "ticks": ""
             }
            },
            "type": "scatterpolargl"
           }
          ],
          "scatterternary": [
           {
            "marker": {
             "colorbar": {
              "outlinewidth": 0,
              "ticks": ""
             }
            },
            "type": "scatterternary"
           }
          ],
          "surface": [
           {
            "colorbar": {
             "outlinewidth": 0,
             "ticks": ""
            },
            "colorscale": [
             [
              0,
              "#0d0887"
             ],
             [
              0.1111111111111111,
              "#46039f"
             ],
             [
              0.2222222222222222,
              "#7201a8"
             ],
             [
              0.3333333333333333,
              "#9c179e"
             ],
             [
              0.4444444444444444,
              "#bd3786"
             ],
             [
              0.5555555555555556,
              "#d8576b"
             ],
             [
              0.6666666666666666,
              "#ed7953"
             ],
             [
              0.7777777777777778,
              "#fb9f3a"
             ],
             [
              0.8888888888888888,
              "#fdca26"
             ],
             [
              1,
              "#f0f921"
             ]
            ],
            "type": "surface"
           }
          ],
          "table": [
           {
            "cells": {
             "fill": {
              "color": "#EBF0F8"
             },
             "line": {
              "color": "white"
             }
            },
            "header": {
             "fill": {
              "color": "#C8D4E3"
             },
             "line": {
              "color": "white"
             }
            },
            "type": "table"
           }
          ]
         },
         "layout": {
          "annotationdefaults": {
           "arrowcolor": "#2a3f5f",
           "arrowhead": 0,
           "arrowwidth": 1
          },
          "autotypenumbers": "strict",
          "coloraxis": {
           "colorbar": {
            "outlinewidth": 0,
            "ticks": ""
           }
          },
          "colorscale": {
           "diverging": [
            [
             0,
             "#8e0152"
            ],
            [
             0.1,
             "#c51b7d"
            ],
            [
             0.2,
             "#de77ae"
            ],
            [
             0.3,
             "#f1b6da"
            ],
            [
             0.4,
             "#fde0ef"
            ],
            [
             0.5,
             "#f7f7f7"
            ],
            [
             0.6,
             "#e6f5d0"
            ],
            [
             0.7,
             "#b8e186"
            ],
            [
             0.8,
             "#7fbc41"
            ],
            [
             0.9,
             "#4d9221"
            ],
            [
             1,
             "#276419"
            ]
           ],
           "sequential": [
            [
             0,
             "#0d0887"
            ],
            [
             0.1111111111111111,
             "#46039f"
            ],
            [
             0.2222222222222222,
             "#7201a8"
            ],
            [
             0.3333333333333333,
             "#9c179e"
            ],
            [
             0.4444444444444444,
             "#bd3786"
            ],
            [
             0.5555555555555556,
             "#d8576b"
            ],
            [
             0.6666666666666666,
             "#ed7953"
            ],
            [
             0.7777777777777778,
             "#fb9f3a"
            ],
            [
             0.8888888888888888,
             "#fdca26"
            ],
            [
             1,
             "#f0f921"
            ]
           ],
           "sequentialminus": [
            [
             0,
             "#0d0887"
            ],
            [
             0.1111111111111111,
             "#46039f"
            ],
            [
             0.2222222222222222,
             "#7201a8"
            ],
            [
             0.3333333333333333,
             "#9c179e"
            ],
            [
             0.4444444444444444,
             "#bd3786"
            ],
            [
             0.5555555555555556,
             "#d8576b"
            ],
            [
             0.6666666666666666,
             "#ed7953"
            ],
            [
             0.7777777777777778,
             "#fb9f3a"
            ],
            [
             0.8888888888888888,
             "#fdca26"
            ],
            [
             1,
             "#f0f921"
            ]
           ]
          },
          "colorway": [
           "#636efa",
           "#EF553B",
           "#00cc96",
           "#ab63fa",
           "#FFA15A",
           "#19d3f3",
           "#FF6692",
           "#B6E880",
           "#FF97FF",
           "#FECB52"
          ],
          "font": {
           "color": "#2a3f5f"
          },
          "geo": {
           "bgcolor": "white",
           "lakecolor": "white",
           "landcolor": "#E5ECF6",
           "showlakes": true,
           "showland": true,
           "subunitcolor": "white"
          },
          "hoverlabel": {
           "align": "left"
          },
          "hovermode": "closest",
          "mapbox": {
           "style": "light"
          },
          "paper_bgcolor": "white",
          "plot_bgcolor": "#E5ECF6",
          "polar": {
           "angularaxis": {
            "gridcolor": "white",
            "linecolor": "white",
            "ticks": ""
           },
           "bgcolor": "#E5ECF6",
           "radialaxis": {
            "gridcolor": "white",
            "linecolor": "white",
            "ticks": ""
           }
          },
          "scene": {
           "xaxis": {
            "backgroundcolor": "#E5ECF6",
            "gridcolor": "white",
            "gridwidth": 2,
            "linecolor": "white",
            "showbackground": true,
            "ticks": "",
            "zerolinecolor": "white"
           },
           "yaxis": {
            "backgroundcolor": "#E5ECF6",
            "gridcolor": "white",
            "gridwidth": 2,
            "linecolor": "white",
            "showbackground": true,
            "ticks": "",
            "zerolinecolor": "white"
           },
           "zaxis": {
            "backgroundcolor": "#E5ECF6",
            "gridcolor": "white",
            "gridwidth": 2,
            "linecolor": "white",
            "showbackground": true,
            "ticks": "",
            "zerolinecolor": "white"
           }
          },
          "shapedefaults": {
           "line": {
            "color": "#2a3f5f"
           }
          },
          "ternary": {
           "aaxis": {
            "gridcolor": "white",
            "linecolor": "white",
            "ticks": ""
           },
           "baxis": {
            "gridcolor": "white",
            "linecolor": "white",
            "ticks": ""
           },
           "bgcolor": "#E5ECF6",
           "caxis": {
            "gridcolor": "white",
            "linecolor": "white",
            "ticks": ""
           }
          },
          "title": {
           "x": 0.05
          },
          "xaxis": {
           "automargin": true,
           "gridcolor": "white",
           "linecolor": "white",
           "ticks": "",
           "title": {
            "standoff": 15
           },
           "zerolinecolor": "white",
           "zerolinewidth": 2
          },
          "yaxis": {
           "automargin": true,
           "gridcolor": "white",
           "linecolor": "white",
           "ticks": "",
           "title": {
            "standoff": 15
           },
           "zerolinecolor": "white",
           "zerolinewidth": 2
          }
         }
        },
        "title": {
         "text": "3D Scatter Plot Colored by Subcategory"
        }
       }
      }
     },
     "metadata": {},
     "output_type": "display_data"
    }
   ],
   "source": [
    "import plotly.express as px\n",
    "import pandas as pd\n",
    "\n",
    "# Assuming combined_df is already defined as the provided DataFrame\n",
    "# Define the custom color sequence\n",
    "custom_colors = ['lightgreen', 'darkgreen', 'limegreen', 'lightblue', 'darkblue', 'blue']\n",
    "\n",
    "# Create a mapping of classes to the custom colors\n",
    "color_discrete_map = {\n",
    "    'Acid House_music.csv': custom_colors[0],\n",
    "    'Acid Techno Mix_music.csv': custom_colors[1],\n",
    "    'Acid Trance Mix_music.csv': custom_colors[2],\n",
    "    'House Classics Mix_music.csv': custom_colors[3],\n",
    "    'Techno Mix_music.csv': custom_colors[4],\n",
    "    'Trance Classics_music.csv': custom_colors[5]\n",
    "}\n",
    "\n",
    "# Plot using Plotly Express\n",
    "fig = px.scatter_3d(\n",
    "    combined_df, \n",
    "    x='danceability', \n",
    "    y='instrumentalness', \n",
    "    z='valence', \n",
    "    color='class',\n",
    "    title='3D Scatter Plot Colored by Subcategory',\n",
    "    color_discrete_map=color_discrete_map\n",
    ")\n",
    "\n",
    "fig.show()\n"
   ]
  },
  {
   "cell_type": "code",
   "execution_count": 91,
   "metadata": {},
   "outputs": [
    {
     "data": {
      "application/vnd.plotly.v1+json": {
       "config": {
        "plotlyServerURL": "https://plot.ly"
       },
       "data": [
        {
         "hovertemplate": "class=Acid House_music.csv<br>danceability=%{x}<br>instrumentalness=%{y}<br>valence=%{z}<extra></extra>",
         "legendgroup": "Acid House_music.csv",
         "marker": {
          "color": "#636efa",
          "symbol": "circle"
         },
         "mode": "markers",
         "name": "Acid House_music.csv",
         "scene": "scene",
         "showlegend": true,
         "type": "scatter3d",
         "x": [
          0.7286
         ],
         "y": [
          0.5776234800000001
         ],
         "z": [
          0.6488280000000001
         ]
        },
        {
         "hovertemplate": "class=Acid Techno Mix_music.csv<br>danceability=%{x}<br>instrumentalness=%{y}<br>valence=%{z}<extra></extra>",
         "legendgroup": "Acid Techno Mix_music.csv",
         "marker": {
          "color": "#EF553B",
          "symbol": "circle"
         },
         "mode": "markers",
         "name": "Acid Techno Mix_music.csv",
         "scene": "scene",
         "showlegend": true,
         "type": "scatter3d",
         "x": [
          0.6447142857142857
         ],
         "y": [
          0.6305783673469388
         ],
         "z": [
          0.2714591836734694
         ]
        },
        {
         "hovertemplate": "class=Acid Trance Mix_music.csv<br>danceability=%{x}<br>instrumentalness=%{y}<br>valence=%{z}<extra></extra>",
         "legendgroup": "Acid Trance Mix_music.csv",
         "marker": {
          "color": "#00cc96",
          "symbol": "circle"
         },
         "mode": "markers",
         "name": "Acid Trance Mix_music.csv",
         "scene": "scene",
         "showlegend": true,
         "type": "scatter3d",
         "x": [
          0.701
         ],
         "y": [
          0.7145071428571429
         ],
         "z": [
          0.3765714285714286
         ]
        },
        {
         "hovertemplate": "class=House Classics Mix_music.csv<br>danceability=%{x}<br>instrumentalness=%{y}<br>valence=%{z}<extra></extra>",
         "legendgroup": "House Classics Mix_music.csv",
         "marker": {
          "color": "#ab63fa",
          "symbol": "circle"
         },
         "mode": "markers",
         "name": "House Classics Mix_music.csv",
         "scene": "scene",
         "showlegend": true,
         "type": "scatter3d",
         "x": [
          0.7078
         ],
         "y": [
          0.27990143879999996
         ],
         "z": [
          0.6667799999999999
         ]
        },
        {
         "hovertemplate": "class=Techno Mix_music.csv<br>danceability=%{x}<br>instrumentalness=%{y}<br>valence=%{z}<extra></extra>",
         "legendgroup": "Techno Mix_music.csv",
         "marker": {
          "color": "#FFA15A",
          "symbol": "circle"
         },
         "mode": "markers",
         "name": "Techno Mix_music.csv",
         "scene": "scene",
         "showlegend": true,
         "type": "scatter3d",
         "x": [
          0.6835
         ],
         "y": [
          0.34728591999999997
         ],
         "z": [
          0.359638
         ]
        },
        {
         "hovertemplate": "class=Trance Classics_music.csv<br>danceability=%{x}<br>instrumentalness=%{y}<br>valence=%{z}<extra></extra>",
         "legendgroup": "Trance Classics_music.csv",
         "marker": {
          "color": "#19d3f3",
          "symbol": "circle"
         },
         "mode": "markers",
         "name": "Trance Classics_music.csv",
         "scene": "scene",
         "showlegend": true,
         "type": "scatter3d",
         "x": [
          0.5849
         ],
         "y": [
          0.605021038
         ],
         "z": [
          0.38591000000000003
         ]
        }
       ],
       "layout": {
        "legend": {
         "title": {
          "text": "class"
         },
         "tracegroupgap": 0
        },
        "scene": {
         "domain": {
          "x": [
           0,
           1
          ],
          "y": [
           0,
           1
          ]
         },
         "xaxis": {
          "title": {
           "text": "danceability"
          }
         },
         "yaxis": {
          "title": {
           "text": "instrumentalness"
          }
         },
         "zaxis": {
          "title": {
           "text": "valence"
          }
         }
        },
        "template": {
         "data": {
          "bar": [
           {
            "error_x": {
             "color": "#2a3f5f"
            },
            "error_y": {
             "color": "#2a3f5f"
            },
            "marker": {
             "line": {
              "color": "#E5ECF6",
              "width": 0.5
             },
             "pattern": {
              "fillmode": "overlay",
              "size": 10,
              "solidity": 0.2
             }
            },
            "type": "bar"
           }
          ],
          "barpolar": [
           {
            "marker": {
             "line": {
              "color": "#E5ECF6",
              "width": 0.5
             },
             "pattern": {
              "fillmode": "overlay",
              "size": 10,
              "solidity": 0.2
             }
            },
            "type": "barpolar"
           }
          ],
          "carpet": [
           {
            "aaxis": {
             "endlinecolor": "#2a3f5f",
             "gridcolor": "white",
             "linecolor": "white",
             "minorgridcolor": "white",
             "startlinecolor": "#2a3f5f"
            },
            "baxis": {
             "endlinecolor": "#2a3f5f",
             "gridcolor": "white",
             "linecolor": "white",
             "minorgridcolor": "white",
             "startlinecolor": "#2a3f5f"
            },
            "type": "carpet"
           }
          ],
          "choropleth": [
           {
            "colorbar": {
             "outlinewidth": 0,
             "ticks": ""
            },
            "type": "choropleth"
           }
          ],
          "contour": [
           {
            "colorbar": {
             "outlinewidth": 0,
             "ticks": ""
            },
            "colorscale": [
             [
              0,
              "#0d0887"
             ],
             [
              0.1111111111111111,
              "#46039f"
             ],
             [
              0.2222222222222222,
              "#7201a8"
             ],
             [
              0.3333333333333333,
              "#9c179e"
             ],
             [
              0.4444444444444444,
              "#bd3786"
             ],
             [
              0.5555555555555556,
              "#d8576b"
             ],
             [
              0.6666666666666666,
              "#ed7953"
             ],
             [
              0.7777777777777778,
              "#fb9f3a"
             ],
             [
              0.8888888888888888,
              "#fdca26"
             ],
             [
              1,
              "#f0f921"
             ]
            ],
            "type": "contour"
           }
          ],
          "contourcarpet": [
           {
            "colorbar": {
             "outlinewidth": 0,
             "ticks": ""
            },
            "type": "contourcarpet"
           }
          ],
          "heatmap": [
           {
            "colorbar": {
             "outlinewidth": 0,
             "ticks": ""
            },
            "colorscale": [
             [
              0,
              "#0d0887"
             ],
             [
              0.1111111111111111,
              "#46039f"
             ],
             [
              0.2222222222222222,
              "#7201a8"
             ],
             [
              0.3333333333333333,
              "#9c179e"
             ],
             [
              0.4444444444444444,
              "#bd3786"
             ],
             [
              0.5555555555555556,
              "#d8576b"
             ],
             [
              0.6666666666666666,
              "#ed7953"
             ],
             [
              0.7777777777777778,
              "#fb9f3a"
             ],
             [
              0.8888888888888888,
              "#fdca26"
             ],
             [
              1,
              "#f0f921"
             ]
            ],
            "type": "heatmap"
           }
          ],
          "heatmapgl": [
           {
            "colorbar": {
             "outlinewidth": 0,
             "ticks": ""
            },
            "colorscale": [
             [
              0,
              "#0d0887"
             ],
             [
              0.1111111111111111,
              "#46039f"
             ],
             [
              0.2222222222222222,
              "#7201a8"
             ],
             [
              0.3333333333333333,
              "#9c179e"
             ],
             [
              0.4444444444444444,
              "#bd3786"
             ],
             [
              0.5555555555555556,
              "#d8576b"
             ],
             [
              0.6666666666666666,
              "#ed7953"
             ],
             [
              0.7777777777777778,
              "#fb9f3a"
             ],
             [
              0.8888888888888888,
              "#fdca26"
             ],
             [
              1,
              "#f0f921"
             ]
            ],
            "type": "heatmapgl"
           }
          ],
          "histogram": [
           {
            "marker": {
             "pattern": {
              "fillmode": "overlay",
              "size": 10,
              "solidity": 0.2
             }
            },
            "type": "histogram"
           }
          ],
          "histogram2d": [
           {
            "colorbar": {
             "outlinewidth": 0,
             "ticks": ""
            },
            "colorscale": [
             [
              0,
              "#0d0887"
             ],
             [
              0.1111111111111111,
              "#46039f"
             ],
             [
              0.2222222222222222,
              "#7201a8"
             ],
             [
              0.3333333333333333,
              "#9c179e"
             ],
             [
              0.4444444444444444,
              "#bd3786"
             ],
             [
              0.5555555555555556,
              "#d8576b"
             ],
             [
              0.6666666666666666,
              "#ed7953"
             ],
             [
              0.7777777777777778,
              "#fb9f3a"
             ],
             [
              0.8888888888888888,
              "#fdca26"
             ],
             [
              1,
              "#f0f921"
             ]
            ],
            "type": "histogram2d"
           }
          ],
          "histogram2dcontour": [
           {
            "colorbar": {
             "outlinewidth": 0,
             "ticks": ""
            },
            "colorscale": [
             [
              0,
              "#0d0887"
             ],
             [
              0.1111111111111111,
              "#46039f"
             ],
             [
              0.2222222222222222,
              "#7201a8"
             ],
             [
              0.3333333333333333,
              "#9c179e"
             ],
             [
              0.4444444444444444,
              "#bd3786"
             ],
             [
              0.5555555555555556,
              "#d8576b"
             ],
             [
              0.6666666666666666,
              "#ed7953"
             ],
             [
              0.7777777777777778,
              "#fb9f3a"
             ],
             [
              0.8888888888888888,
              "#fdca26"
             ],
             [
              1,
              "#f0f921"
             ]
            ],
            "type": "histogram2dcontour"
           }
          ],
          "mesh3d": [
           {
            "colorbar": {
             "outlinewidth": 0,
             "ticks": ""
            },
            "type": "mesh3d"
           }
          ],
          "parcoords": [
           {
            "line": {
             "colorbar": {
              "outlinewidth": 0,
              "ticks": ""
             }
            },
            "type": "parcoords"
           }
          ],
          "pie": [
           {
            "automargin": true,
            "type": "pie"
           }
          ],
          "scatter": [
           {
            "fillpattern": {
             "fillmode": "overlay",
             "size": 10,
             "solidity": 0.2
            },
            "type": "scatter"
           }
          ],
          "scatter3d": [
           {
            "line": {
             "colorbar": {
              "outlinewidth": 0,
              "ticks": ""
             }
            },
            "marker": {
             "colorbar": {
              "outlinewidth": 0,
              "ticks": ""
             }
            },
            "type": "scatter3d"
           }
          ],
          "scattercarpet": [
           {
            "marker": {
             "colorbar": {
              "outlinewidth": 0,
              "ticks": ""
             }
            },
            "type": "scattercarpet"
           }
          ],
          "scattergeo": [
           {
            "marker": {
             "colorbar": {
              "outlinewidth": 0,
              "ticks": ""
             }
            },
            "type": "scattergeo"
           }
          ],
          "scattergl": [
           {
            "marker": {
             "colorbar": {
              "outlinewidth": 0,
              "ticks": ""
             }
            },
            "type": "scattergl"
           }
          ],
          "scattermapbox": [
           {
            "marker": {
             "colorbar": {
              "outlinewidth": 0,
              "ticks": ""
             }
            },
            "type": "scattermapbox"
           }
          ],
          "scatterpolar": [
           {
            "marker": {
             "colorbar": {
              "outlinewidth": 0,
              "ticks": ""
             }
            },
            "type": "scatterpolar"
           }
          ],
          "scatterpolargl": [
           {
            "marker": {
             "colorbar": {
              "outlinewidth": 0,
              "ticks": ""
             }
            },
            "type": "scatterpolargl"
           }
          ],
          "scatterternary": [
           {
            "marker": {
             "colorbar": {
              "outlinewidth": 0,
              "ticks": ""
             }
            },
            "type": "scatterternary"
           }
          ],
          "surface": [
           {
            "colorbar": {
             "outlinewidth": 0,
             "ticks": ""
            },
            "colorscale": [
             [
              0,
              "#0d0887"
             ],
             [
              0.1111111111111111,
              "#46039f"
             ],
             [
              0.2222222222222222,
              "#7201a8"
             ],
             [
              0.3333333333333333,
              "#9c179e"
             ],
             [
              0.4444444444444444,
              "#bd3786"
             ],
             [
              0.5555555555555556,
              "#d8576b"
             ],
             [
              0.6666666666666666,
              "#ed7953"
             ],
             [
              0.7777777777777778,
              "#fb9f3a"
             ],
             [
              0.8888888888888888,
              "#fdca26"
             ],
             [
              1,
              "#f0f921"
             ]
            ],
            "type": "surface"
           }
          ],
          "table": [
           {
            "cells": {
             "fill": {
              "color": "#EBF0F8"
             },
             "line": {
              "color": "white"
             }
            },
            "header": {
             "fill": {
              "color": "#C8D4E3"
             },
             "line": {
              "color": "white"
             }
            },
            "type": "table"
           }
          ]
         },
         "layout": {
          "annotationdefaults": {
           "arrowcolor": "#2a3f5f",
           "arrowhead": 0,
           "arrowwidth": 1
          },
          "autotypenumbers": "strict",
          "coloraxis": {
           "colorbar": {
            "outlinewidth": 0,
            "ticks": ""
           }
          },
          "colorscale": {
           "diverging": [
            [
             0,
             "#8e0152"
            ],
            [
             0.1,
             "#c51b7d"
            ],
            [
             0.2,
             "#de77ae"
            ],
            [
             0.3,
             "#f1b6da"
            ],
            [
             0.4,
             "#fde0ef"
            ],
            [
             0.5,
             "#f7f7f7"
            ],
            [
             0.6,
             "#e6f5d0"
            ],
            [
             0.7,
             "#b8e186"
            ],
            [
             0.8,
             "#7fbc41"
            ],
            [
             0.9,
             "#4d9221"
            ],
            [
             1,
             "#276419"
            ]
           ],
           "sequential": [
            [
             0,
             "#0d0887"
            ],
            [
             0.1111111111111111,
             "#46039f"
            ],
            [
             0.2222222222222222,
             "#7201a8"
            ],
            [
             0.3333333333333333,
             "#9c179e"
            ],
            [
             0.4444444444444444,
             "#bd3786"
            ],
            [
             0.5555555555555556,
             "#d8576b"
            ],
            [
             0.6666666666666666,
             "#ed7953"
            ],
            [
             0.7777777777777778,
             "#fb9f3a"
            ],
            [
             0.8888888888888888,
             "#fdca26"
            ],
            [
             1,
             "#f0f921"
            ]
           ],
           "sequentialminus": [
            [
             0,
             "#0d0887"
            ],
            [
             0.1111111111111111,
             "#46039f"
            ],
            [
             0.2222222222222222,
             "#7201a8"
            ],
            [
             0.3333333333333333,
             "#9c179e"
            ],
            [
             0.4444444444444444,
             "#bd3786"
            ],
            [
             0.5555555555555556,
             "#d8576b"
            ],
            [
             0.6666666666666666,
             "#ed7953"
            ],
            [
             0.7777777777777778,
             "#fb9f3a"
            ],
            [
             0.8888888888888888,
             "#fdca26"
            ],
            [
             1,
             "#f0f921"
            ]
           ]
          },
          "colorway": [
           "#636efa",
           "#EF553B",
           "#00cc96",
           "#ab63fa",
           "#FFA15A",
           "#19d3f3",
           "#FF6692",
           "#B6E880",
           "#FF97FF",
           "#FECB52"
          ],
          "font": {
           "color": "#2a3f5f"
          },
          "geo": {
           "bgcolor": "white",
           "lakecolor": "white",
           "landcolor": "#E5ECF6",
           "showlakes": true,
           "showland": true,
           "subunitcolor": "white"
          },
          "hoverlabel": {
           "align": "left"
          },
          "hovermode": "closest",
          "mapbox": {
           "style": "light"
          },
          "paper_bgcolor": "white",
          "plot_bgcolor": "#E5ECF6",
          "polar": {
           "angularaxis": {
            "gridcolor": "white",
            "linecolor": "white",
            "ticks": ""
           },
           "bgcolor": "#E5ECF6",
           "radialaxis": {
            "gridcolor": "white",
            "linecolor": "white",
            "ticks": ""
           }
          },
          "scene": {
           "xaxis": {
            "backgroundcolor": "#E5ECF6",
            "gridcolor": "white",
            "gridwidth": 2,
            "linecolor": "white",
            "showbackground": true,
            "ticks": "",
            "zerolinecolor": "white"
           },
           "yaxis": {
            "backgroundcolor": "#E5ECF6",
            "gridcolor": "white",
            "gridwidth": 2,
            "linecolor": "white",
            "showbackground": true,
            "ticks": "",
            "zerolinecolor": "white"
           },
           "zaxis": {
            "backgroundcolor": "#E5ECF6",
            "gridcolor": "white",
            "gridwidth": 2,
            "linecolor": "white",
            "showbackground": true,
            "ticks": "",
            "zerolinecolor": "white"
           }
          },
          "shapedefaults": {
           "line": {
            "color": "#2a3f5f"
           }
          },
          "ternary": {
           "aaxis": {
            "gridcolor": "white",
            "linecolor": "white",
            "ticks": ""
           },
           "baxis": {
            "gridcolor": "white",
            "linecolor": "white",
            "ticks": ""
           },
           "bgcolor": "#E5ECF6",
           "caxis": {
            "gridcolor": "white",
            "linecolor": "white",
            "ticks": ""
           }
          },
          "title": {
           "x": 0.05
          },
          "xaxis": {
           "automargin": true,
           "gridcolor": "white",
           "linecolor": "white",
           "ticks": "",
           "title": {
            "standoff": 15
           },
           "zerolinecolor": "white",
           "zerolinewidth": 2
          },
          "yaxis": {
           "automargin": true,
           "gridcolor": "white",
           "linecolor": "white",
           "ticks": "",
           "title": {
            "standoff": 15
           },
           "zerolinecolor": "white",
           "zerolinewidth": 2
          }
         }
        },
        "title": {
         "text": "3D Scatter Plot with Means"
        }
       }
      }
     },
     "metadata": {},
     "output_type": "display_data"
    }
   ],
   "source": [
    "import pandas as pd\n",
    "import numpy as np\n",
    "import plotly.graph_objs as go\n",
    "import plotly.express as px\n",
    "\n",
    "# Calculate the mean and standard deviation for each class\n",
    "means = combined_df.groupby('class').mean()\n",
    "\n",
    "#classes = ['Breakbeat', 'Disco', 'Garage', 'Hardcore', 'House', 'Industrial', 'Techno', 'Trance']\n",
    "\n",
    "# Create a 3D scatter plot for the mean points\n",
    "mean_fig = px.scatter_3d(\n",
    "    means.reset_index(),\n",
    "    x='danceability',\n",
    "    y='instrumentalness',\n",
    "    z='valence',\n",
    "    color='class',\n",
    "    title='3D Scatter Plot with Means',\n",
    "    size_max=10,\n",
    ")\n",
    "\n",
    "# Show the plot\n",
    "mean_fig.show()\n"
   ]
  },
  {
   "cell_type": "code",
   "execution_count": 45,
   "metadata": {},
   "outputs": [
    {
     "name": "stdout",
     "output_type": "stream",
     "text": [
      "Top 3 features with highest average importance:\n",
      "            Feature  Importance\n",
      "4             tempo    0.228939\n",
      "0      danceability    0.180324\n",
      "2  instrumentalness    0.171709\n",
      "6           valence    0.152308\n"
     ]
    }
   ],
   "source": [
    "\n",
    "all_importances = pd.concat(feature_imps)\n",
    "\n",
    "# Calculate the average importance for each feature\n",
    "avg_importance = all_importances.groupby('Feature')['Importance'].mean().reset_index()\n",
    "avg_importance = avg_importance.sort_values(by='Importance', ascending=False)\n",
    "\n",
    "# Get the top 3 most important features\n",
    "top_3_features = avg_importance.head(4)\n",
    "\n",
    "# Print the results\n",
    "print(\"Top 3 features with highest average importance:\")\n",
    "print(top_3_features)"
   ]
  },
  {
   "cell_type": "code",
   "execution_count": null,
   "metadata": {},
   "outputs": [],
   "source": [
    "genre_1 = \"house\"\n",
    "genre_2 = \"techno\"\n",
    "genre_3 = \"trance\"\n",
    "genres = [genre_1, genre_2, genre_3]\n",
    "\n",
    "# # Combine datasets\n",
    "combined_df = pd.concat([pd.concat(selec_list[genres_names.index(genre_1)]),\n",
    "                          pd.concat(selec_list[genres_names.index(genre_2)]),\n",
    "                          pd.concat(selec_list[genres_names.index(genre_3)])])"
   ]
  },
  {
   "cell_type": "code",
   "execution_count": 116,
   "metadata": {},
   "outputs": [
    {
     "name": "stdout",
     "output_type": "stream",
     "text": [
      "    instrumentalness  time_signature    tempo  loudness  energy  danceability  \\\n",
      "0           0.823000               4  117.576    -6.362   0.933         0.653   \n",
      "1           0.811000               4  128.103    -6.209   0.878         0.714   \n",
      "2           0.034800               4  128.045    -8.103   0.892         0.846   \n",
      "3           0.649000               4  122.825    -8.333   0.583         0.720   \n",
      "4           0.020100               4  244.035   -15.683   0.611         0.231   \n",
      "..               ...             ...      ...       ...     ...           ...   \n",
      "45          0.065100               4  136.018    -4.755   0.930         0.441   \n",
      "46          0.000303               4  136.010    -5.663   0.935         0.495   \n",
      "47          0.000079               4  139.975    -5.712   0.945         0.505   \n",
      "48          0.648000               4  149.960    -7.908   0.879         0.433   \n",
      "49          0.001300               4  131.904    -9.854   0.740         0.552   \n",
      "\n",
      "    valence                      class  \n",
      "0     0.189       Acid House_music.csv  \n",
      "1     0.509       Acid House_music.csv  \n",
      "2     0.831       Acid House_music.csv  \n",
      "3     0.403       Acid House_music.csv  \n",
      "4     0.519       Acid House_music.csv  \n",
      "..      ...                        ...  \n",
      "45    0.258  Trance Classics_music.csv  \n",
      "46    0.314  Trance Classics_music.csv  \n",
      "47    0.208  Trance Classics_music.csv  \n",
      "48    0.503  Trance Classics_music.csv  \n",
      "49    0.677  Trance Classics_music.csv  \n",
      "\n",
      "[263 rows x 8 columns]\n"
     ]
    }
   ],
   "source": [
    "genre_1 = \"house\"\n",
    "genre_2 = \"techno\"\n",
    "genre_3 = \"trance\"\n",
    "genre_4 = \"hardcore\"\n",
    "\n",
    "genres = [genre_1, genre_2, genre_3, genre_4]\n",
    "\n",
    "# # Combine datasets\n",
    "# combined_df = pd.concat([selec_list[genres_names.index(\"house\")][0], selec_list[genres_names.index(\"techno\")][0], selec_list[genres_names.index(\"trance\")][0], selec_list[-1][4], selec_list[-1][6], selec_list[-1][7],\n",
    "#                          selec_list[genres_names.index(\"house\")][3], selec_list[genres_names.index(\"techno\")][2], selec_list[genres_names.index(\"hardcore\")][2], selec_list[-1][3]\n",
    "#                         ])\n",
    "\n",
    "combined_df = pd.concat([selec_list[genres_names.index(\"house\")][0], selec_list[genres_names.index(\"techno\")][0], selec_list[genres_names.index(\"trance\")][0], selec_list[-1][4], selec_list[-1][6], selec_list[-1][7]])\n",
    "\n",
    "genres = [\"Acid House\", \"Acid Techno\", \"Acid Trance\", \"House\", \"Techno\", \"Trance\"]\n",
    "print(combined_df)"
   ]
  },
  {
   "cell_type": "code",
   "execution_count": 119,
   "metadata": {},
   "outputs": [],
   "source": [
    "combined_df = pd.concat(selec_list[-1])"
   ]
  },
  {
   "cell_type": "code",
   "execution_count": 120,
   "metadata": {},
   "outputs": [
    {
     "name": "stderr",
     "output_type": "stream",
     "text": [
      "C:\\Users\\MTDML_WS-3\\AppData\\Local\\Temp\\ipykernel_12796\\1324462475.py:22: FutureWarning:\n",
      "\n",
      "\n",
      "\n",
      "Passing `palette` without assigning `hue` is deprecated and will be removed in v0.14.0. Assign the `x` variable to `hue` and set `legend=False` for the same effect.\n",
      "\n",
      "\n",
      "C:\\Users\\MTDML_WS-3\\AppData\\Local\\Temp\\ipykernel_12796\\1324462475.py:22: UserWarning:\n",
      "\n",
      "\n",
      "The palette list has fewer values (6) than needed (8) and will cycle, which may produce an uninterpretable plot.\n",
      "\n"
     ]
    },
    {
     "data": {
      "image/png": "[encoded data removed]",
      "text/plain": [
       "<Figure size 1400x700 with 1 Axes>"
      ]
     },
     "metadata": {},
     "output_type": "display_data"
    },
    {
     "name": "stderr",
     "output_type": "stream",
     "text": [
      "C:\\Users\\MTDML_WS-3\\AppData\\Local\\Temp\\ipykernel_12796\\1324462475.py:22: FutureWarning:\n",
      "\n",
      "\n",
      "\n",
      "Passing `palette` without assigning `hue` is deprecated and will be removed in v0.14.0. Assign the `x` variable to `hue` and set `legend=False` for the same effect.\n",
      "\n",
      "\n",
      "C:\\Users\\MTDML_WS-3\\AppData\\Local\\Temp\\ipykernel_12796\\1324462475.py:22: UserWarning:\n",
      "\n",
      "\n",
      "The palette list has fewer values (6) than needed (8) and will cycle, which may produce an uninterpretable plot.\n",
      "\n"
     ]
    },
    {
     "data": {
      "image/png": "[encoded data removed]",
      "text/plain": [
       "<Figure size 1400x700 with 1 Axes>"
      ]
     },
     "metadata": {},
     "output_type": "display_data"
    },
    {
     "name": "stderr",
     "output_type": "stream",
     "text": [
      "C:\\Users\\MTDML_WS-3\\AppData\\Local\\Temp\\ipykernel_12796\\1324462475.py:22: FutureWarning:\n",
      "\n",
      "\n",
      "\n",
      "Passing `palette` without assigning `hue` is deprecated and will be removed in v0.14.0. Assign the `x` variable to `hue` and set `legend=False` for the same effect.\n",
      "\n",
      "\n",
      "C:\\Users\\MTDML_WS-3\\AppData\\Local\\Temp\\ipykernel_12796\\1324462475.py:22: UserWarning:\n",
      "\n",
      "\n",
      "The palette list has fewer values (6) than needed (8) and will cycle, which may produce an uninterpretable plot.\n",
      "\n"
     ]
    },
    {
     "data": {
      "image/png": "[encoded data removed]",
      "text/plain": [
       "<Figure size 1400x700 with 1 Axes>"
      ]
     },
     "metadata": {},
     "output_type": "display_data"
    },
    {
     "name": "stderr",
     "output_type": "stream",
     "text": [
      "C:\\Users\\MTDML_WS-3\\AppData\\Local\\Temp\\ipykernel_12796\\1324462475.py:22: FutureWarning:\n",
      "\n",
      "\n",
      "\n",
      "Passing `palette` without assigning `hue` is deprecated and will be removed in v0.14.0. Assign the `x` variable to `hue` and set `legend=False` for the same effect.\n",
      "\n",
      "\n",
      "C:\\Users\\MTDML_WS-3\\AppData\\Local\\Temp\\ipykernel_12796\\1324462475.py:22: UserWarning:\n",
      "\n",
      "\n",
      "The palette list has fewer values (6) than needed (8) and will cycle, which may produce an uninterpretable plot.\n",
      "\n"
     ]
    },
    {
     "data": {
      "image/png": "[encoded data removed]",
      "text/plain": [
       "<Figure size 1400x700 with 1 Axes>"
      ]
     },
     "metadata": {},
     "output_type": "display_data"
    },
    {
     "name": "stderr",
     "output_type": "stream",
     "text": [
      "C:\\Users\\MTDML_WS-3\\AppData\\Local\\Temp\\ipykernel_12796\\1324462475.py:22: FutureWarning:\n",
      "\n",
      "\n",
      "\n",
      "Passing `palette` without assigning `hue` is deprecated and will be removed in v0.14.0. Assign the `x` variable to `hue` and set `legend=False` for the same effect.\n",
      "\n",
      "\n",
      "C:\\Users\\MTDML_WS-3\\AppData\\Local\\Temp\\ipykernel_12796\\1324462475.py:22: UserWarning:\n",
      "\n",
      "\n",
      "The palette list has fewer values (6) than needed (8) and will cycle, which may produce an uninterpretable plot.\n",
      "\n"
     ]
    },
    {
     "data": {
      "image/png": "[encoded data removed]",
      "text/plain": [
       "<Figure size 1400x700 with 1 Axes>"
      ]
     },
     "metadata": {},
     "output_type": "display_data"
    },
    {
     "name": "stderr",
     "output_type": "stream",
     "text": [
      "C:\\Users\\MTDML_WS-3\\AppData\\Local\\Temp\\ipykernel_12796\\1324462475.py:22: FutureWarning:\n",
      "\n",
      "\n",
      "\n",
      "Passing `palette` without assigning `hue` is deprecated and will be removed in v0.14.0. Assign the `x` variable to `hue` and set `legend=False` for the same effect.\n",
      "\n",
      "\n",
      "C:\\Users\\MTDML_WS-3\\AppData\\Local\\Temp\\ipykernel_12796\\1324462475.py:22: UserWarning:\n",
      "\n",
      "\n",
      "The palette list has fewer values (6) than needed (8) and will cycle, which may produce an uninterpretable plot.\n",
      "\n"
     ]
    },
    {
     "data": {
      "image/png": "[encoded data removed]",
      "text/plain": [
       "<Figure size 1400x700 with 1 Axes>"
      ]
     },
     "metadata": {},
     "output_type": "display_data"
    },
    {
     "name": "stderr",
     "output_type": "stream",
     "text": [
      "C:\\Users\\MTDML_WS-3\\AppData\\Local\\Temp\\ipykernel_12796\\1324462475.py:22: FutureWarning:\n",
      "\n",
      "\n",
      "\n",
      "Passing `palette` without assigning `hue` is deprecated and will be removed in v0.14.0. Assign the `x` variable to `hue` and set `legend=False` for the same effect.\n",
      "\n",
      "\n",
      "C:\\Users\\MTDML_WS-3\\AppData\\Local\\Temp\\ipykernel_12796\\1324462475.py:22: UserWarning:\n",
      "\n",
      "\n",
      "The palette list has fewer values (6) than needed (8) and will cycle, which may produce an uninterpretable plot.\n",
      "\n"
     ]
    },
    {
     "data": {
      "image/png": "[encoded data removed]",
      "text/plain": [
       "<Figure size 1400x700 with 1 Axes>"
      ]
     },
     "metadata": {},
     "output_type": "display_data"
    }
   ],
   "source": [
    "import pandas as pd\n",
    "import matplotlib.pyplot as plt\n",
    "import seaborn as sns\n",
    "\n",
    "# Assuming combined_df is already defined as the provided DataFrame\n",
    "\n",
    "# List of features to plot\n",
    "features = ['instrumentalness', 'time_signature', 'tempo', 'loudness', 'energy', 'danceability', 'valence']\n",
    "\n",
    "# List of genre titles\n",
    "\n",
    "\n",
    "# Define a color palette\n",
    "palette = sns.color_palette(\"husl\", len(genres))\n",
    "\n",
    "# Set larger font size globally for all plots\n",
    "plt.rcParams.update({'font.size': 18})\n",
    "\n",
    "# Create box plots for each feature\n",
    "for feature in features:\n",
    "    plt.figure(figsize=(14, 7))\n",
    "    sns.boxplot(data=combined_df, x='class', y=feature, palette=palette)\n",
    "    plt.xticks(ticks=range(len(genres)), labels=genres, rotation=90)\n",
    "    plt.title(f'{feature.capitalize()}', fontsize=24)  # Increase title font size\n",
    "    plt.xlabel('Genre', fontsize=18)  # Increase x-axis label font size\n",
    "    plt.ylabel(feature.capitalize(), fontsize=18)  # Increase y-axis label font size\n",
    "    plt.show()\n"
   ]
  },
  {
   "cell_type": "code",
   "execution_count": 9,
   "metadata": {},
   "outputs": [
    {
     "name": "stdout",
     "output_type": "stream",
     "text": [
      "[    Unnamed: 0                      id  \\\n",
      "0            0  56UNoQz1kXeBZeqmQbFpYe   \n",
      "1            1  0Xg68XXMRWzKQvD5S6BFvI   \n",
      "2            2  73CRQe51UEpa3B6ZG7QEsl   \n",
      "3            3  2Np6ZbVFXfhlk3Oin6i92t   \n",
      "4            4  023lag1AgeOf7YChojecRu   \n",
      "5            5  4TJUS843fKiqqIzycM74Oy   \n",
      "6            6  52erNkfUKv34u02CjcHOPj   \n",
      "7            7  3ZdAwMX7Lku81KGiqsjDeA   \n",
      "8            8  2zNuaa0jBttcqSeURO6Odt   \n",
      "9            9  1mICUTQCbRkAvGmO0cwoAz   \n",
      "10          10  5q1hpdlf8ncJUhKLyjHoHB   \n",
      "11          11  0gY2iq0xJPRoIB1PScKSw4   \n",
      "12          12  7k0ahlHosIWblaaIsEqJ8M   \n",
      "13          13  3CNwSTOreOvIasuBpgbQ2l   \n",
      "14          14  2i9Qj1Gyt8HMcLthS2bASx   \n",
      "15          15  0r8iDf65NHgFgZOGLwj5r8   \n",
      "16          16  4sIrP85JzNsDMAtQmusMWG   \n",
      "17          17  2WK1v41VpXZ66mUOMpt1nW   \n",
      "18          18  5EWFuo4ObEnfndc57sTuIo   \n",
      "19          19  5fF9T9SMqBKUvT06cn7kBR   \n",
      "20          20  7oysiJ2yYjVYzrGSmIEzME   \n",
      "21          21  158v6lUZhHjsogdUtaPpxE   \n",
      "22          22  39HccIrICWp9EBD8MunAUW   \n",
      "23          23  3VCWhe7AtBrkhour9t6dq6   \n",
      "24          24  1CxG3QsfkmcUYlxWwvOtz5   \n",
      "25          25  59kHPbwyyCApYA8RQQEuXm   \n",
      "26          26  1fGjIL2Ike4ypLQEQvQUc9   \n",
      "27          27  59QDyqLww2pxyg9ijOPO7f   \n",
      "28          28  4B5svMhrwXaCPl242LnYXN   \n",
      "29          29  0tWdRXWDUd1gWLthXgk6Dp   \n",
      "30          30  6xp1u6ZEHXX8DxJIFFrVoP   \n",
      "31          31  4yR4aIUn7U9qOIFe3j1kVG   \n",
      "32          32  1uvHcFd1osw74lBqwm8Sn0   \n",
      "33          33  6G2VETYnLl1Psobu809yQY   \n",
      "34          34  2h1Xj6D76ygKS3tu9DgIY5   \n",
      "35          35  6IC6VhpV7D8T1t037Atqpu   \n",
      "36          36  1AwROJ4qVQhTQYS9cgC8XZ   \n",
      "37          37  0dAn58pe2GWDTlqa2Th4mP   \n",
      "38          38  0agQ9vIV7NP4dntGKLcCXO   \n",
      "39          39  0SheD3EFngYkmaDnjDuMd2   \n",
      "40          40  4TY2rJmQO2z0GwJna0kbTA   \n",
      "41          41  0K2PQziTagDXHiCFPqoE82   \n",
      "42          42  2KgsImShtnuBYfKVgfbAuy   \n",
      "43          43  4DOycXfankFRhhIUvBMdFP   \n",
      "44          44  29Pqz6wtpeRWfY0SZkKbHE   \n",
      "45          45  3LbvNFkqDTrE1liGMmZBDL   \n",
      "46          46  0VU5k3vCrpqDgUygMjiFYj   \n",
      "47          47  1Ov6koHfZL43pGCDdfIoHf   \n",
      "48          48  4UYrVcOhdVQ2L0ZwYliXNH   \n",
      "49          49  2W5ERTPofQ8wVrkljfqe98   \n",
      "\n",
      "                                                 name  release_year  \\\n",
      "0                        Body Groove - Mix Mc Version          2000   \n",
      "1                                  Dust On The Bottle          1994   \n",
      "2                                            Erase Me          2022   \n",
      "3                              Flowers - Sunship Edit          2001   \n",
      "4              Gotta Get Thru This - D'N'D Radio Edit          2002   \n",
      "5                             Should've Been A Cowboy          1993   \n",
      "6                                If I Didn't Have You          2015   \n",
      "7                           Drink, Swear, Steal & Lie          1997   \n",
      "8                                        Unbelievable          1998   \n",
      "9                              Blame It on Your Heart          1993   \n",
      "10                         Sunshine - Wookie Main Mix          2001   \n",
      "11                                          Honey Bee          2011   \n",
      "12                                   She's Like Texas          2010   \n",
      "13                                              D.N.R          2021   \n",
      "14                                   Summertime Blues          1992   \n",
      "15                                What Was I Thinkin'          2003   \n",
      "16                                  Blame It On Texas          1990   \n",
      "17                                           We See U          2021   \n",
      "18                                        White Noise          2013   \n",
      "19                                     It's That Time          2023   \n",
      "20  No Good 4 Me (feat. Megaman, Romeo and Lisa Ma...          2000   \n",
      "21                                  Seoul Sonyo Sound          2023   \n",
      "22                                  Let's Go to Vegas          1995   \n",
      "23                                                You          2011   \n",
      "24                 I Left Something Turned On At Home          1996   \n",
      "25                                      Chattahoochee          1992   \n",
      "26                            When the Bassline Drops          2016   \n",
      "27                                         Rhyme Dust          2023   \n",
      "28   Taboo (feat. Shola Ama) - MJ Cole Full Vocal Mix          1999   \n",
      "29                    All I Want - Sunship Radio Edit          2004   \n",
      "30       Little Things x Gypsy Woman - L BEATS MASHUP          2023   \n",
      "31                                     Holdin' Heaven          1993   \n",
      "32                                                 25          2024   \n",
      "33                                         Piquetitos          2021   \n",
      "34                                          Slow Hand          1982   \n",
      "35                 Tequila Makes Her Clothes Fall Off          2005   \n",
      "36                             Your Love Is A Miracle          1990   \n",
      "37                                          Babycakes          2004   \n",
      "38                                    Somebody (2024)          2024   \n",
      "39                                              BLUSH          2024   \n",
      "40  Just In Case - Dub-A-Holics Roller's Revival M...          2019   \n",
      "41                                   JOY (Back On 74)          2023   \n",
      "42                                            No News          1995   \n",
      "43                                     Jacob's Ladder          1996   \n",
      "44                                       Cut Me Loose          2017   \n",
      "45                                      Shotgun Rider          2014   \n",
      "46                                    Copperhead Road          1988   \n",
      "47                                    Brother Jukebox          1990   \n",
      "48                       Bound 4 da Reload - Casualty          2000   \n",
      "49                      Body Pump - Sammy Virji Remix          2020   \n",
      "\n",
      "    instrumentalness  time_signature    tempo  loudness  energy  danceability  \\\n",
      "0           0.000006               4  132.955    -7.911   0.707         0.872   \n",
      "1           0.000006               4   99.942   -11.124   0.614         0.736   \n",
      "2           0.012400               4  132.033    -3.798   0.899         0.633   \n",
      "3           0.005470               4  131.861    -5.263   0.965         0.746   \n",
      "4           0.000122               4  133.592    -5.076   0.764         0.838   \n",
      "5           0.000001               4  133.439    -7.920   0.672         0.618   \n",
      "6           0.000000               4  172.498   -10.919   0.578         0.674   \n",
      "7           0.000000               4  103.360    -7.223   0.697         0.672   \n",
      "8           0.000000               3  158.112    -7.586   0.596         0.765   \n",
      "9           0.000000               4  149.522    -7.739   0.808         0.624   \n",
      "10          0.530000               4  137.167    -7.651   0.866         0.774   \n",
      "11          0.000001               4  205.570    -5.131   0.849         0.481   \n",
      "12          0.000000               4  156.108    -6.906   0.523         0.501   \n",
      "13          0.000002               4  135.023    -4.831   0.832         0.930   \n",
      "14          0.000062               4  160.980    -8.719   0.799         0.619   \n",
      "15          0.000006               4  164.857    -6.240   0.825         0.551   \n",
      "16          0.000000               4  155.411   -11.483   0.639         0.512   \n",
      "17          0.222000               1  134.210    -4.534   0.942         0.430   \n",
      "18          0.000215               4  119.981    -6.164   0.844         0.664   \n",
      "19          0.859000               4  147.023    -6.195   0.965         0.724   \n",
      "20          0.017500               4  134.005    -9.041   0.839         0.735   \n",
      "21          0.000828               4  130.074    -5.426   0.879         0.691   \n",
      "22          0.000000               4  176.993    -6.815   0.736         0.587   \n",
      "23          0.000000               4   95.031    -5.120   0.708         0.708   \n",
      "24          0.002670               4  151.466    -5.290   0.910         0.623   \n",
      "25          0.000000               4  174.533    -9.665   0.706         0.606   \n",
      "26          0.000352               4  132.039    -4.619   0.846         0.754   \n",
      "27          0.027100               4  128.034    -8.675   0.561         0.925   \n",
      "28          0.002960               4  129.977   -10.796   0.791         0.855   \n",
      "29          0.008630               4  134.079    -3.070   0.919         0.795   \n",
      "30          0.000007               4  126.935    -5.204   0.879         0.644   \n",
      "31          0.000000               4  188.726    -8.060   0.862         0.442   \n",
      "32          0.000000               4  134.024    -6.348   0.817         0.790   \n",
      "33          0.000166               4  170.078    -5.598   0.832         0.752   \n",
      "34          0.000000               4  106.923   -18.041   0.337         0.796   \n",
      "35          0.000001               4   93.968    -7.045   0.706         0.664   \n",
      "36          0.000058               4   93.233   -10.977   0.680         0.630   \n",
      "37          0.000003               4  137.944    -6.858   0.719         0.817   \n",
      "38          0.180000               4  130.017    -6.198   0.629         0.848   \n",
      "39          0.000007               4  134.001    -4.778   0.784         0.771   \n",
      "40          0.002640               4  133.006    -8.334   0.700         0.683   \n",
      "41          0.499000               4  136.980    -8.113   0.826         0.720   \n",
      "42          0.000000               4  116.301    -5.866   0.683         0.741   \n",
      "43          0.000000               4   77.451    -8.972   0.536         0.593   \n",
      "44          0.108000               4  121.997    -3.600   0.848         0.685   \n",
      "45          0.000004               4  167.998    -4.574   0.904         0.468   \n",
      "46          0.000101               4  162.874   -15.493   0.588         0.372   \n",
      "47          0.001030               4  141.073   -10.972   0.615         0.632   \n",
      "48          0.114000               4  133.166    -6.598   0.938         0.852   \n",
      "49          0.603000               4  130.018    -7.158   0.908         0.923   \n",
      "\n",
      "    valence   mode  \n",
      "0     0.920  Major  \n",
      "1     0.858  Major  \n",
      "2     0.485  Minor  \n",
      "3     0.915  Minor  \n",
      "4     0.924  Minor  \n",
      "5     0.705  Major  \n",
      "6     0.961  Major  \n",
      "7     0.757  Major  \n",
      "8     0.941  Major  \n",
      "9     0.880  Major  \n",
      "10    0.814  Major  \n",
      "11    0.723  Major  \n",
      "12    0.240  Major  \n",
      "13    0.807  Major  \n",
      "14    0.968  Major  \n",
      "15    0.933  Minor  \n",
      "16    0.782  Major  \n",
      "17    0.414  Major  \n",
      "18    0.902  Minor  \n",
      "19    0.753  Major  \n",
      "20    0.815  Minor  \n",
      "21    0.804  Minor  \n",
      "22    0.969  Major  \n",
      "23    0.667  Minor  \n",
      "24    0.929  Major  \n",
      "25    0.819  Major  \n",
      "26    0.489  Minor  \n",
      "27    0.721  Major  \n",
      "28    0.875  Major  \n",
      "29    0.960  Minor  \n",
      "30    0.808  Minor  \n",
      "31    0.924  Major  \n",
      "32    0.829  Minor  \n",
      "33    0.964  Major  \n",
      "34    0.858  Major  \n",
      "35    0.681  Major  \n",
      "36    0.906  Major  \n",
      "37    0.838  Major  \n",
      "38    0.586  Major  \n",
      "39    0.735  Major  \n",
      "40    0.766  Minor  \n",
      "41    0.498  Minor  \n",
      "42    0.860  Minor  \n",
      "43    0.616  Major  \n",
      "44    0.603  Minor  \n",
      "45    0.700  Major  \n",
      "46    0.705  Major  \n",
      "47    0.912  Major  \n",
      "48    0.758  Major  \n",
      "49    0.964  Major  ,     Unnamed: 0                      id  \\\n",
      "0            0  0QIYINh2AwmOmdu8CRYvlw   \n",
      "1            1  1u1Ps262k227FPAm5BVUjd   \n",
      "2            2  4UZifG6wVTl3dFIeHKLi8y   \n",
      "3            3  6jNM6fKx3WnyHbWBI9hs2r   \n",
      "4            4  1dlJQt9NLH5iFCIeiVz5lX   \n",
      "5            5  4gwF1NiLbZl2uKJDS3AX9O   \n",
      "6            6  47uhrF6IvyE2eUyyfLAEzf   \n",
      "7            7  2YrZZsYXNu449o5UhiDDXF   \n",
      "8            8  0xl13eUFdaeRMAFZV0RO8V   \n",
      "9            9  4efFlbKkwXq3rrMF5RODaI   \n",
      "10          10  3RJuptH9QoeJWzHd4ZCI0u   \n",
      "11          11  6FDYzyjteGpimiBnO06ikI   \n",
      "12          12  6TbYnMMWfdUZXQm6tZ6vib   \n",
      "13          13  3ziKJoRHiJsaoTaeBYCJBA   \n",
      "14          14  1ZVi47qX6EmLv3zhLGzoIP   \n",
      "15          15  3LuKDSqL4z1BL8HjSwxh5b   \n",
      "16          16  4XXdQctUlL1FOmHBbdLkIp   \n",
      "17          17  2HJQcyUpmUuvzS5vBAICIc   \n",
      "18          18  66hayvUbTotekKU3H4ta1f   \n",
      "19          19  4ua0IepBEISCWwF8dTJvcU   \n",
      "20          20  5JwaKuFciGErKq01IHfC9u   \n",
      "21          21  4I535HyhUhQItmH6lNC3HG   \n",
      "22          22  6qpaTfe6rCl55xEPT4F7Hp   \n",
      "23          23  1RJZLVGpBG9nNZiHRQSWTp   \n",
      "24          24  5ABDsQEkVZ1ECGPGQl6Yfr   \n",
      "25          25  2E5IP0OrSc1snoi34GgxxT   \n",
      "26          26  3sOGVdj5VPY6C2XImtlzj7   \n",
      "27          27  1oS15s7e3o4fJxpg9UR9ns   \n",
      "28          28  2qlo9lm8HSqy7T2dxiOZY6   \n",
      "29          29  6NwgbXJOrz4fDio1yeWY91   \n",
      "30          30  7E6IFutWjPq3vAvSMNIjkP   \n",
      "31          31  04OxTCLGgDKfO0MMA2lcxv   \n",
      "32          32  5osHRqrBmK2Am2FhoNm2FL   \n",
      "33          33  5qFL2uwfnGU8FccwLMgPNQ   \n",
      "34          34  3V2cgvvI483DKomiZBYsAA   \n",
      "35          35  2lLFCl7O5GWhR6RcuC4VXd   \n",
      "36          36  0Ix7doBgImhoWJfDnwezP1   \n",
      "37          37  2RpKh7kXSdO8NLrW9VQ46p   \n",
      "38          38  47qYqGPgMTh3l1PRKBHEfI   \n",
      "39          39  6jSF0FHVyrimiUPU03eC8F   \n",
      "40          40  6r7FXNO57mlZCBY6PXcZZT   \n",
      "41          41  6c9EGVj5CaOeoKd9ecMW1U   \n",
      "42          42  5k3jdIh7BpJaV1DntDQoSD   \n",
      "43          43  29RuDIip0ewe8hfnCItSC2   \n",
      "44          44  1ltFgxgeQCd8z6BPRmcNxb   \n",
      "45          45  6phWVUn5CCTCRBepIKnf6D   \n",
      "46          46  1o0xAaXY4nEaPdBGiLZdNb   \n",
      "47          47  0YRKLRc6YvrlIRBzrXiFZg   \n",
      "48          48  6CYumhM3ZVH9bItKm2PPur   \n",
      "49          49  2SSFvQBwsxeazzo7z5l9gD   \n",
      "\n",
      "                                                 name  release_year  \\\n",
      "0                                             Bonfire          2012   \n",
      "1                                      Kill EVERYBODY          2010   \n",
      "2                                            Promises          2011   \n",
      "3             Cinema (feat. Gary Go) - Skrillex Remix          2011   \n",
      "4                                  Gold (Stupid Love)          2018   \n",
      "5                  Beats Knockin (feat. Fly Boi Keno)          2015   \n",
      "6                                   Katy on a Mission          2011   \n",
      "7                                          Das Riddim          2019   \n",
      "8                                                KIKO          2015   \n",
      "9                                     Flashing Lights          2011   \n",
      "10                   Lullabies - Adventure Club Remix          2014   \n",
      "11                                         Give It Up          2014   \n",
      "12      Rock 'n' Roll (Will Take You to the Mountain)          2010   \n",
      "13                                           Doomsday          2011   \n",
      "14                                          Feel Good          2013   \n",
      "15                                        House Party          2021   \n",
      "16                                          Illmerica          2011   \n",
      "17                                     Working For It          2016   \n",
      "18               Where Are Ü Now (with Justin Bieber)          2015   \n",
      "19                                   Ghosts 'n' Stuff          2009   \n",
      "20                                         Let You Go          2011   \n",
      "21               Double Edge (feat. Sway and P Money)          2013   \n",
      "22                                        Power Glove          2013   \n",
      "23  Recess (with Kill The Noise, Fatman Scoop, and...          2014   \n",
      "24                                          Innocence          2011   \n",
      "25                                            Nothing          2019   \n",
      "26                                          Shockwave          2021   \n",
      "27                   In For The Kill - Skrillex Remix          2009   \n",
      "28                                        Crystallize          2012   \n",
      "29  Narcissistic Cannibal (feat. Skrillex & Kill t...          2011   \n",
      "30                                           0506+056          2021   \n",
      "31                                        Blind Faith          2011   \n",
      "32            Daydreamer (feat. Example) - Radio Edit          2012   \n",
      "33                                   Internet Friends          2012   \n",
      "34                            Bangarang (feat. Sirah)          2011   \n",
      "35                         Feel So Close - Nero Remix          2011   \n",
      "36                                           Sunlight          2013   \n",
      "37                        Take Ü There (feat. Kiesza)          2015   \n",
      "38                                              Unity          2015   \n",
      "39                                              Guilt          2011   \n",
      "40                                         Five Hours          2014   \n",
      "41                                Strobe - Radio Edit          2010   \n",
      "42                                         No Problem          2011   \n",
      "43                                      The Scientist          2013   \n",
      "44                                          Boss Mode          2014   \n",
      "45            Try It Out (with Alvin Risk) - Neon Mix          2014   \n",
      "46                                      Lost It - VIP          2019   \n",
      "47                          Another Day - xKore Remix          2013   \n",
      "48                                              Vault          2018   \n",
      "49               Delirious (Boneless) (feat. Kid Ink)          2014   \n",
      "\n",
      "    instrumentalness  time_signature    tempo  loudness  energy  danceability  \\\n",
      "0           0.003450               4  174.031    -3.029   0.944         0.536   \n",
      "1           0.002310               4  126.988    -3.336   0.874         0.788   \n",
      "2           0.004520               4  143.933    -4.364   0.943         0.484   \n",
      "3           0.007830               4  145.077    -3.807   0.983         0.636   \n",
      "4           0.000119               4  145.556    -3.857   0.735         0.363   \n",
      "5           0.000000               4  104.003    -1.981   0.951         0.814   \n",
      "6           0.000008               4  139.898    -5.211   0.731         0.674   \n",
      "7           0.030200               3  104.727    -3.616   0.877         0.595   \n",
      "8           0.011800               4  110.033    -6.004   0.703         0.472   \n",
      "9           0.000000               4  140.074    -5.139   0.808         0.528   \n",
      "10          0.001260               4  159.869    -5.058   0.698         0.403   \n",
      "11          0.219000               4  174.009    -2.909   0.970         0.553   \n",
      "12          0.000021               4  128.064    -1.264   0.971         0.713   \n",
      "13          0.002780               4  120.135    -4.687   0.853         0.330   \n",
      "14          0.000319               4  139.983    -7.263   0.835         0.652   \n",
      "15          0.005690               4   75.026    -4.204   0.876         0.726   \n",
      "16          0.005190               5  129.031    -4.495   0.718         0.624   \n",
      "17          0.013100               4   99.951    -6.587   0.715         0.776   \n",
      "18          0.000004               4  139.432    -4.038   0.781         0.432   \n",
      "19          0.059800               4  127.996    -6.941   0.617         0.617   \n",
      "20          0.000000               4  131.746    -3.046   0.798         0.403   \n",
      "21          0.015000               4  109.956    -4.919   0.947         0.609   \n",
      "22          0.151000               4  127.977    -2.895   0.953         0.674   \n",
      "23          0.000000               4  104.018    -2.912   0.930         0.658   \n",
      "24          0.356000               4  137.233    -5.707   0.734         0.373   \n",
      "25          0.496000               4  149.874    -3.131   0.942         0.507   \n",
      "26          0.000005               4  164.009    -2.897   0.875         0.577   \n",
      "27          0.000015               4  144.955    -5.624   0.689         0.487   \n",
      "28          0.070200               4  140.025    -8.214   0.622         0.438   \n",
      "29          0.000525               4  174.027    -5.285   0.892         0.519   \n",
      "30          0.815000               4  101.350    -1.888   0.960         0.557   \n",
      "31          0.000000               4  140.031    -4.712   0.845         0.450   \n",
      "32          0.080600               4  141.349    -5.786   0.914         0.539   \n",
      "33          0.050300               4  128.079    -3.042   0.903         0.640   \n",
      "34          0.000032               4  110.026    -2.302   0.972         0.716   \n",
      "35          0.000021               4  140.038    -3.068   0.818         0.423   \n",
      "36          0.000006               4   84.967    -6.329   0.793         0.297   \n",
      "37          0.000000               4  159.888    -1.427   0.879         0.542   \n",
      "38          0.037900               4  105.003    -3.211   0.880         0.707   \n",
      "39          0.000001               4  139.745    -4.520   0.849         0.255   \n",
      "40          0.661000               4  127.907    -2.545   0.821         0.880   \n",
      "41          0.831000               4  128.032    -7.209   0.706         0.649   \n",
      "42          0.102000               4  174.978    -5.522   0.948         0.555   \n",
      "43          0.001840               4  144.975    -5.383   0.797         0.631   \n",
      "44          0.651000               4  176.046    -2.404   0.978         0.542   \n",
      "45          0.000000               4  139.480    -2.808   0.943         0.423   \n",
      "46          0.054100               4  155.010    -1.919   0.947         0.635   \n",
      "47          0.000001               4  139.827    -4.230   0.931         0.580   \n",
      "48          0.012800               4  160.022    -1.892   0.962         0.420   \n",
      "49          0.000000               4  128.004    -4.440   0.912         0.706   \n",
      "\n",
      "    valence   mode  \n",
      "0    0.5890  Major  \n",
      "1    0.6290  Major  \n",
      "2    0.3450  Minor  \n",
      "3    0.4340  Minor  \n",
      "4    0.0721  Major  \n",
      "5    0.2640  Major  \n",
      "6    0.5070  Major  \n",
      "7    0.1610  Major  \n",
      "8    0.1700  Minor  \n",
      "9    0.2720  Minor  \n",
      "10   0.0833  Minor  \n",
      "11   0.6480  Minor  \n",
      "12   0.6760  Major  \n",
      "13   0.2010  Major  \n",
      "14   0.2320  Minor  \n",
      "15   0.5690  Major  \n",
      "16   0.1450  Minor  \n",
      "17   0.5020  Minor  \n",
      "18   0.1970  Minor  \n",
      "19   0.5170  Major  \n",
      "20   0.2890  Minor  \n",
      "21   0.6410  Major  \n",
      "22   0.3800  Major  \n",
      "23   0.1320  Minor  \n",
      "24   0.0678  Minor  \n",
      "25   0.3660  Minor  \n",
      "26   0.4110  Minor  \n",
      "27   0.4930  Minor  \n",
      "28   0.0610  Major  \n",
      "29   0.5590  Minor  \n",
      "30   0.0325  Major  \n",
      "31   0.4010  Minor  \n",
      "32   0.4320  Minor  \n",
      "33   0.1520  Minor  \n",
      "34   0.5760  Major  \n",
      "35   0.1580  Major  \n",
      "36   0.4280  Major  \n",
      "37   0.1180  Minor  \n",
      "38   0.5650  Minor  \n",
      "39   0.1540  Minor  \n",
      "40   0.5750  Minor  \n",
      "41   0.0736  Minor  \n",
      "42   0.5050  Major  \n",
      "43   0.4040  Minor  \n",
      "44   0.3130  Minor  \n",
      "45   0.1650  Major  \n",
      "46   0.5930  Minor  \n",
      "47   0.2770  Minor  \n",
      "48   0.1470  Major  \n",
      "49   0.9250  Minor  ,     Unnamed: 0                      id  \\\n",
      "0            0  24FFOpCA6bc5YoU2F3TKqS   \n",
      "1            1  2tPzQueGEjxjmBvJrYe02u   \n",
      "2            2  3Dr0xDJwXy6JkiHNJfv5zd   \n",
      "3            3  1JY6B9ILvmRla2IKKRZvnH   \n",
      "4            4  6oNZ0WxqptE7V0qpjtyJ4a   \n",
      "5            5  5yHvGn616eJSHay3d2SuyR   \n",
      "6            6  575ViHchpSUjfTLCQPdE49   \n",
      "7            7  11BUFxLtMAVUtJaTnNK8Ey   \n",
      "8            8  0vxudxUod8FTiwE6dYohiH   \n",
      "9            9  0QUavh8qOxWeGutYZHgymz   \n",
      "10          10  2U0pVx4m1Kdm1Gsjjm6iq8   \n",
      "11          11  676eXXtx6I7yxaDfXvMpjK   \n",
      "12          12  4pioeMejnqa4T3QAEqwVA3   \n",
      "13          13  6nbXYLeP21ksEQNFrHl2a2   \n",
      "14          14  3D37T7euWvVJ45evRmriIh   \n",
      "15          15  3ssJPgwPQYRRmQMvJV2hJH   \n",
      "16          16  5ZnOG96081GKWdYzICCzIu   \n",
      "17          17  31ZO9XuKt48Qb2eUTBynd2   \n",
      "18          18  2WWfjbHALIb3e7FMcj9mr4   \n",
      "19          19  3RJuptH9QoeJWzHd4ZCI0u   \n",
      "20          20  16akrYX3LKYx7b9aPGDiMd   \n",
      "21          21  46F2qArLwz8WT1qJ2bNRfR   \n",
      "22          22  17ejRbr6B8l9zdqgCZsn4m   \n",
      "23          23  17Efhyf4A96n0EFXKeB7Ya   \n",
      "24          24  3ZoLqdyYnMNIYi4iMTD17u   \n",
      "25          25  786ymAh5BmHoIpvjyrvjXk   \n",
      "26          26  1dlJQt9NLH5iFCIeiVz5lX   \n",
      "27          27  1TFC1wutiIHQQ9buf8bxQI   \n",
      "28          28  4s5kizLw0McJRd4rBG06B4   \n",
      "29          29  59wlTaYOL5tDUgXnbBQ3my   \n",
      "30          30  2qlo9lm8HSqy7T2dxiOZY6   \n",
      "31          31  2AygMLiFGcIqJ5IZH3pOQV   \n",
      "32          32  5poevcmYCOZ8uZQnUuOPxC   \n",
      "33          33  4TIkSdsNSfqpuq6ZYvCjAz   \n",
      "34          34  61sor95BL63MCvZYgKK8KM   \n",
      "35          35  07FMnItEdDXZ2WAgNR9n6a   \n",
      "36          36  4UZifG6wVTl3dFIeHKLi8y   \n",
      "37          37  0AuFxpp4TJyybt9vv5fUnQ   \n",
      "38          38  0j7yF7CURZTm6rnJWOWIoV   \n",
      "39          39  4qxUFzBKlmP98kIRKFszju   \n",
      "40          40  6VpRQDOM7nQ6viuVUSXWGn   \n",
      "41          41  3TO4rCwrEgzkH20pG7DK4G   \n",
      "42          42  1kQ0aj0mnjd5xKrYKLZo64   \n",
      "43          43  1nV6VafLPuRSsXgbDY3i6L   \n",
      "44          44  1XP0VR8KMArstV37bfzkt8   \n",
      "45          45  2zh01m4PiHaZz4BAm0NRxs   \n",
      "46          46  6f1oG9hTx3NETgV6q4rkw5   \n",
      "47          47  3LxG9HkMMFP0MZuiw3O2rF   \n",
      "\n",
      "                                             name  release_year  \\\n",
      "0                Just For A Moment (feat. Iselin)          2019   \n",
      "1                 Lonely (with Chandler Leighton)          2019   \n",
      "2                                 Wish It Was You          2021   \n",
      "3                                     Sad Machine          2014   \n",
      "4                                           Falls          2017   \n",
      "5                              Better Than Heaven          2020   \n",
      "6                                           Empty          2024   \n",
      "7            golden hour - ILLENIUM & NURKO Remix          2022   \n",
      "8                         Say It - Illenium Remix          2017   \n",
      "9                                          Unsure          2024   \n",
      "10                                      Strangers          2014   \n",
      "11                      Bye Bye (feat. Ivy Adara)          2019   \n",
      "12   Sad Songs (with Said The Sky & Annika Wells)          2019   \n",
      "13                                  Drifting Away          2022   \n",
      "14                                Better With You          2019   \n",
      "15                                    Die For You          2018   \n",
      "16             The Thrill - Porter Robinson Remix          2015   \n",
      "17                                      Carry You          2024   \n",
      "18                                  Line Of Sight          2017   \n",
      "19               Lullabies - Adventure Club Remix          2014   \n",
      "20                               Nothing For Free          2021   \n",
      "21                   Youth - Adventure Club Remix          2013   \n",
      "22  Nobody Compares To You (feat. Katie Pearlman)          2019   \n",
      "23                        Crashing (feat. Bahari)          2019   \n",
      "24                                             21          2024   \n",
      "25                             Goodbye To A World          2014   \n",
      "26                             Gold (Stupid Love)          2018   \n",
      "27                   Better Apart (feat. Dresage)          2019   \n",
      "28                               Wherever You Are          2024   \n",
      "29                                 A Moment Apart          2017   \n",
      "30                                    Crystallize          2012   \n",
      "31              You Got To Go - Seven Lions Remix          2012   \n",
      "32                                         Always          2017   \n",
      "33     All You Need To Know (feat. Calle Lehmann)          2019   \n",
      "34                           Pray (feat. Kameron)          2019   \n",
      "35                            Would You Even Know          2023   \n",
      "36                                       Promises          2011   \n",
      "37                                           Home          2018   \n",
      "38                                     Losing You          2017   \n",
      "39        Lights - Bassnectar Remix - Bonus Track          2011   \n",
      "40                             We Will Meet Again          2022   \n",
      "41                After You (feat. Calle Lehmann)          2022   \n",
      "42                         Blood (with Foy Vance)          2019   \n",
      "43                                 One Last Dance          2022   \n",
      "44                                        Wake Up          2018   \n",
      "45                  Tie Me Down (with Elley Duhé)          2019   \n",
      "46                                  Take You Down          2019   \n",
      "47      Good Things Fall Apart (with Jon Bellion)          2019   \n",
      "\n",
      "    instrumentalness  time_signature    tempo  loudness  energy  danceability  \\\n",
      "0           0.000018               4  144.037    -6.343   0.776         0.536   \n",
      "1           0.000004               4   92.930    -4.630   0.402         0.451   \n",
      "2           0.000000               4  124.957    -3.928   0.616         0.644   \n",
      "3           0.000001               4   88.519    -4.902   0.706         0.470   \n",
      "4           0.000123               4  160.928    -6.027   0.696         0.391   \n",
      "5           0.000000               4  150.066    -6.112   0.793         0.472   \n",
      "6           0.000584               4  126.967    -4.018   0.919         0.495   \n",
      "7           0.000000               4  126.003    -4.382   0.771         0.453   \n",
      "8           0.005370               4  150.007    -4.469   0.765         0.496   \n",
      "9           0.000000               4  130.054    -4.891   0.725         0.597   \n",
      "10          0.000002               4  129.967    -7.429   0.697         0.579   \n",
      "11          0.000000               4  148.017    -3.601   0.781         0.612   \n",
      "12          0.000000               4  144.912    -6.291   0.571         0.532   \n",
      "13          0.000000               4  127.884    -4.067   0.623         0.543   \n",
      "14          0.000069               4  102.043    -4.872   0.752         0.571   \n",
      "15          0.070000               4   74.978    -0.763   0.889         0.150   \n",
      "16          0.000212               4   79.982    -5.394   0.380         0.469   \n",
      "17          0.000000               4  126.992    -5.608   0.737         0.505   \n",
      "18          0.001390               4  180.230    -6.357   0.728         0.408   \n",
      "19          0.001260               4  159.869    -5.058   0.698         0.403   \n",
      "20          0.003170               4  160.071    -4.759   0.920         0.469   \n",
      "21          0.000492               4  139.980    -6.631   0.550         0.530   \n",
      "22          0.000000               4  104.911    -4.735   0.764         0.590   \n",
      "23          0.000000               4   95.995    -6.138   0.681         0.582   \n",
      "24          0.000000               4  144.025    -4.907   0.720         0.478   \n",
      "25          0.109000               3   95.979    -7.194   0.350         0.444   \n",
      "26          0.000119               4  145.556    -3.857   0.735         0.363   \n",
      "27          0.000054               4  149.974    -4.564   0.702         0.490   \n",
      "28          0.000000               4  127.014    -5.865   0.632         0.545   \n",
      "29          0.693000               4  119.988    -7.903   0.665         0.406   \n",
      "30          0.070200               4  140.025    -8.214   0.622         0.438   \n",
      "31          0.000003               4  140.037    -6.297   0.752         0.477   \n",
      "32          0.000000               4  173.846    -5.761   0.612         0.491   \n",
      "33          0.000000               4  139.929    -6.019   0.729         0.530   \n",
      "34          0.000015               4  145.919    -4.049   0.694         0.487   \n",
      "35          0.000000               4   95.924    -2.514   0.804         0.505   \n",
      "36          0.004520               4  143.933    -4.364   0.943         0.484   \n",
      "37          0.000010               4   75.588    -2.473   0.799         0.380   \n",
      "38          0.691000               3  185.999    -6.366   0.702         0.501   \n",
      "39          0.685000               4  140.005    -4.883   0.800         0.530   \n",
      "40          0.006500               4  134.870    -6.455   0.786         0.401   \n",
      "41          0.000000               4  145.050    -3.811   0.802         0.511   \n",
      "42          0.001400               4   75.192    -4.547   0.896         0.358   \n",
      "43          0.033500               4  119.993    -6.972   0.719         0.713   \n",
      "44          0.000000               4  145.133    -3.167   0.668         0.331   \n",
      "45          0.000000               4   98.976    -2.292   0.845         0.608   \n",
      "46          0.000148               4  169.638    -3.900   0.657         0.275   \n",
      "47          0.000000               4  144.010    -5.416   0.603         0.643   \n",
      "\n",
      "    valence   mode  \n",
      "0    0.4140  Minor  \n",
      "1    0.1290  Major  \n",
      "2    0.4670  Minor  \n",
      "3    0.3270  Minor  \n",
      "4    0.1850  Major  \n",
      "5    0.1810  Minor  \n",
      "6    0.1410  Minor  \n",
      "7    0.0754  Minor  \n",
      "8    0.4240  Major  \n",
      "9    0.6230  Minor  \n",
      "10   0.4900  Minor  \n",
      "11   0.5400  Major  \n",
      "12   0.4750  Major  \n",
      "13   0.1710  Major  \n",
      "14   0.2500  Major  \n",
      "15   0.3610  Minor  \n",
      "16   0.3020  Minor  \n",
      "17   0.3520  Minor  \n",
      "18   0.1690  Major  \n",
      "19   0.0833  Minor  \n",
      "20   0.7870  Minor  \n",
      "21   0.2080  Minor  \n",
      "22   0.3310  Major  \n",
      "23   0.2730  Major  \n",
      "24   0.3120  Minor  \n",
      "25   0.0973  Major  \n",
      "26   0.0721  Major  \n",
      "27   0.2590  Minor  \n",
      "28   0.2970  Major  \n",
      "29   0.0758  Minor  \n",
      "30   0.0610  Major  \n",
      "31   0.1380  Minor  \n",
      "32   0.2790  Major  \n",
      "33   0.2190  Major  \n",
      "34   0.2870  Minor  \n",
      "35   0.2530  Major  \n",
      "36   0.3450  Minor  \n",
      "37   0.1810  Major  \n",
      "38   0.1150  Major  \n",
      "39   0.3240  Major  \n",
      "40   0.2640  Minor  \n",
      "41   0.4660  Major  \n",
      "42   0.1000  Minor  \n",
      "43   0.2400  Major  \n",
      "44   0.1520  Minor  \n",
      "45   0.3220  Major  \n",
      "46   0.2190  Major  \n",
      "47   0.4200  Major  ,     Unnamed: 0                      id  \\\n",
      "0            0  7oysiJ2yYjVYzrGSmIEzME   \n",
      "1            1  4TY2rJmQO2z0GwJna0kbTA   \n",
      "2            2  4ht8o7Y7ThWfIwl9XfKrj9   \n",
      "3            3  5bdqJdmCvdzYDojfA5BSR3   \n",
      "4            4  56UNoQz1kXeBZeqmQbFpYe   \n",
      "5            5  2Np6ZbVFXfhlk3Oin6i92t   \n",
      "6            6  5q1hpdlf8ncJUhKLyjHoHB   \n",
      "7            7  20t3pWQ6aB5YyloO6RDcBT   \n",
      "8            8  5vFzo22CEKiz3wLkkp6CRk   \n",
      "9            9  0tWdRXWDUd1gWLthXgk6Dp   \n",
      "10          10  43wPkKQ5SB5xAVCPTjX6Iq   \n",
      "11          11  4UYrVcOhdVQ2L0ZwYliXNH   \n",
      "12          12  023lag1AgeOf7YChojecRu   \n",
      "13          13  2NdCMXN5d7zVIwgaARacmy   \n",
      "14          14  7h3NIIz8I6boBSTDAIBSD9   \n",
      "15          15  1yclhzJfclEDk1gEpey3qE   \n",
      "16          16  3X3Grn6VFw7VBpQ3Lz9eM2   \n",
      "17          17  5NUCLEAAQKkP3OoCt19jrK   \n",
      "18          18  2WUfAzFxTEKzLwOlAkH73k   \n",
      "19          19  3NBzLCAP9CagVDIuZz33Gu   \n",
      "20          20  4bMQyPA5ehOOwqHH39ZDG4   \n",
      "21          21  1II9AzqnbWYXiSiPZnNV8O   \n",
      "22          22  4B5svMhrwXaCPl242LnYXN   \n",
      "23          23  74y9q95NblVSvnurtU62WR   \n",
      "24          24  1NKimrpZUVYV4i05sYUmNg   \n",
      "25          25  2W5ERTPofQ8wVrkljfqe98   \n",
      "26          26  6ztI9zfPNMhocBJcXbeEqt   \n",
      "27          27  6QpiBpYwFtR4M6QEG7XLXn   \n",
      "28          28  0dAn58pe2GWDTlqa2Th4mP   \n",
      "29          29  3adlYoDVaJwbEXUNwWgYMG   \n",
      "30          30  5c7nBAWXI1xckBpzidinE5   \n",
      "31          31  6EhN3DxLOZl1KzeYy3bMsl   \n",
      "32          32  1YyptH7T6YIfRAb6F4BO3Y   \n",
      "33          33  7suoBBSRfE60HFswwZfDlc   \n",
      "34          34  4Iqv8Bk1aWihDEkkpzJZsC   \n",
      "35          35  5L0jJD6T7uCgAyvxbKYw56   \n",
      "36          36  7lXc5EL3gvq6CyN5pFiUCB   \n",
      "37          37  4AKCoLOLMiQarelQL9HOmd   \n",
      "38          38  2iRrXQt5jG30HnYDw9A5R9   \n",
      "39          39  2eykBfpmgFbhsg5u5MLhhN   \n",
      "40          40  0ddocRPMXOv7fetWC82cnI   \n",
      "41          41  3cKp31LN8sWIDPDaEnyQF0   \n",
      "42          42  31zfZJPP6bIwgCb5hBsr71   \n",
      "43          43  2ZdBKCs47s8LxMUPU499vc   \n",
      "\n",
      "                                                 name  release_year  \\\n",
      "0   No Good 4 Me (feat. Megaman, Romeo and Lisa Ma...          2000   \n",
      "1   Just In Case - Dub-A-Holics Roller's Revival M...          2019   \n",
      "2                                              Lately          2018   \n",
      "3                                 P.S (Burga Boy Mix)          2009   \n",
      "4                        Body Groove - Mix Mc Version          2000   \n",
      "5                              Flowers - Sunship Edit          2001   \n",
      "6                          Sunshine - Wookie Main Mix          2001   \n",
      "7                               Last One - Radio Edit          2023   \n",
      "8                                 U & I - Virgo Remix          2018   \n",
      "9                     All I Want - Sunship Radio Edit          2004   \n",
      "10                                   Suzanne's Groove          2023   \n",
      "11                       Bound 4 da Reload - Casualty          2000   \n",
      "12             Gotta Get Thru This - D'N'D Radio Edit          2002   \n",
      "13                                      Don't Hurt Me          2023   \n",
      "14                                Runaway - TRC Remix          2018   \n",
      "15                      Fuck Me Pumps - MJ Cole Remix          2003   \n",
      "16                                          Want Love          2022   \n",
      "17                                              Crush          2023   \n",
      "18                                  I'm Leaving Remix          2018   \n",
      "19                                          Dominator          2023   \n",
      "20                   Thong Song - Artful Dodger Remix          1999   \n",
      "21                                      Drop the Bomb          2018   \n",
      "22   Taboo (feat. Shola Ama) - MJ Cole Full Vocal Mix          1999   \n",
      "23                 All Over This Party - salute Remix          2022   \n",
      "24                            Its Over Now - Main Mix          2005   \n",
      "25                      Body Pump - Sammy Virji Remix          2020   \n",
      "26                                              Honey          2024   \n",
      "27         Spin Spin Sugar - Armand's Dark Garage Mix          1998   \n",
      "28                                          Babycakes          2004   \n",
      "29                                     Wobbler Part 3          2018   \n",
      "30                      To Deserve You (Original Mix)          2010   \n",
      "31                                   Up Middle Finger          2000   \n",
      "32                                           Memories          2018   \n",
      "33              Run to Me (Club Asylum Vocal) - Remix          2020   \n",
      "34                                        Heartbroken          2015   \n",
      "35                                      It's Over Now          2005   \n",
      "36             Ripped In 2 Minutes - Original 12' Mix          2005   \n",
      "37                                                Why          2023   \n",
      "38                   8 Days a Week - Sunship 12\" Edit          2001   \n",
      "39             Love Shy - Kristine Blond X James Hype          2017   \n",
      "40                                       Badboy Tunes          2018   \n",
      "41                                            Badbwoy          2018   \n",
      "42                   Sambuca (The Return) - Radio Mix          2008   \n",
      "43      Clint Eastwood - Ed Case / Sweetie Irie Refix          2001   \n",
      "\n",
      "    instrumentalness  time_signature    tempo  loudness  energy  danceability  \\\n",
      "0           0.017500               4  134.005    -9.041   0.839         0.735   \n",
      "1           0.002640               4  133.006    -8.334   0.700         0.683   \n",
      "2           0.477000               4  142.015    -8.813   0.574         0.696   \n",
      "3           0.000222               4  140.008    -4.541   0.849         0.762   \n",
      "4           0.000006               4  132.955    -7.911   0.707         0.872   \n",
      "5           0.005470               4  131.861    -5.263   0.965         0.746   \n",
      "6           0.530000               4  137.167    -7.651   0.866         0.774   \n",
      "7           0.247000               4  129.111    -9.109   0.588         0.692   \n",
      "8           0.152000               4  137.018    -6.588   0.752         0.778   \n",
      "9           0.008630               4  134.079    -3.070   0.919         0.795   \n",
      "10          0.598000               4  130.031    -8.093   0.716         0.739   \n",
      "11          0.114000               4  133.166    -6.598   0.938         0.852   \n",
      "12          0.000122               4  133.592    -5.076   0.764         0.838   \n",
      "13          0.097500               4  133.995    -6.846   0.963         0.594   \n",
      "14          0.034600               4  143.019    -8.187   0.504         0.705   \n",
      "15          0.000922               4  132.068    -7.355   0.918         0.856   \n",
      "16          0.793000               4  127.943    -8.265   0.943         0.755   \n",
      "17          0.000021               4  130.120    -6.711   0.821         0.792   \n",
      "18          0.000000               4  138.052    -6.674   0.582         0.829   \n",
      "19          0.036900               4  132.003    -3.138   0.993         0.682   \n",
      "20          0.000290               4  133.978    -5.387   0.753         0.780   \n",
      "21          0.000000               4  138.086    -5.826   0.831         0.730   \n",
      "22          0.002960               4  129.977   -10.796   0.791         0.855   \n",
      "23          0.701000               4  134.013    -7.012   0.756         0.793   \n",
      "24          0.000161               4  135.000    -8.448   0.959         0.794   \n",
      "25          0.603000               4  130.018    -7.158   0.908         0.923   \n",
      "26          0.836000               4  135.994    -5.855   0.831         0.804   \n",
      "27          0.308000               4  129.012    -4.812   0.959         0.737   \n",
      "28          0.000003               4  137.944    -6.858   0.719         0.817   \n",
      "29          0.000000               4  139.768    -7.696   0.700         0.615   \n",
      "30          0.015100               4  129.967    -6.215   0.951         0.586   \n",
      "31          0.003830               4  134.006    -9.522   0.676         0.811   \n",
      "32          0.031300               4  140.016    -6.441   0.616         0.883   \n",
      "33          0.169000               4  137.792    -7.257   0.795         0.760   \n",
      "34          0.000624               4  139.918    -8.549   0.442         0.775   \n",
      "35          0.000396               4  131.053    -6.807   0.924         0.596   \n",
      "36          0.280000               4  129.126    -6.907   0.917         0.696   \n",
      "37          0.112000               4  134.981   -10.689   0.785         0.805   \n",
      "38          0.000216               4  134.008    -5.168   0.722         0.855   \n",
      "39          0.000021               4  125.024    -4.086   0.877         0.809   \n",
      "40          0.000000               4  139.964    -5.611   0.958         0.766   \n",
      "41          0.717000               4  132.987    -6.661   0.841         0.880   \n",
      "42          0.002150               4  129.046    -7.414   0.767         0.885   \n",
      "43          0.000253               4  131.908    -4.802   0.711         0.820   \n",
      "\n",
      "    valence   mode  \n",
      "0     0.815  Minor  \n",
      "1     0.766  Minor  \n",
      "2     0.899  Major  \n",
      "3     0.694  Major  \n",
      "4     0.920  Major  \n",
      "5     0.915  Minor  \n",
      "6     0.814  Major  \n",
      "7     0.489  Major  \n",
      "8     0.713  Minor  \n",
      "9     0.960  Minor  \n",
      "10    0.336  Minor  \n",
      "11    0.758  Major  \n",
      "12    0.924  Minor  \n",
      "13    0.862  Major  \n",
      "14    0.531  Minor  \n",
      "15    0.768  Major  \n",
      "16    0.876  Major  \n",
      "17    0.950  Minor  \n",
      "18    0.795  Major  \n",
      "19    0.964  Major  \n",
      "20    0.966  Minor  \n",
      "21    0.878  Minor  \n",
      "22    0.875  Major  \n",
      "23    0.788  Minor  \n",
      "24    0.782  Major  \n",
      "25    0.964  Major  \n",
      "26    0.397  Major  \n",
      "27    0.531  Major  \n",
      "28    0.838  Major  \n",
      "29    0.881  Minor  \n",
      "30    0.854  Major  \n",
      "31    0.425  Major  \n",
      "32    0.911  Minor  \n",
      "33    0.965  Minor  \n",
      "34    0.695  Minor  \n",
      "35    0.679  Major  \n",
      "36    0.962  Minor  \n",
      "37    0.464  Minor  \n",
      "38    0.973  Major  \n",
      "39    0.689  Major  \n",
      "40    0.913  Minor  \n",
      "41    0.503  Major  \n",
      "42    0.915  Minor  \n",
      "43    0.905  Major  ,     Unnamed: 0                      id  \\\n",
      "0            0  0dAn58pe2GWDTlqa2Th4mP   \n",
      "1            1  4UYrVcOhdVQ2L0ZwYliXNH   \n",
      "2            2  2W5ERTPofQ8wVrkljfqe98   \n",
      "3            3  5NUCLEAAQKkP3OoCt19jrK   \n",
      "4            4  56UNoQz1kXeBZeqmQbFpYe   \n",
      "5            5  1yclhzJfclEDk1gEpey3qE   \n",
      "6            6  1fGjIL2Ike4ypLQEQvQUc9   \n",
      "7            7  55jxzrIhEupVy1l6RDJaO5   \n",
      "8            8  5liQj4sVRmEEESvvcb64o8   \n",
      "9            9  023lag1AgeOf7YChojecRu   \n",
      "10          10  4F53yuj2CawwIGo0D2gDj8   \n",
      "11          11  0tWdRXWDUd1gWLthXgk6Dp   \n",
      "12          12  7oysiJ2yYjVYzrGSmIEzME   \n",
      "13          13  7FNcb05eBgScWaEEvJRKiw   \n",
      "14          14  3ephDj6oyipEAQqoQk9uZb   \n",
      "15          15  4xr4YruIAUzVZ4vrurqHYB   \n",
      "16          16  0K2PQziTagDXHiCFPqoE82   \n",
      "17          17  2ZdBKCs47s8LxMUPU499vc   \n",
      "18          18  5EWFuo4ObEnfndc57sTuIo   \n",
      "19          19  3urYUGRvToBI4u87OzsSMZ   \n",
      "20          20  0RwSkUIgsowQ6MU1NNVSA7   \n",
      "21          21  6QpiBpYwFtR4M6QEG7XLXn   \n",
      "22          22  54KCXjzkieeuv6L0fzL0CG   \n",
      "23          23  74y9q95NblVSvnurtU62WR   \n",
      "24          24  7I63krPum3VHEKQYk4SsE9   \n",
      "25          25  6EhN3DxLOZl1KzeYy3bMsl   \n",
      "26          26  6ztI9zfPNMhocBJcXbeEqt   \n",
      "27          27  4B5svMhrwXaCPl242LnYXN   \n",
      "28          28  4TY2rJmQO2z0GwJna0kbTA   \n",
      "29          29  6c21bVRfGC8IOXvQVQ2UTb   \n",
      "30          30  158v6lUZhHjsogdUtaPpxE   \n",
      "31          31  5Hn2XgOJmhFfFLWLUz4MQB   \n",
      "32          32  6xp1u6ZEHXX8DxJIFFrVoP   \n",
      "33          33  4zsmbCgzPCS93IWeZlnBSZ   \n",
      "34          34  5q1hpdlf8ncJUhKLyjHoHB   \n",
      "35          35  7HFkxGzL9Opf1vMlaokRqC   \n",
      "36          36  3CNwSTOreOvIasuBpgbQ2l   \n",
      "37          37  1bqKID4CLYP2wyBkUgqcp2   \n",
      "38          38  6kyuywi2Df7hmMBX1ET4Hx   \n",
      "39          39  11M8c9SHQYpd8DOrmcu25k   \n",
      "40          40  3cCjEDTIWSNr5stzGhiRWI   \n",
      "41          41  5oLhOAETTDk8p8bb19ChwJ   \n",
      "42          42  2Np6ZbVFXfhlk3Oin6i92t   \n",
      "43          43  7suoBBSRfE60HFswwZfDlc   \n",
      "44          44  2aYryJEl86lIZWCS6X1CUm   \n",
      "45          45  4jf9aWVk63e8c8lC7HABbK   \n",
      "46          46  7I1K3OqS6aQi4J9uanR9x1   \n",
      "47          47  4AKCoLOLMiQarelQL9HOmd   \n",
      "48          48  7oNVwDPwKsWDJ72WnFUAXV   \n",
      "49          49  0u44OLsmgPHU56Dq9tsEOD   \n",
      "\n",
      "                                                 name  release_year  \\\n",
      "0                                           Babycakes          2004   \n",
      "1                        Bound 4 da Reload - Casualty          2000   \n",
      "2                       Body Pump - Sammy Virji Remix          2020   \n",
      "3                                               Crush          2023   \n",
      "4                        Body Groove - Mix Mc Version          2000   \n",
      "5                       Fuck Me Pumps - MJ Cole Remix          2003   \n",
      "6                             When the Bassline Drops          2016   \n",
      "7                                            You & Me          2013   \n",
      "8                       Wearing My Rolex - Radio Edit          2008   \n",
      "9              Gotta Get Thru This - D'N'D Radio Edit          2002   \n",
      "10              The Way Things Were - Joe Hertz Remix          2024   \n",
      "11                    All I Want - Sunship Radio Edit          2004   \n",
      "12  No Good 4 Me (feat. Megaman, Romeo and Lisa Ma...          2000   \n",
      "13         Lights On (feat. Ms Dynamite) - Single Mix          2011   \n",
      "14           Love (Goodbyes Reprise) - Conducta Remix          2019   \n",
      "15                     LEFT TO RIGHT (33 Below Remix)          2023   \n",
      "16                                   JOY (Back On 74)          2023   \n",
      "17      Clint Eastwood - Ed Case / Sweetie Irie Refix          2001   \n",
      "18                                        White Noise          2013   \n",
      "19                                            beachin          2022   \n",
      "20                                           Together          2012   \n",
      "21         Spin Spin Sugar - Armand's Dark Garage Mix          1998   \n",
      "22                          Migraine Skank - Main Mix          2009   \n",
      "23                 All Over This Party - salute Remix          2022   \n",
      "24                               Has It Come to This?          2002   \n",
      "25                                   Up Middle Finger          2000   \n",
      "26                                              Honey          2024   \n",
      "27   Taboo (feat. Shola Ama) - MJ Cole Full Vocal Mix          1999   \n",
      "28  Just In Case - Dub-A-Holics Roller's Revival M...          2019   \n",
      "29                                 Forbidden Feelingz          2024   \n",
      "30                                  Seoul Sonyo Sound          2023   \n",
      "31                                            Sparkle          2024   \n",
      "32       Little Things x Gypsy Woman - L BEATS MASHUP          2023   \n",
      "33                                           You & Me          2013   \n",
      "34                         Sunshine - Wookie Main Mix          2001   \n",
      "35                                            My Vibe          2023   \n",
      "36                                              D.N.R          2021   \n",
      "37                       Shake Ur Body - Original Mix          2005   \n",
      "38  Twentyfourseven (feat. Melanie Blatt) - Radio ...          2000   \n",
      "39                  Beg for You (feat. Rina Sawayama)          2022   \n",
      "40                                       Dy-Na-Mi-Tee          2002   \n",
      "41                    Like To Party! (The Badger Bus)          2023   \n",
      "42                             Flowers - Sunship Edit          2001   \n",
      "43              Run to Me (Club Asylum Vocal) - Remix          2020   \n",
      "44                  The Cure & The Cause - Radio Edit          2006   \n",
      "45                                     Broke My Heart          2024   \n",
      "46                                Last Time (VIP Mix)          2020   \n",
      "47                                                Why          2023   \n",
      "48  Renegade Master (Back Once Again) [Hutcher Remix]          2021   \n",
      "49                                         Speed Love          2023   \n",
      "\n",
      "    instrumentalness  time_signature    tempo  loudness  energy  danceability  \\\n",
      "0           0.000003               4  137.944    -6.858   0.719         0.817   \n",
      "1           0.114000               4  133.166    -6.598   0.938         0.852   \n",
      "2           0.603000               4  130.018    -7.158   0.908         0.923   \n",
      "3           0.000021               4  130.120    -6.711   0.821         0.792   \n",
      "4           0.000006               4  132.955    -7.911   0.707         0.872   \n",
      "5           0.000922               4  132.068    -7.355   0.918         0.856   \n",
      "6           0.000352               4  132.039    -4.619   0.846         0.754   \n",
      "7           0.174000               4  130.006    -4.104   0.875         0.743   \n",
      "8           0.000482               4  131.942    -6.884   0.716         0.876   \n",
      "9           0.000122               4  133.592    -5.076   0.764         0.838   \n",
      "10          0.000344               4  126.013    -7.268   0.708         0.865   \n",
      "11          0.008630               4  134.079    -3.070   0.919         0.795   \n",
      "12          0.017500               4  134.005    -9.041   0.839         0.735   \n",
      "13          0.000000               4  127.983    -3.759   0.858         0.852   \n",
      "14          0.167000               4  123.984   -11.329   0.553         0.874   \n",
      "15          0.118000               4  136.025    -3.813   0.949         0.791   \n",
      "16          0.499000               4  136.980    -8.113   0.826         0.720   \n",
      "17          0.000253               4  131.908    -4.802   0.711         0.820   \n",
      "18          0.000215               4  119.981    -6.164   0.844         0.664   \n",
      "19          0.001100               4   87.010    -9.664   0.637         0.666   \n",
      "20          0.854000               4  139.726    -5.747   0.822         0.556   \n",
      "21          0.308000               4  129.012    -4.812   0.959         0.737   \n",
      "22          0.000002               5  166.692    -5.630   0.766         0.435   \n",
      "23          0.701000               4  134.013    -7.012   0.756         0.793   \n",
      "24          0.000000               4  130.017    -4.795   0.841         0.702   \n",
      "25          0.003830               4  134.006    -9.522   0.676         0.811   \n",
      "26          0.836000               4  135.994    -5.855   0.831         0.804   \n",
      "27          0.002960               4  129.977   -10.796   0.791         0.855   \n",
      "28          0.002640               4  133.006    -8.334   0.700         0.683   \n",
      "29          0.157000               5  108.982    -7.364   0.796         0.512   \n",
      "30          0.000828               4  130.074    -5.426   0.879         0.691   \n",
      "31          0.000106               4  123.977    -4.589   0.838         0.732   \n",
      "32          0.000007               4  126.935    -5.204   0.879         0.644   \n",
      "33          0.319000               4  129.991    -5.097   0.854         0.777   \n",
      "34          0.530000               4  137.167    -7.651   0.866         0.774   \n",
      "35          0.452000               4  128.029    -8.220   0.712         0.825   \n",
      "36          0.000002               4  135.023    -4.831   0.832         0.930   \n",
      "37          0.002800               4  175.027    -5.907   0.871         0.571   \n",
      "38          0.008300               4  104.002    -7.295   0.838         0.642   \n",
      "39          0.000003               4  128.036    -5.091   0.945         0.788   \n",
      "40          0.000000               4  158.475    -8.615   0.576         0.543   \n",
      "41          0.910000               4  136.011    -3.557   0.773         0.789   \n",
      "42          0.005470               4  131.861    -5.263   0.965         0.746   \n",
      "43          0.169000               4  137.792    -7.257   0.795         0.760   \n",
      "44          0.631000               4  126.995    -8.068   0.804         0.733   \n",
      "45          0.822000               4  140.025    -5.504   0.795         0.814   \n",
      "46          0.004890               4  127.991    -7.469   0.675         0.927   \n",
      "47          0.112000               4  134.981   -10.689   0.785         0.805   \n",
      "48          0.260000               4  130.063    -6.774   0.892         0.820   \n",
      "49          0.000001               4   86.949    -2.102   0.851         0.724   \n",
      "\n",
      "    valence   mode  \n",
      "0     0.838  Major  \n",
      "1     0.758  Major  \n",
      "2     0.964  Major  \n",
      "3     0.950  Minor  \n",
      "4     0.920  Major  \n",
      "5     0.768  Major  \n",
      "6     0.489  Minor  \n",
      "7     0.692  Minor  \n",
      "8     0.755  Major  \n",
      "9     0.924  Minor  \n",
      "10    0.746  Minor  \n",
      "11    0.960  Minor  \n",
      "12    0.815  Minor  \n",
      "13    0.824  Minor  \n",
      "14    0.621  Minor  \n",
      "15    0.630  Major  \n",
      "16    0.498  Minor  \n",
      "17    0.905  Major  \n",
      "18    0.902  Minor  \n",
      "19    0.841  Minor  \n",
      "20    0.808  Major  \n",
      "21    0.531  Major  \n",
      "22    0.663  Minor  \n",
      "23    0.788  Minor  \n",
      "24    0.882  Minor  \n",
      "25    0.425  Major  \n",
      "26    0.397  Major  \n",
      "27    0.875  Major  \n",
      "28    0.766  Minor  \n",
      "29    0.551  Minor  \n",
      "30    0.804  Minor  \n",
      "31    0.874  Minor  \n",
      "32    0.808  Minor  \n",
      "33    0.601  Minor  \n",
      "34    0.814  Major  \n",
      "35    0.736  Minor  \n",
      "36    0.807  Major  \n",
      "37    0.371  Minor  \n",
      "38    0.805  Minor  \n",
      "39    0.466  Major  \n",
      "40    0.597  Minor  \n",
      "41    0.889  Minor  \n",
      "42    0.915  Minor  \n",
      "43    0.965  Minor  \n",
      "44    0.924  Minor  \n",
      "45    0.742  Minor  \n",
      "46    0.904  Major  \n",
      "47    0.464  Minor  \n",
      "48    0.895  Major  \n",
      "49    0.719  Minor  ,     Unnamed: 0                      id  \\\n",
      "0            0  5liQj4sVRmEEESvvcb64o8   \n",
      "1            1  4WYRFY0yFa2s1WeX0w84z6   \n",
      "2            2  2jjsIpj4OG68TpojNlZcE6   \n",
      "3            3  3zHDEq168So8DGWNZG9uvT   \n",
      "4            4  2DfRgLfkNb8nU1wMcMK0fD   \n",
      "5            5  4P8dRfSz0LBgyWfjod6v3J   \n",
      "6            6  6MTWym8B2gGMb9qtZsrVEu   \n",
      "7            7  2wVKfgW9jK2cHBEq2q6bpQ   \n",
      "8            8  4wHkV6OpCanrNg2PRNhWjM   \n",
      "9            9  35M4cbE6QoUF5b3SlOR9GS   \n",
      "10          10  4DIBmvk0dnu9M3TAQxNtMx   \n",
      "11          11  63bsPe8aayiERVIgTV9EBS   \n",
      "12          12  5wIjM4q7oIgiLqn8Qfoyxh   \n",
      "13          13  0kOx8xSNt75Kzdzb41TpyG   \n",
      "14          14  7oFQIrkxp7OPe8lS9WgwtZ   \n",
      "15          15  1MChJEwnf4stDJpmo638r5   \n",
      "16          16  1iyHmWrxqIny9qHoa9968V   \n",
      "17          17  5Z1EX2sRJk1e8tQofsFnVW   \n",
      "18          18  1GljONHNvhA1lVr9jmTVkd   \n",
      "19          19  26MSYS2FTeimd4lbXG48ji   \n",
      "20          20  4kqaKtLcoUXQhlapdJAvBC   \n",
      "21          21  3OXDXFNsmCCKx7YZk2Emi9   \n",
      "22          22  0RwSkUIgsowQ6MU1NNVSA7   \n",
      "23          23  5tcyPxd27DWYW3FRSPFddH   \n",
      "24          24  38QySjPydNYNOXfsKJDw3f   \n",
      "25          25  6CTrCqvZzjFj7PqEZM0Vjd   \n",
      "26          26  3AzPJhlOL94UGoF6PM75q0   \n",
      "27          27  46pZkfJiFbBOmtaEb0quym   \n",
      "28          28  0UYKSIjIUiO1T3BBuCeTVF   \n",
      "29          29  15KC3dbhLApMz6YnuT3gjn   \n",
      "30          30  5HeJByGM7j6zu77LnD6VqV   \n",
      "31          31  3etxao6xSDEqllkBjMtbhu   \n",
      "32          32  79MeA7V0mJxfl8N0xi15zL   \n",
      "33          33  5EFJeiRZ0jkxau2EBDWpbW   \n",
      "34          34  6sFgkTRDX7sAD8u0l2Fvzm   \n",
      "35          35  3YI1vkcbfXZRvOJK3GHc0d   \n",
      "36          36  0UZvF6KJhjpUawO1ifNvF4   \n",
      "37          37  5VSr6oJo1R47b8ogp1ps2K   \n",
      "38          38  6i8w8Zdud22ehgJrrzqIVi   \n",
      "39          39  0VcgLoEMA06AKqPxxj2YQs   \n",
      "40          40  4qKH52mSWmYVA65DWsYRdh   \n",
      "41          41  6ROFzwu3tbB6mxpW9Gt1YU   \n",
      "42          42  09xfX1ythe7aA0QAgaDpXf   \n",
      "43          43  5Yto0m8wbJ3vKLxO0SjEZb   \n",
      "44          44  0mFrbJniEwJcqzq3FQD14s   \n",
      "45          45  6MmcXmpXBeqY640DLNHPKW   \n",
      "46          46  2H3k1TAcWxtdLJ3wSOQng9   \n",
      "47          47  6GkFcz1YNlGwDVyGSgwp3k   \n",
      "48          48  0H9WQbyHO5FHchgtADVf4R   \n",
      "\n",
      "                                                 name  release_year  \\\n",
      "0                       Wearing My Rolex - Radio Edit          2008   \n",
      "1                                            Gun Lean          2018   \n",
      "2                               Flowers (Say My Name)          2022   \n",
      "3                            POW 2011 - Original Edit          2011   \n",
      "4                                   She's A 10 But...          2022   \n",
      "5                                             Shut Up          2017   \n",
      "6                                              Jungle          2010   \n",
      "7                                  Can’t Feel My Face          2022   \n",
      "8                                Baby (feat. Ashanti)          2022   \n",
      "9                                                Hard          2010   \n",
      "10                                        London City          2010   \n",
      "11                             Heatwave (feat. Ms. D)          2013   \n",
      "12                             Keisha & Becky - Remix          2019   \n",
      "13                              That's Not Me - Remix          2014   \n",
      "14                                          Ask Flipz          2017   \n",
      "15              Night Away (Dance) (feat. Tion Wayne)          2022   \n",
      "16                         Funny - London Bars Vol. I          2015   \n",
      "17                                             100M's          2017   \n",
      "18                                             Thrill          2022   \n",
      "19                                        Meant To Be          2024   \n",
      "20                                               Waps          2017   \n",
      "21                                           Pump 101          2022   \n",
      "22                                           Together          2012   \n",
      "23                                      When I'm 'Ere          2005   \n",
      "24                                     Doin' It Again          2011   \n",
      "25                 Love Is A Gamble (feat. Kida Kudz)          2020   \n",
      "26                                            I Swear          2008   \n",
      "27                                  Freak Of The Week          2015   \n",
      "28                                      Question Time          2017   \n",
      "29                                        P's and Q's          2005   \n",
      "30                                                War          2022   \n",
      "31                                          Lets Lurk          2016   \n",
      "32                                           Bad Luck          2020   \n",
      "33                        Still Speedin’ - Radio Edit          2011   \n",
      "34                                            Heat Up          2005   \n",
      "35                                            Monster          2010   \n",
      "36                                         Forefather          2013   \n",
      "37                               Functions On the Low          2012   \n",
      "38  Can You Hear Me? (ayayaya) (feat. Skepta, JME ...          2013   \n",
      "39  Bad Habits (feat. Tion Wayne & Central Cee) [F...          2021   \n",
      "40                                             Wasted          2022   \n",
      "41                                       Oliver Twist          2022   \n",
      "42                                          Liar Liar          2016   \n",
      "43                                              Heavy          2011   \n",
      "44          Keisha & Becky - Russ splash x Tion Wayne          2019   \n",
      "45                            Good Times - Radio Edit          2010   \n",
      "46                Mr Sheeen - Digga D x Russ Millions          2019   \n",
      "47                                          Come & Go          2022   \n",
      "48                                         The Avenue          2005   \n",
      "\n",
      "    instrumentalness  time_signature    tempo  loudness  energy  danceability  \\\n",
      "0           0.000482               4  131.942    -6.884   0.716         0.876   \n",
      "1           0.000011               4  139.962    -8.870   0.679         0.901   \n",
      "2           0.000000               4  143.052    -6.879   0.713         0.723   \n",
      "3           0.000000               4  140.122    -3.622   0.915         0.457   \n",
      "4           0.000000               5  140.044   -10.902   0.366         0.929   \n",
      "5           0.000000               4   74.456    -3.973   0.823         0.469   \n",
      "6           0.000000               4   72.776    -5.115   0.901         0.476   \n",
      "7           0.000000               4  144.012    -8.807   0.559         0.620   \n",
      "8           0.000000               4  103.836    -8.069   0.813         0.752   \n",
      "9           0.000000               4  139.802    -6.192   0.676         0.602   \n",
      "10          0.000010               4  139.719    -5.065   0.903         0.512   \n",
      "11          0.000000               4  129.275    -5.404   0.863         0.644   \n",
      "12          0.000000               4  140.969    -9.545   0.471         0.863   \n",
      "13          0.000000               4  139.007    -2.174   0.951         0.777   \n",
      "14          0.026700               4  136.973    -6.551   0.712         0.808   \n",
      "15          0.000000               4  142.077    -9.466   0.551         0.722   \n",
      "16          0.000002               4  139.962    -6.678   0.655         0.821   \n",
      "17          0.000000               4  147.081    -6.709   0.730         0.704   \n",
      "18          0.000206               4  141.042   -11.390   0.468         0.765   \n",
      "19          0.000000               4  141.995    -5.215   0.694         0.745   \n",
      "20          0.018500               4  133.933    -9.147   0.732         0.638   \n",
      "21          0.000000               4   99.192    -6.782   0.704         0.518   \n",
      "22          0.854000               4  139.726    -5.747   0.822         0.556   \n",
      "23          0.000000               4  137.105    -3.304   0.922         0.554   \n",
      "24          0.000000               4  128.041    -6.037   0.852         0.759   \n",
      "25          0.000001               4  106.007    -5.388   0.614         0.838   \n",
      "26          0.000000               4   97.424    -4.855   0.724         0.451   \n",
      "27          0.000000               4   95.028    -6.893   0.569         0.753   \n",
      "28          0.000016               4   93.129    -7.316   0.690         0.655   \n",
      "29          0.000235               5   84.458    -6.625   0.779         0.468   \n",
      "30          0.000000               4  142.099    -5.638   0.794         0.754   \n",
      "31          0.018300               4  135.070    -6.369   0.770         0.707   \n",
      "32          0.000007               4  118.103   -10.016   0.523         0.969   \n",
      "33          0.000093               4  139.991    -3.836   0.958         0.558   \n",
      "34          0.000000               4  138.083    -7.563   0.607         0.819   \n",
      "35          0.000000               4  127.963    -3.676   0.943         0.674   \n",
      "36          0.000149               4  139.982    -5.090   0.826         0.618   \n",
      "37          0.147000               4  139.961    -7.709   0.649         0.737   \n",
      "38          0.000051               4  129.978    -3.376   0.931         0.755   \n",
      "39          0.000000               4  140.042    -6.238   0.818         0.726   \n",
      "40          0.000000               4  143.000   -10.844   0.666         0.763   \n",
      "41          0.000000               4  140.045    -4.332   0.807         0.725   \n",
      "42          0.000000               5  133.149    -5.467   0.644         0.757   \n",
      "43          0.000000               4  139.874    -5.622   0.813         0.679   \n",
      "44          0.000000               4  141.042   -10.843   0.443         0.875   \n",
      "45          0.000000               4  124.983    -3.840   0.850         0.650   \n",
      "46          0.000000               4  139.173    -7.141   0.647         0.914   \n",
      "47          0.000000               4  142.852    -5.304   0.715         0.671   \n",
      "48          0.000000               4  125.443    -2.593   0.942         0.540   \n",
      "\n",
      "    valence   mode  \n",
      "0     0.755  Major  \n",
      "1     0.720  Major  \n",
      "2     0.803  Minor  \n",
      "3     0.422  Minor  \n",
      "4     0.888  Minor  \n",
      "5     0.946  Major  \n",
      "6     0.397  Minor  \n",
      "7     0.325  Minor  \n",
      "8     0.559  Minor  \n",
      "9     0.125  Major  \n",
      "10    0.389  Minor  \n",
      "11    0.642  Major  \n",
      "12    0.644  Major  \n",
      "13    0.773  Major  \n",
      "14    0.592  Minor  \n",
      "15    0.836  Minor  \n",
      "16    0.683  Major  \n",
      "17    0.753  Minor  \n",
      "18    0.447  Minor  \n",
      "19    0.649  Minor  \n",
      "20    0.393  Major  \n",
      "21    0.702  Major  \n",
      "22    0.808  Major  \n",
      "23    0.678  Minor  \n",
      "24    0.389  Minor  \n",
      "25    0.476  Major  \n",
      "26    0.725  Minor  \n",
      "27    0.490  Minor  \n",
      "28    0.309  Major  \n",
      "29    0.735  Minor  \n",
      "30    0.853  Major  \n",
      "31    0.616  Major  \n",
      "32    0.735  Minor  \n",
      "33    0.466  Major  \n",
      "34    0.788  Major  \n",
      "35    0.466  Minor  \n",
      "36    0.268  Major  \n",
      "37    0.579  Minor  \n",
      "38    0.742  Minor  \n",
      "39    0.679  Minor  \n",
      "40    0.690  Minor  \n",
      "41    0.848  Major  \n",
      "42    0.755  Minor  \n",
      "43    0.695  Major  \n",
      "44    0.717  Major  \n",
      "45    0.566  Major  \n",
      "46    0.836  Major  \n",
      "47    0.568  Major  \n",
      "48    0.659  Major  ]\n"
     ]
    }
   ],
   "source": [
    "\n",
    "print(genre_list)"
   ]
  }
 ],
 "metadata": {
  "kernelspec": {
   "display_name": "MIR",
   "language": "python",
   "name": "python3"
  },
  "language_info": {
   "codemirror_mode": {
    "name": "ipython",
    "version": 3
   },
   "file_extension": ".py",
   "mimetype": "text/x-python",
   "name": "python",
   "nbconvert_exporter": "python",
   "pygments_lexer": "ipython3",
   "version": "3.12.3"
  }
 },
 "nbformat": 4,
 "nbformat_minor": 2
}
